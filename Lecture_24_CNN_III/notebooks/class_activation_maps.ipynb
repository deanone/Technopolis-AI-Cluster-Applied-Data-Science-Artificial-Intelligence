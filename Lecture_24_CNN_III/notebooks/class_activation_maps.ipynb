{
 "cells": [
  {
   "cell_type": "markdown",
   "id": "horizontal-month",
   "metadata": {},
   "source": [
    "****Import initial required packages****"
   ]
  },
  {
   "cell_type": "code",
   "execution_count": null,
   "id": "random-winning",
   "metadata": {},
   "outputs": [],
   "source": [
    "import numpy as np\n",
    "import matplotlib.pyplot as plt"
   ]
  },
  {
   "cell_type": "markdown",
   "id": "modern-province",
   "metadata": {},
   "source": [
    "****Import TF2****"
   ]
  },
  {
   "cell_type": "code",
   "execution_count": null,
   "id": "supposed-performer",
   "metadata": {},
   "outputs": [],
   "source": [
    "import tensorflow as tf\n",
    "# required for solving issue with cuDNN\n",
    "gpu_devices = tf.config.experimental.list_physical_devices('GPU')\n",
    "for device in gpu_devices: tf.config.experimental.set_memory_growth(device, True)"
   ]
  },
  {
   "cell_type": "markdown",
   "id": "overall-communication",
   "metadata": {},
   "source": [
    "****Import Keras****"
   ]
  },
  {
   "cell_type": "code",
   "execution_count": null,
   "id": "cooperative-restoration",
   "metadata": {},
   "outputs": [],
   "source": [
    "from tensorflow import keras\n",
    "from keras.preprocessing import image\n",
    "from keras.applications.vgg16 import VGG16\n",
    "from keras.applications.vgg16 import preprocess_input, decode_predictions"
   ]
  },
  {
   "cell_type": "markdown",
   "id": "historic-dayton",
   "metadata": {},
   "source": [
    "****Import VGG16 network****"
   ]
  },
  {
   "cell_type": "code",
   "execution_count": null,
   "id": "embedded-father",
   "metadata": {},
   "outputs": [],
   "source": [
    "model = VGG16(weights='imagenet')"
   ]
  },
  {
   "cell_type": "code",
   "execution_count": null,
   "id": "general-airplane",
   "metadata": {},
   "outputs": [],
   "source": [
    "model.summary()"
   ]
  },
  {
   "cell_type": "markdown",
   "id": "plain-workstation",
   "metadata": {},
   "source": [
    "****Load image****"
   ]
  },
  {
   "cell_type": "code",
   "execution_count": null,
   "id": "usual-culture",
   "metadata": {},
   "outputs": [],
   "source": [
    "img_filename = 'dogs/dog_1.jpeg'"
   ]
  },
  {
   "cell_type": "code",
   "execution_count": null,
   "id": "visible-highway",
   "metadata": {},
   "outputs": [],
   "source": [
    "img = image.load_img(img_filename, target_size=(224, 224))"
   ]
  },
  {
   "cell_type": "code",
   "execution_count": null,
   "id": "painted-bruce",
   "metadata": {},
   "outputs": [],
   "source": [
    "plt.imshow(img)"
   ]
  },
  {
   "cell_type": "code",
   "execution_count": null,
   "id": "guided-patio",
   "metadata": {},
   "outputs": [],
   "source": [
    "x = image.img_to_array(img)"
   ]
  },
  {
   "cell_type": "code",
   "execution_count": null,
   "id": "addressed-style",
   "metadata": {},
   "outputs": [],
   "source": [
    "print(x)"
   ]
  },
  {
   "cell_type": "code",
   "execution_count": null,
   "id": "periodic-james",
   "metadata": {},
   "outputs": [],
   "source": [
    "x.shape"
   ]
  },
  {
   "cell_type": "code",
   "execution_count": null,
   "id": "available-gauge",
   "metadata": {},
   "outputs": [],
   "source": [
    "x = np.expand_dims(x, axis=0)"
   ]
  },
  {
   "cell_type": "code",
   "execution_count": null,
   "id": "oriented-southeast",
   "metadata": {},
   "outputs": [],
   "source": [
    "x.shape"
   ]
  },
  {
   "cell_type": "markdown",
   "id": "surgical-print",
   "metadata": {},
   "source": [
    "****Apply to the input image all required preprocessing steps (e.g. scaling) applied to the images on which VGG16 was trained****"
   ]
  },
  {
   "cell_type": "code",
   "execution_count": null,
   "id": "available-floor",
   "metadata": {},
   "outputs": [],
   "source": [
    "x = preprocess_input(x)"
   ]
  },
  {
   "cell_type": "code",
   "execution_count": null,
   "id": "solved-hartford",
   "metadata": {},
   "outputs": [],
   "source": [
    "print(x)"
   ]
  },
  {
   "cell_type": "code",
   "execution_count": null,
   "id": "illegal-vertical",
   "metadata": {},
   "outputs": [],
   "source": [
    "preds = model.predict(x)"
   ]
  },
  {
   "cell_type": "markdown",
   "id": "monthly-samoa",
   "metadata": {},
   "source": [
    "****Keep the top 3 predictions****"
   ]
  },
  {
   "cell_type": "code",
   "execution_count": null,
   "id": "unnecessary-london",
   "metadata": {},
   "outputs": [],
   "source": [
    "decode_predictions(preds, top=3)[0]"
   ]
  },
  {
   "cell_type": "code",
   "execution_count": null,
   "id": "appreciated-status",
   "metadata": {},
   "outputs": [],
   "source": [
    "predicted_class_index = np.argmax(preds[0])"
   ]
  },
  {
   "cell_type": "code",
   "execution_count": null,
   "id": "simplified-australian",
   "metadata": {},
   "outputs": [],
   "source": [
    "print(predicted_class_index)"
   ]
  },
  {
   "cell_type": "code",
   "execution_count": null,
   "id": "legitimate-commissioner",
   "metadata": {},
   "outputs": [],
   "source": [
    "predicted_output = model.output[:, predicted_class_index]"
   ]
  },
  {
   "cell_type": "code",
   "execution_count": null,
   "id": "aquatic-klein",
   "metadata": {},
   "outputs": [],
   "source": [
    "print(predicted_output)"
   ]
  },
  {
   "cell_type": "markdown",
   "id": "exterior-syndicate",
   "metadata": {},
   "source": [
    "****Get the last convolutional layer of the model****"
   ]
  },
  {
   "cell_type": "code",
   "execution_count": null,
   "id": "official-fraction",
   "metadata": {},
   "outputs": [],
   "source": [
    "last_conv_layer = model.get_layer('block5_conv3')"
   ]
  },
  {
   "cell_type": "code",
   "execution_count": null,
   "id": "improving-charity",
   "metadata": {},
   "outputs": [],
   "source": [
    "print(last_conv_layer)"
   ]
  },
  {
   "cell_type": "code",
   "execution_count": null,
   "id": "confident-yellow",
   "metadata": {},
   "outputs": [],
   "source": [
    "last_conv_layer.output"
   ]
  },
  {
   "cell_type": "markdown",
   "id": "mechanical-daniel",
   "metadata": {},
   "source": [
    "****Grad-CAM process****"
   ]
  },
  {
   "cell_type": "code",
   "execution_count": null,
   "id": "distributed-custody",
   "metadata": {},
   "outputs": [],
   "source": [
    "from keras import backend as K"
   ]
  },
  {
   "cell_type": "markdown",
   "id": "cultural-haiti",
   "metadata": {},
   "source": [
    "****Set function for calculating the gradient of the output w.r.t the pixels of the feature maps of the model's last convolutional layer****"
   ]
  },
  {
   "cell_type": "code",
   "execution_count": null,
   "id": "pending-stocks",
   "metadata": {},
   "outputs": [],
   "source": [
    "grads = K.gradients(predicted_output, last_conv_layer.output)[0]"
   ]
  },
  {
   "cell_type": "code",
   "execution_count": null,
   "id": "intellectual-hormone",
   "metadata": {},
   "outputs": [],
   "source": [
    "print(grads)"
   ]
  },
  {
   "cell_type": "markdown",
   "id": "difficult-fellow",
   "metadata": {},
   "source": [
    "****Apply GAP to the gradients****"
   ]
  },
  {
   "cell_type": "code",
   "execution_count": null,
   "id": "wrong-plain",
   "metadata": {},
   "outputs": [],
   "source": [
    "pooled_grads = K.mean(grads, axis=(0, 1, 2))"
   ]
  },
  {
   "cell_type": "code",
   "execution_count": null,
   "id": "annoying-merit",
   "metadata": {},
   "outputs": [],
   "source": [
    "print(pooled_grads)"
   ]
  },
  {
   "cell_type": "markdown",
   "id": "great-artist",
   "metadata": {},
   "source": [
    "****Use .function() of Keras backend for actually calculating the required outputs for a specific input****"
   ]
  },
  {
   "cell_type": "code",
   "execution_count": null,
   "id": "indie-rider",
   "metadata": {},
   "outputs": [],
   "source": [
    "f = K.function([model.input], [pooled_grads, last_conv_layer.output[0]])"
   ]
  },
  {
   "cell_type": "code",
   "execution_count": null,
   "id": "sought-tooth",
   "metadata": {},
   "outputs": [],
   "source": [
    "print(f)"
   ]
  },
  {
   "cell_type": "markdown",
   "id": "plastic-tuition",
   "metadata": {},
   "source": [
    "****Actually calculate outputs for input, i.e. execute f****"
   ]
  },
  {
   "cell_type": "code",
   "execution_count": null,
   "id": "continued-karaoke",
   "metadata": {},
   "outputs": [],
   "source": [
    "pooled_grads_value, conv_layer_output_value = f([x])"
   ]
  },
  {
   "cell_type": "code",
   "execution_count": null,
   "id": "architectural-attraction",
   "metadata": {},
   "outputs": [],
   "source": [
    "print(type(pooled_grads_value))"
   ]
  },
  {
   "cell_type": "code",
   "execution_count": null,
   "id": "loved-workplace",
   "metadata": {},
   "outputs": [],
   "source": [
    "print(pooled_grads_value.shape)"
   ]
  },
  {
   "cell_type": "code",
   "execution_count": null,
   "id": "recorded-chicken",
   "metadata": {},
   "outputs": [],
   "source": [
    "print(type(conv_layer_output_value))"
   ]
  },
  {
   "cell_type": "code",
   "execution_count": null,
   "id": "adaptive-february",
   "metadata": {},
   "outputs": [],
   "source": [
    "print(conv_layer_output_value.shape)"
   ]
  },
  {
   "cell_type": "code",
   "execution_count": null,
   "id": "intimate-limit",
   "metadata": {},
   "outputs": [],
   "source": [
    "n_channels = conv_layer_output_value.shape[-1]\n",
    "n_channels"
   ]
  },
  {
   "cell_type": "markdown",
   "id": "photographic-colon",
   "metadata": {},
   "source": [
    "****Calculate the weighted linear combination of feature maps of the last conv layer****"
   ]
  },
  {
   "cell_type": "code",
   "execution_count": null,
   "id": "brutal-boundary",
   "metadata": {},
   "outputs": [],
   "source": [
    "for i in range(n_channels):\n",
    "    conv_layer_output_value[:, :, i] *= pooled_grads_value[i]"
   ]
  },
  {
   "cell_type": "code",
   "execution_count": null,
   "id": "nasty-dallas",
   "metadata": {},
   "outputs": [],
   "source": [
    "print(conv_layer_output_value.shape)"
   ]
  },
  {
   "cell_type": "code",
   "execution_count": null,
   "id": "ahead-proxy",
   "metadata": {},
   "outputs": [],
   "source": [
    "heatmap = np.mean(conv_layer_output_value, axis=2)"
   ]
  },
  {
   "cell_type": "code",
   "execution_count": null,
   "id": "changed-arkansas",
   "metadata": {},
   "outputs": [],
   "source": [
    "print(type(heatmap))"
   ]
  },
  {
   "cell_type": "code",
   "execution_count": null,
   "id": "pacific-correction",
   "metadata": {},
   "outputs": [],
   "source": [
    "print(heatmap.shape)"
   ]
  },
  {
   "cell_type": "code",
   "execution_count": null,
   "id": "japanese-content",
   "metadata": {},
   "outputs": [],
   "source": [
    "print(heatmap)"
   ]
  },
  {
   "cell_type": "markdown",
   "id": "frequent-penalty",
   "metadata": {},
   "source": [
    "****Apply ReLU****"
   ]
  },
  {
   "cell_type": "code",
   "execution_count": null,
   "id": "located-utilization",
   "metadata": {},
   "outputs": [],
   "source": [
    "heatmap = tf.nn.relu(heatmap).numpy()\n",
    "# alternatively heatmap = np.maximum(heatmap, 0)"
   ]
  },
  {
   "cell_type": "code",
   "execution_count": null,
   "id": "blocked-collar",
   "metadata": {},
   "outputs": [],
   "source": [
    "print(type(heatmap))"
   ]
  },
  {
   "cell_type": "code",
   "execution_count": null,
   "id": "adequate-hierarchy",
   "metadata": {},
   "outputs": [],
   "source": [
    "print(heatmap.shape)"
   ]
  },
  {
   "cell_type": "code",
   "execution_count": null,
   "id": "sharing-feeding",
   "metadata": {},
   "outputs": [],
   "source": [
    "print(heatmap)"
   ]
  },
  {
   "cell_type": "markdown",
   "id": "national-category",
   "metadata": {},
   "source": [
    "****Normalize in [0,1]****"
   ]
  },
  {
   "cell_type": "code",
   "execution_count": null,
   "id": "refined-congress",
   "metadata": {},
   "outputs": [],
   "source": [
    "max_heatmap_value = np.max(heatmap)\n",
    "max_heatmap_value"
   ]
  },
  {
   "cell_type": "code",
   "execution_count": null,
   "id": "forty-siemens",
   "metadata": {},
   "outputs": [],
   "source": [
    "heatmap /= max_heatmap_value"
   ]
  },
  {
   "cell_type": "code",
   "execution_count": null,
   "id": "abandoned-louisiana",
   "metadata": {},
   "outputs": [],
   "source": [
    "plt.matshow(heatmap)"
   ]
  },
  {
   "cell_type": "markdown",
   "id": "narrow-polish",
   "metadata": {},
   "source": [
    "****Mask the original image with the generated CAM heatmap****"
   ]
  },
  {
   "cell_type": "code",
   "execution_count": null,
   "id": "secure-portfolio",
   "metadata": {},
   "outputs": [],
   "source": [
    "import cv2"
   ]
  },
  {
   "cell_type": "code",
   "execution_count": null,
   "id": "exotic-buddy",
   "metadata": {},
   "outputs": [],
   "source": [
    "x_cv2 = cv2.imread(img_filename)"
   ]
  },
  {
   "cell_type": "markdown",
   "id": "russian-subdivision",
   "metadata": {},
   "source": [
    "****Resize heatmap to match the dimensions of the image****"
   ]
  },
  {
   "cell_type": "code",
   "execution_count": null,
   "id": "cutting-exhibit",
   "metadata": {},
   "outputs": [],
   "source": [
    "heatmap.shape"
   ]
  },
  {
   "cell_type": "code",
   "execution_count": null,
   "id": "secret-mouse",
   "metadata": {},
   "outputs": [],
   "source": [
    "heatmap = cv2.resize(heatmap, (x_cv2.shape[1], x_cv2.shape[0]))"
   ]
  },
  {
   "cell_type": "code",
   "execution_count": null,
   "id": "romance-cleaner",
   "metadata": {},
   "outputs": [],
   "source": [
    "heatmap.shape"
   ]
  },
  {
   "cell_type": "code",
   "execution_count": null,
   "id": "palestinian-guess",
   "metadata": {},
   "outputs": [],
   "source": [
    "heatmap"
   ]
  },
  {
   "cell_type": "code",
   "execution_count": null,
   "id": "played-demonstration",
   "metadata": {},
   "outputs": [],
   "source": [
    "heatmap.dtype"
   ]
  },
  {
   "cell_type": "markdown",
   "id": "efficient-consensus",
   "metadata": {},
   "source": [
    "****Convert to RGB values in [0,255]****"
   ]
  },
  {
   "cell_type": "code",
   "execution_count": null,
   "id": "coastal-reliance",
   "metadata": {},
   "outputs": [],
   "source": [
    "heatmap_init = heatmap.copy()"
   ]
  },
  {
   "cell_type": "code",
   "execution_count": null,
   "id": "nearby-central",
   "metadata": {},
   "outputs": [],
   "source": [
    "heatmap = np.uint8(heatmap * 255)"
   ]
  },
  {
   "cell_type": "code",
   "execution_count": null,
   "id": "criminal-mounting",
   "metadata": {},
   "outputs": [],
   "source": [
    "heatmap.dtype"
   ]
  },
  {
   "cell_type": "code",
   "execution_count": null,
   "id": "corrected-physics",
   "metadata": {},
   "outputs": [],
   "source": [
    "heatmap"
   ]
  },
  {
   "cell_type": "code",
   "execution_count": null,
   "id": "related-respect",
   "metadata": {},
   "outputs": [],
   "source": [
    "print(heatmap.shape)"
   ]
  },
  {
   "cell_type": "code",
   "execution_count": null,
   "id": "identified-reducing",
   "metadata": {},
   "outputs": [],
   "source": [
    "heatmap = cv2.applyColorMap(heatmap, cv2.COLORMAP_JET)\n",
    "heatmap"
   ]
  },
  {
   "cell_type": "markdown",
   "id": "indirect-finland",
   "metadata": {},
   "source": [
    "****Overlay heamap on the image. Here 0.5 represents intensity****"
   ]
  },
  {
   "cell_type": "code",
   "execution_count": null,
   "id": "indoor-seminar",
   "metadata": {},
   "outputs": [],
   "source": [
    "x_cv2.dtype"
   ]
  },
  {
   "cell_type": "code",
   "execution_count": null,
   "id": "median-jones",
   "metadata": {},
   "outputs": [],
   "source": [
    "heatmap.dtype"
   ]
  },
  {
   "cell_type": "code",
   "execution_count": null,
   "id": "noble-account",
   "metadata": {},
   "outputs": [],
   "source": [
    "x_masked = (heatmap * 0.4) + x_cv2"
   ]
  },
  {
   "cell_type": "code",
   "execution_count": null,
   "id": "going-decision",
   "metadata": {},
   "outputs": [],
   "source": [
    "plt.imshow(heatmap_init)"
   ]
  },
  {
   "cell_type": "code",
   "execution_count": null,
   "id": "superior-edmonton",
   "metadata": {},
   "outputs": [],
   "source": [
    "plt.imshow(heatmap)"
   ]
  },
  {
   "cell_type": "code",
   "execution_count": null,
   "id": "exotic-thanks",
   "metadata": {},
   "outputs": [],
   "source": [
    "plt.imshow(keras.preprocessing.image.array_to_img(x_masked))"
   ]
  },
  {
   "cell_type": "code",
   "execution_count": null,
   "id": "worth-richmond",
   "metadata": {},
   "outputs": [],
   "source": []
  }
 ],
 "metadata": {
  "kernelspec": {
   "display_name": "Python 3",
   "language": "python",
   "name": "python3"
  },
  "language_info": {
   "codemirror_mode": {
    "name": "ipython",
    "version": 3
   },
   "file_extension": ".py",
   "mimetype": "text/x-python",
   "name": "python",
   "nbconvert_exporter": "python",
   "pygments_lexer": "ipython3",
   "version": "3.7.9"
  }
 },
 "nbformat": 4,
 "nbformat_minor": 5
}
