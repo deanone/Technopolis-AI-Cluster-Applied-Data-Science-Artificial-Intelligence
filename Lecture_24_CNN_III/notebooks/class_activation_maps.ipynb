{
 "cells": [
  {
   "cell_type": "markdown",
   "id": "horizontal-month",
   "metadata": {},
   "source": [
    "****Import initial required packages****"
   ]
  },
  {
   "cell_type": "code",
   "execution_count": 1,
   "id": "random-winning",
   "metadata": {},
   "outputs": [],
   "source": [
    "import numpy as np\n",
    "import matplotlib.pyplot as plt"
   ]
  },
  {
   "cell_type": "markdown",
   "id": "modern-province",
   "metadata": {},
   "source": [
    "****Import TF2****"
   ]
  },
  {
   "cell_type": "code",
   "execution_count": 2,
   "id": "supposed-performer",
   "metadata": {},
   "outputs": [],
   "source": [
    "import tensorflow as tf\n",
    "# required for solving issue with cuDNN\n",
    "gpu_devices = tf.config.experimental.list_physical_devices('GPU')\n",
    "for device in gpu_devices: tf.config.experimental.set_memory_growth(device, True)"
   ]
  },
  {
   "cell_type": "markdown",
   "id": "overall-communication",
   "metadata": {},
   "source": [
    "****Import Keras****"
   ]
  },
  {
   "cell_type": "code",
   "execution_count": 3,
   "id": "cooperative-restoration",
   "metadata": {},
   "outputs": [
    {
     "name": "stderr",
     "output_type": "stream",
     "text": [
      "Using TensorFlow backend.\n"
     ]
    }
   ],
   "source": [
    "from tensorflow import keras\n",
    "from keras.preprocessing import image\n",
    "from keras.applications.vgg16 import VGG16\n",
    "from keras.applications.vgg16 import preprocess_input, decode_predictions"
   ]
  },
  {
   "cell_type": "markdown",
   "id": "historic-dayton",
   "metadata": {},
   "source": [
    "****Import VGG16 network****"
   ]
  },
  {
   "cell_type": "code",
   "execution_count": 4,
   "id": "embedded-father",
   "metadata": {},
   "outputs": [],
   "source": [
    "model = VGG16(weights='imagenet')"
   ]
  },
  {
   "cell_type": "code",
   "execution_count": 5,
   "id": "general-airplane",
   "metadata": {},
   "outputs": [
    {
     "name": "stdout",
     "output_type": "stream",
     "text": [
      "Model: \"vgg16\"\n",
      "_________________________________________________________________\n",
      "Layer (type)                 Output Shape              Param #   \n",
      "=================================================================\n",
      "input_1 (InputLayer)         (None, 224, 224, 3)       0         \n",
      "_________________________________________________________________\n",
      "block1_conv1 (Conv2D)        (None, 224, 224, 64)      1792      \n",
      "_________________________________________________________________\n",
      "block1_conv2 (Conv2D)        (None, 224, 224, 64)      36928     \n",
      "_________________________________________________________________\n",
      "block1_pool (MaxPooling2D)   (None, 112, 112, 64)      0         \n",
      "_________________________________________________________________\n",
      "block2_conv1 (Conv2D)        (None, 112, 112, 128)     73856     \n",
      "_________________________________________________________________\n",
      "block2_conv2 (Conv2D)        (None, 112, 112, 128)     147584    \n",
      "_________________________________________________________________\n",
      "block2_pool (MaxPooling2D)   (None, 56, 56, 128)       0         \n",
      "_________________________________________________________________\n",
      "block3_conv1 (Conv2D)        (None, 56, 56, 256)       295168    \n",
      "_________________________________________________________________\n",
      "block3_conv2 (Conv2D)        (None, 56, 56, 256)       590080    \n",
      "_________________________________________________________________\n",
      "block3_conv3 (Conv2D)        (None, 56, 56, 256)       590080    \n",
      "_________________________________________________________________\n",
      "block3_pool (MaxPooling2D)   (None, 28, 28, 256)       0         \n",
      "_________________________________________________________________\n",
      "block4_conv1 (Conv2D)        (None, 28, 28, 512)       1180160   \n",
      "_________________________________________________________________\n",
      "block4_conv2 (Conv2D)        (None, 28, 28, 512)       2359808   \n",
      "_________________________________________________________________\n",
      "block4_conv3 (Conv2D)        (None, 28, 28, 512)       2359808   \n",
      "_________________________________________________________________\n",
      "block4_pool (MaxPooling2D)   (None, 14, 14, 512)       0         \n",
      "_________________________________________________________________\n",
      "block5_conv1 (Conv2D)        (None, 14, 14, 512)       2359808   \n",
      "_________________________________________________________________\n",
      "block5_conv2 (Conv2D)        (None, 14, 14, 512)       2359808   \n",
      "_________________________________________________________________\n",
      "block5_conv3 (Conv2D)        (None, 14, 14, 512)       2359808   \n",
      "_________________________________________________________________\n",
      "block5_pool (MaxPooling2D)   (None, 7, 7, 512)         0         \n",
      "_________________________________________________________________\n",
      "flatten (Flatten)            (None, 25088)             0         \n",
      "_________________________________________________________________\n",
      "fc1 (Dense)                  (None, 4096)              102764544 \n",
      "_________________________________________________________________\n",
      "fc2 (Dense)                  (None, 4096)              16781312  \n",
      "_________________________________________________________________\n",
      "predictions (Dense)          (None, 1000)              4097000   \n",
      "=================================================================\n",
      "Total params: 138,357,544\n",
      "Trainable params: 138,357,544\n",
      "Non-trainable params: 0\n",
      "_________________________________________________________________\n"
     ]
    }
   ],
   "source": [
    "model.summary()"
   ]
  },
  {
   "cell_type": "markdown",
   "id": "plain-workstation",
   "metadata": {},
   "source": [
    "****Load image****"
   ]
  },
  {
   "cell_type": "code",
   "execution_count": 6,
   "id": "usual-culture",
   "metadata": {},
   "outputs": [],
   "source": [
    "img_filename = 'dogs/dog_1.jpeg'"
   ]
  },
  {
   "cell_type": "code",
   "execution_count": 7,
   "id": "visible-highway",
   "metadata": {},
   "outputs": [],
   "source": [
    "img = image.load_img(img_filename, target_size=(224, 224))"
   ]
  },
  {
   "cell_type": "code",
   "execution_count": 8,
   "id": "painted-bruce",
   "metadata": {},
   "outputs": [
    {
     "data": {
      "text/plain": [
       "<matplotlib.image.AxesImage at 0x7f2654040c90>"
      ]
     },
     "execution_count": 8,
     "metadata": {},
     "output_type": "execute_result"
    },
    {
     "data": {
      "image/png": "[encoded data removed]",
      "text/plain": [
       "<Figure size 432x288 with 1 Axes>"
      ]
     },
     "metadata": {
      "needs_background": "light"
     },
     "output_type": "display_data"
    }
   ],
   "source": [
    "plt.imshow(img)"
   ]
  },
  {
   "cell_type": "code",
   "execution_count": 9,
   "id": "guided-patio",
   "metadata": {},
   "outputs": [],
   "source": [
    "x = image.img_to_array(img)"
   ]
  },
  {
   "cell_type": "code",
   "execution_count": 10,
   "id": "addressed-style",
   "metadata": {},
   "outputs": [
    {
     "name": "stdout",
     "output_type": "stream",
     "text": [
      "[[[114. 114. 114.]\n",
      "  [113. 113. 113.]\n",
      "  [111. 111. 111.]\n",
      "  ...\n",
      "  [ 31.  31.  31.]\n",
      "  [ 29.  29.  29.]\n",
      "  [ 29.  29.  29.]]\n",
      "\n",
      " [[114. 114. 114.]\n",
      "  [113. 113. 113.]\n",
      "  [111. 111. 111.]\n",
      "  ...\n",
      "  [ 32.  32.  32.]\n",
      "  [ 29.  29.  29.]\n",
      "  [ 29.  29.  29.]]\n",
      "\n",
      " [[115. 115. 115.]\n",
      "  [114. 114. 114.]\n",
      "  [112. 112. 112.]\n",
      "  ...\n",
      "  [ 33.  33.  33.]\n",
      "  [ 31.  31.  31.]\n",
      "  [ 31.  31.  31.]]\n",
      "\n",
      " ...\n",
      "\n",
      " [[ 51.  51.  51.]\n",
      "  [ 51.  51.  51.]\n",
      "  [ 51.  51.  51.]\n",
      "  ...\n",
      "  [160. 160. 160.]\n",
      "  [147. 147. 147.]\n",
      "  [147. 147. 147.]]\n",
      "\n",
      " [[ 51.  51.  51.]\n",
      "  [ 51.  51.  51.]\n",
      "  [ 51.  51.  51.]\n",
      "  ...\n",
      "  [158. 158. 158.]\n",
      "  [159. 159. 159.]\n",
      "  [159. 159. 159.]]\n",
      "\n",
      " [[ 51.  51.  51.]\n",
      "  [ 51.  51.  51.]\n",
      "  [ 51.  51.  51.]\n",
      "  ...\n",
      "  [154. 154. 154.]\n",
      "  [165. 165. 165.]\n",
      "  [165. 165. 165.]]]\n"
     ]
    }
   ],
   "source": [
    "print(x)"
   ]
  },
  {
   "cell_type": "code",
   "execution_count": 11,
   "id": "periodic-james",
   "metadata": {},
   "outputs": [
    {
     "data": {
      "text/plain": [
       "(224, 224, 3)"
      ]
     },
     "execution_count": 11,
     "metadata": {},
     "output_type": "execute_result"
    }
   ],
   "source": [
    "x.shape"
   ]
  },
  {
   "cell_type": "code",
   "execution_count": 12,
   "id": "available-gauge",
   "metadata": {},
   "outputs": [],
   "source": [
    "x = np.expand_dims(x, axis=0)"
   ]
  },
  {
   "cell_type": "code",
   "execution_count": 13,
   "id": "oriented-southeast",
   "metadata": {},
   "outputs": [
    {
     "data": {
      "text/plain": [
       "(1, 224, 224, 3)"
      ]
     },
     "execution_count": 13,
     "metadata": {},
     "output_type": "execute_result"
    }
   ],
   "source": [
    "x.shape"
   ]
  },
  {
   "cell_type": "markdown",
   "id": "surgical-print",
   "metadata": {},
   "source": [
    "****Apply to the input image all required preprocessing steps (e.g. scaling) applied to the images on which VGG16 was trained****"
   ]
  },
  {
   "cell_type": "code",
   "execution_count": 14,
   "id": "available-floor",
   "metadata": {},
   "outputs": [],
   "source": [
    "x = preprocess_input(x)"
   ]
  },
  {
   "cell_type": "code",
   "execution_count": 15,
   "id": "solved-hartford",
   "metadata": {},
   "outputs": [
    {
     "name": "stdout",
     "output_type": "stream",
     "text": [
      "[[[[ 10.060997   -2.7789993  -9.68     ]\n",
      "   [  9.060997   -3.7789993 -10.68     ]\n",
      "   [  7.060997   -5.7789993 -12.68     ]\n",
      "   ...\n",
      "   [-72.939     -85.779     -92.68     ]\n",
      "   [-74.939     -87.779     -94.68     ]\n",
      "   [-74.939     -87.779     -94.68     ]]\n",
      "\n",
      "  [[ 10.060997   -2.7789993  -9.68     ]\n",
      "   [  9.060997   -3.7789993 -10.68     ]\n",
      "   [  7.060997   -5.7789993 -12.68     ]\n",
      "   ...\n",
      "   [-71.939     -84.779     -91.68     ]\n",
      "   [-74.939     -87.779     -94.68     ]\n",
      "   [-74.939     -87.779     -94.68     ]]\n",
      "\n",
      "  [[ 11.060997   -1.7789993  -8.68     ]\n",
      "   [ 10.060997   -2.7789993  -9.68     ]\n",
      "   [  8.060997   -4.7789993 -11.68     ]\n",
      "   ...\n",
      "   [-70.939     -83.779     -90.68     ]\n",
      "   [-72.939     -85.779     -92.68     ]\n",
      "   [-72.939     -85.779     -92.68     ]]\n",
      "\n",
      "  ...\n",
      "\n",
      "  [[-52.939003  -65.779     -72.68     ]\n",
      "   [-52.939003  -65.779     -72.68     ]\n",
      "   [-52.939003  -65.779     -72.68     ]\n",
      "   ...\n",
      "   [ 56.060997   43.221      36.32     ]\n",
      "   [ 43.060997   30.221      23.32     ]\n",
      "   [ 43.060997   30.221      23.32     ]]\n",
      "\n",
      "  [[-52.939003  -65.779     -72.68     ]\n",
      "   [-52.939003  -65.779     -72.68     ]\n",
      "   [-52.939003  -65.779     -72.68     ]\n",
      "   ...\n",
      "   [ 54.060997   41.221      34.32     ]\n",
      "   [ 55.060997   42.221      35.32     ]\n",
      "   [ 55.060997   42.221      35.32     ]]\n",
      "\n",
      "  [[-52.939003  -65.779     -72.68     ]\n",
      "   [-52.939003  -65.779     -72.68     ]\n",
      "   [-52.939003  -65.779     -72.68     ]\n",
      "   ...\n",
      "   [ 50.060997   37.221      30.32     ]\n",
      "   [ 61.060997   48.221      41.32     ]\n",
      "   [ 61.060997   48.221      41.32     ]]]]\n"
     ]
    }
   ],
   "source": [
    "print(x)"
   ]
  },
  {
   "cell_type": "code",
   "execution_count": 16,
   "id": "illegal-vertical",
   "metadata": {},
   "outputs": [],
   "source": [
    "preds = model.predict(x)"
   ]
  },
  {
   "cell_type": "markdown",
   "id": "monthly-samoa",
   "metadata": {},
   "source": [
    "****Keep the top 3 predictions****"
   ]
  },
  {
   "cell_type": "code",
   "execution_count": 17,
   "id": "unnecessary-london",
   "metadata": {},
   "outputs": [
    {
     "data": {
      "text/plain": [
       "[('n02109047', 'Great_Dane', 0.8439459),\n",
       " ('n02106662', 'German_shepherd', 0.11556178),\n",
       " ('n02088466', 'bloodhound', 0.02179054)]"
      ]
     },
     "execution_count": 17,
     "metadata": {},
     "output_type": "execute_result"
    }
   ],
   "source": [
    "decode_predictions(preds, top=3)[0]"
   ]
  },
  {
   "cell_type": "code",
   "execution_count": 18,
   "id": "appreciated-status",
   "metadata": {},
   "outputs": [],
   "source": [
    "predicted_class_index = np.argmax(preds[0])"
   ]
  },
  {
   "cell_type": "code",
   "execution_count": 19,
   "id": "simplified-australian",
   "metadata": {},
   "outputs": [
    {
     "name": "stdout",
     "output_type": "stream",
     "text": [
      "246\n"
     ]
    }
   ],
   "source": [
    "print(predicted_class_index)"
   ]
  },
  {
   "cell_type": "code",
   "execution_count": 20,
   "id": "legitimate-commissioner",
   "metadata": {},
   "outputs": [],
   "source": [
    "predicted_output = model.output[:, predicted_class_index]"
   ]
  },
  {
   "cell_type": "code",
   "execution_count": 21,
   "id": "aquatic-klein",
   "metadata": {},
   "outputs": [
    {
     "name": "stdout",
     "output_type": "stream",
     "text": [
      "Tensor(\"strided_slice:0\", shape=(None,), dtype=float32)\n"
     ]
    }
   ],
   "source": [
    "print(predicted_output)"
   ]
  },
  {
   "cell_type": "markdown",
   "id": "exterior-syndicate",
   "metadata": {},
   "source": [
    "****Get the last convolutional layer of the model****"
   ]
  },
  {
   "cell_type": "code",
   "execution_count": 22,
   "id": "official-fraction",
   "metadata": {},
   "outputs": [],
   "source": [
    "last_conv_layer = model.get_layer('block5_conv3')"
   ]
  },
  {
   "cell_type": "code",
   "execution_count": 23,
   "id": "improving-charity",
   "metadata": {},
   "outputs": [
    {
     "name": "stdout",
     "output_type": "stream",
     "text": [
      "<keras.layers.convolutional.Conv2D object at 0x7f26a811bb10>\n"
     ]
    }
   ],
   "source": [
    "print(last_conv_layer)"
   ]
  },
  {
   "cell_type": "code",
   "execution_count": 24,
   "id": "confident-yellow",
   "metadata": {},
   "outputs": [
    {
     "data": {
      "text/plain": [
       "<tf.Tensor 'block5_conv3/Relu:0' shape=(None, 14, 14, 512) dtype=float32>"
      ]
     },
     "execution_count": 24,
     "metadata": {},
     "output_type": "execute_result"
    }
   ],
   "source": [
    "last_conv_layer.output"
   ]
  },
  {
   "cell_type": "markdown",
   "id": "mechanical-daniel",
   "metadata": {},
   "source": [
    "****Grad-CAM process****"
   ]
  },
  {
   "cell_type": "code",
   "execution_count": 25,
   "id": "distributed-custody",
   "metadata": {},
   "outputs": [],
   "source": [
    "from keras import backend as K"
   ]
  },
  {
   "cell_type": "markdown",
   "id": "cultural-haiti",
   "metadata": {},
   "source": [
    "****Set function for calculating the gradient of the output w.r.t the pixels of the feature maps of the model's last convolutional layer****"
   ]
  },
  {
   "cell_type": "code",
   "execution_count": 26,
   "id": "pending-stocks",
   "metadata": {},
   "outputs": [],
   "source": [
    "grads = K.gradients(predicted_output, last_conv_layer.output)[0]"
   ]
  },
  {
   "cell_type": "code",
   "execution_count": 27,
   "id": "intellectual-hormone",
   "metadata": {},
   "outputs": [
    {
     "name": "stdout",
     "output_type": "stream",
     "text": [
      "Tensor(\"gradients/block5_pool/MaxPool_grad/MaxPoolGrad:0\", shape=(None, 14, 14, 512), dtype=float32)\n"
     ]
    }
   ],
   "source": [
    "print(grads)"
   ]
  },
  {
   "cell_type": "markdown",
   "id": "difficult-fellow",
   "metadata": {},
   "source": [
    "****Apply GAP to the gradients****"
   ]
  },
  {
   "cell_type": "code",
   "execution_count": 28,
   "id": "wrong-plain",
   "metadata": {},
   "outputs": [],
   "source": [
    "pooled_grads = K.mean(grads, axis=(0, 1, 2))"
   ]
  },
  {
   "cell_type": "code",
   "execution_count": 29,
   "id": "annoying-merit",
   "metadata": {},
   "outputs": [
    {
     "name": "stdout",
     "output_type": "stream",
     "text": [
      "Tensor(\"Mean:0\", shape=(512,), dtype=float32)\n"
     ]
    }
   ],
   "source": [
    "print(pooled_grads)"
   ]
  },
  {
   "cell_type": "markdown",
   "id": "great-artist",
   "metadata": {},
   "source": [
    "****Use .function() of Keras backend for actually calculating the required outputs for a specific input****"
   ]
  },
  {
   "cell_type": "code",
   "execution_count": 30,
   "id": "indie-rider",
   "metadata": {},
   "outputs": [],
   "source": [
    "f = K.function([model.input], [pooled_grads, last_conv_layer.output[0]])"
   ]
  },
  {
   "cell_type": "code",
   "execution_count": 31,
   "id": "sought-tooth",
   "metadata": {},
   "outputs": [
    {
     "name": "stdout",
     "output_type": "stream",
     "text": [
      "<tensorflow.python.keras.backend.EagerExecutionFunction object at 0x7f26442ad390>\n"
     ]
    }
   ],
   "source": [
    "print(f)"
   ]
  },
  {
   "cell_type": "markdown",
   "id": "plastic-tuition",
   "metadata": {},
   "source": [
    "****Actually calculate outputs for input, i.e. execute f****"
   ]
  },
  {
   "cell_type": "code",
   "execution_count": 32,
   "id": "continued-karaoke",
   "metadata": {},
   "outputs": [],
   "source": [
    "pooled_grads_value, conv_layer_output_value = f([x])"
   ]
  },
  {
   "cell_type": "code",
   "execution_count": 33,
   "id": "architectural-attraction",
   "metadata": {},
   "outputs": [
    {
     "name": "stdout",
     "output_type": "stream",
     "text": [
      "<class 'numpy.ndarray'>\n"
     ]
    }
   ],
   "source": [
    "print(type(pooled_grads_value))"
   ]
  },
  {
   "cell_type": "code",
   "execution_count": 34,
   "id": "loved-workplace",
   "metadata": {},
   "outputs": [
    {
     "name": "stdout",
     "output_type": "stream",
     "text": [
      "(512,)\n"
     ]
    }
   ],
   "source": [
    "print(pooled_grads_value.shape)"
   ]
  },
  {
   "cell_type": "code",
   "execution_count": 35,
   "id": "recorded-chicken",
   "metadata": {},
   "outputs": [
    {
     "name": "stdout",
     "output_type": "stream",
     "text": [
      "<class 'numpy.ndarray'>\n"
     ]
    }
   ],
   "source": [
    "print(type(conv_layer_output_value))"
   ]
  },
  {
   "cell_type": "code",
   "execution_count": 36,
   "id": "adaptive-february",
   "metadata": {},
   "outputs": [
    {
     "name": "stdout",
     "output_type": "stream",
     "text": [
      "(14, 14, 512)\n"
     ]
    }
   ],
   "source": [
    "print(conv_layer_output_value.shape)"
   ]
  },
  {
   "cell_type": "code",
   "execution_count": 37,
   "id": "intimate-limit",
   "metadata": {},
   "outputs": [
    {
     "data": {
      "text/plain": [
       "512"
      ]
     },
     "execution_count": 37,
     "metadata": {},
     "output_type": "execute_result"
    }
   ],
   "source": [
    "n_channels = conv_layer_output_value.shape[-1]\n",
    "n_channels"
   ]
  },
  {
   "cell_type": "markdown",
   "id": "photographic-colon",
   "metadata": {},
   "source": [
    "****Calculate the weighted linear combination of feature maps of the last conv layer****"
   ]
  },
  {
   "cell_type": "code",
   "execution_count": 38,
   "id": "brutal-boundary",
   "metadata": {},
   "outputs": [],
   "source": [
    "for i in range(n_channels):\n",
    "    conv_layer_output_value[:, :, i] *= pooled_grads_value[i]"
   ]
  },
  {
   "cell_type": "code",
   "execution_count": 39,
   "id": "nasty-dallas",
   "metadata": {},
   "outputs": [
    {
     "name": "stdout",
     "output_type": "stream",
     "text": [
      "(14, 14, 512)\n"
     ]
    }
   ],
   "source": [
    "print(conv_layer_output_value.shape)"
   ]
  },
  {
   "cell_type": "code",
   "execution_count": 40,
   "id": "ahead-proxy",
   "metadata": {},
   "outputs": [],
   "source": [
    "heatmap = np.mean(conv_layer_output_value, axis=2)"
   ]
  },
  {
   "cell_type": "code",
   "execution_count": 41,
   "id": "changed-arkansas",
   "metadata": {},
   "outputs": [
    {
     "name": "stdout",
     "output_type": "stream",
     "text": [
      "<class 'numpy.ndarray'>\n"
     ]
    }
   ],
   "source": [
    "print(type(heatmap))"
   ]
  },
  {
   "cell_type": "code",
   "execution_count": 42,
   "id": "pacific-correction",
   "metadata": {},
   "outputs": [
    {
     "name": "stdout",
     "output_type": "stream",
     "text": [
      "(14, 14)\n"
     ]
    }
   ],
   "source": [
    "print(heatmap.shape)"
   ]
  },
  {
   "cell_type": "code",
   "execution_count": 43,
   "id": "japanese-content",
   "metadata": {},
   "outputs": [
    {
     "name": "stdout",
     "output_type": "stream",
     "text": [
      "[[ 3.2162011e-06  2.1766054e-06  2.6314683e-06  2.4564276e-06\n",
      "   2.4968435e-06  2.9916093e-06  4.5399647e-06  6.3147118e-06\n",
      "   6.3139591e-06  3.6087135e-06  3.7070088e-06  3.1386394e-06\n",
      "   1.5551500e-06  2.7709743e-06]\n",
      " [ 6.0452351e-07  9.2295920e-08  3.8476696e-07  3.9468634e-07\n",
      "   3.4265543e-07  1.7425135e-06  3.7784221e-06  5.0378121e-06\n",
      "   3.5825619e-06  2.9183325e-06  1.4507184e-06  5.6853497e-07\n",
      "   6.6657344e-07  7.4794178e-07]\n",
      " [ 1.2763384e-06  8.5906856e-07  1.6450590e-06  1.9164590e-06\n",
      "   1.5949624e-06  2.4000556e-06  6.3642319e-06  7.3024680e-06\n",
      "   6.9813650e-06  6.6012708e-06  3.5398086e-06  1.2419711e-06\n",
      "   1.5503725e-06  3.4212085e-06]\n",
      " [ 1.1829192e-06  7.0445799e-07  1.7954798e-06  2.2593961e-06\n",
      "   2.5737897e-06  2.0144357e-06  4.5757870e-06  5.2433634e-06\n",
      "   7.8615731e-06  6.2280046e-06  3.4577674e-06  2.2062422e-06\n",
      "   1.3366409e-06  2.8884451e-06]\n",
      " [ 1.1358318e-06  5.2625364e-07  1.1502702e-06  1.0545259e-06\n",
      "   1.5345648e-06  1.4368618e-06  2.6761049e-06  2.1963949e-06\n",
      "   4.9897108e-06  7.2823877e-06  8.7087392e-06  4.5339775e-06\n",
      "   9.7441875e-07  1.4898914e-06]\n",
      " [ 1.4237627e-06  7.1556110e-07  3.9857963e-07  6.2408134e-07\n",
      "   3.8818030e-07  8.4163440e-07 -3.5934163e-06 -6.5294962e-06\n",
      "  -2.4260153e-06  3.7244872e-06  4.7967433e-06  6.1423216e-06\n",
      "   9.3854061e-07  9.2685104e-07]\n",
      " [ 1.4804465e-06  5.7977701e-07  4.7392086e-07  2.3922138e-07\n",
      "  -1.9129865e-07  1.3213140e-06 -1.3075688e-06 -9.8083292e-06\n",
      "  -2.3969362e-05 -1.0921983e-05 -2.3189000e-06  3.3726669e-06\n",
      "   9.2263690e-07  1.4664373e-06]\n",
      " [ 2.1719554e-06  1.2478441e-06  1.3573590e-06  4.9375421e-07\n",
      "   1.5108083e-06 -1.8607159e-06  3.0599840e-06  1.0221639e-05\n",
      "  -1.7076460e-05 -2.6245978e-05 -1.0302343e-05  3.8440148e-06\n",
      "   1.5603922e-06  1.7634505e-06]\n",
      " [ 3.2144535e-06  1.6852161e-06  1.4775705e-06  1.2845945e-06\n",
      "  -2.8956579e-06 -6.0975781e-06 -1.1853530e-05 -4.9754235e-06\n",
      "  -2.1511169e-05 -3.0834970e-05 -9.6247240e-06  7.9497977e-06\n",
      "   2.5874583e-06  2.3545999e-06]\n",
      " [ 3.7699087e-06  1.6932867e-06  1.1588204e-06  1.1164846e-06\n",
      "  -4.6256778e-06 -6.0105190e-06 -1.3964390e-05 -2.3139310e-05\n",
      "  -3.4038487e-05 -2.8273525e-05  3.6054689e-06  1.2759161e-05\n",
      "   1.0183547e-05  5.6725721e-06]\n",
      " [ 4.1908561e-06  2.1542221e-06  1.3493302e-06  3.0154479e-06\n",
      "   6.4028072e-06  1.1665294e-05  9.1394477e-06 -2.8762956e-06\n",
      "  -1.0930229e-05 -4.6345417e-06  1.1243124e-05  1.5488404e-05\n",
      "   1.1464992e-05  8.4203748e-06]\n",
      " [ 4.1458325e-06  3.6140659e-06  2.6810037e-06  1.5428500e-06\n",
      "   1.0993820e-05  1.8916760e-05  2.3140568e-05  1.9235673e-05\n",
      "   1.5437732e-05  6.5429535e-06  9.4065490e-06  1.2551307e-05\n",
      "   9.1325428e-06  8.2987008e-06]\n",
      " [ 3.0293236e-06  3.2589687e-06  2.9957291e-06  1.2873697e-06\n",
      "  -1.2283877e-08  1.6520569e-06  5.4439815e-06  8.1306816e-06\n",
      "   5.4996958e-06  3.5461437e-06  7.9887795e-06  4.2073102e-06\n",
      "   2.7626193e-06  7.2088487e-06]\n",
      " [ 3.7418658e-06  2.4189478e-06  3.0392503e-06  3.1946233e-06\n",
      "   2.5301201e-06  2.2771490e-06  3.6347697e-06  5.3601084e-06\n",
      "   3.5716500e-06  4.3196133e-07  2.3445750e-07 -2.9652178e-06\n",
      "  -2.0871307e-06  2.2585536e-06]]\n"
     ]
    }
   ],
   "source": [
    "print(heatmap)"
   ]
  },
  {
   "cell_type": "markdown",
   "id": "frequent-penalty",
   "metadata": {},
   "source": [
    "****Apply ReLU****"
   ]
  },
  {
   "cell_type": "code",
   "execution_count": 44,
   "id": "located-utilization",
   "metadata": {},
   "outputs": [],
   "source": [
    "heatmap = tf.nn.relu(heatmap).numpy()\n",
    "# alternatively heatmap = np.maximum(heatmap, 0)"
   ]
  },
  {
   "cell_type": "code",
   "execution_count": 45,
   "id": "blocked-collar",
   "metadata": {},
   "outputs": [
    {
     "name": "stdout",
     "output_type": "stream",
     "text": [
      "<class 'numpy.ndarray'>\n"
     ]
    }
   ],
   "source": [
    "print(type(heatmap))"
   ]
  },
  {
   "cell_type": "code",
   "execution_count": 46,
   "id": "adequate-hierarchy",
   "metadata": {},
   "outputs": [
    {
     "name": "stdout",
     "output_type": "stream",
     "text": [
      "(14, 14)\n"
     ]
    }
   ],
   "source": [
    "print(heatmap.shape)"
   ]
  },
  {
   "cell_type": "code",
   "execution_count": 47,
   "id": "sharing-feeding",
   "metadata": {},
   "outputs": [
    {
     "name": "stdout",
     "output_type": "stream",
     "text": [
      "[[3.2162011e-06 2.1766054e-06 2.6314683e-06 2.4564276e-06 2.4968435e-06\n",
      "  2.9916093e-06 4.5399647e-06 6.3147118e-06 6.3139591e-06 3.6087135e-06\n",
      "  3.7070088e-06 3.1386394e-06 1.5551500e-06 2.7709743e-06]\n",
      " [6.0452351e-07 9.2295920e-08 3.8476696e-07 3.9468634e-07 3.4265543e-07\n",
      "  1.7425135e-06 3.7784221e-06 5.0378121e-06 3.5825619e-06 2.9183325e-06\n",
      "  1.4507184e-06 5.6853497e-07 6.6657344e-07 7.4794178e-07]\n",
      " [1.2763384e-06 8.5906856e-07 1.6450590e-06 1.9164590e-06 1.5949624e-06\n",
      "  2.4000556e-06 6.3642319e-06 7.3024680e-06 6.9813650e-06 6.6012708e-06\n",
      "  3.5398086e-06 1.2419711e-06 1.5503725e-06 3.4212085e-06]\n",
      " [1.1829192e-06 7.0445799e-07 1.7954798e-06 2.2593961e-06 2.5737897e-06\n",
      "  2.0144357e-06 4.5757870e-06 5.2433634e-06 7.8615731e-06 6.2280046e-06\n",
      "  3.4577674e-06 2.2062422e-06 1.3366409e-06 2.8884451e-06]\n",
      " [1.1358318e-06 5.2625364e-07 1.1502702e-06 1.0545259e-06 1.5345648e-06\n",
      "  1.4368618e-06 2.6761049e-06 2.1963949e-06 4.9897108e-06 7.2823877e-06\n",
      "  8.7087392e-06 4.5339775e-06 9.7441875e-07 1.4898914e-06]\n",
      " [1.4237627e-06 7.1556110e-07 3.9857963e-07 6.2408134e-07 3.8818030e-07\n",
      "  8.4163440e-07 0.0000000e+00 0.0000000e+00 0.0000000e+00 3.7244872e-06\n",
      "  4.7967433e-06 6.1423216e-06 9.3854061e-07 9.2685104e-07]\n",
      " [1.4804465e-06 5.7977701e-07 4.7392086e-07 2.3922138e-07 0.0000000e+00\n",
      "  1.3213140e-06 0.0000000e+00 0.0000000e+00 0.0000000e+00 0.0000000e+00\n",
      "  0.0000000e+00 3.3726669e-06 9.2263690e-07 1.4664373e-06]\n",
      " [2.1719554e-06 1.2478441e-06 1.3573590e-06 4.9375421e-07 1.5108083e-06\n",
      "  0.0000000e+00 3.0599840e-06 1.0221639e-05 0.0000000e+00 0.0000000e+00\n",
      "  0.0000000e+00 3.8440148e-06 1.5603922e-06 1.7634505e-06]\n",
      " [3.2144535e-06 1.6852161e-06 1.4775705e-06 1.2845945e-06 0.0000000e+00\n",
      "  0.0000000e+00 0.0000000e+00 0.0000000e+00 0.0000000e+00 0.0000000e+00\n",
      "  0.0000000e+00 7.9497977e-06 2.5874583e-06 2.3545999e-06]\n",
      " [3.7699087e-06 1.6932867e-06 1.1588204e-06 1.1164846e-06 0.0000000e+00\n",
      "  0.0000000e+00 0.0000000e+00 0.0000000e+00 0.0000000e+00 0.0000000e+00\n",
      "  3.6054689e-06 1.2759161e-05 1.0183547e-05 5.6725721e-06]\n",
      " [4.1908561e-06 2.1542221e-06 1.3493302e-06 3.0154479e-06 6.4028072e-06\n",
      "  1.1665294e-05 9.1394477e-06 0.0000000e+00 0.0000000e+00 0.0000000e+00\n",
      "  1.1243124e-05 1.5488404e-05 1.1464992e-05 8.4203748e-06]\n",
      " [4.1458325e-06 3.6140659e-06 2.6810037e-06 1.5428500e-06 1.0993820e-05\n",
      "  1.8916760e-05 2.3140568e-05 1.9235673e-05 1.5437732e-05 6.5429535e-06\n",
      "  9.4065490e-06 1.2551307e-05 9.1325428e-06 8.2987008e-06]\n",
      " [3.0293236e-06 3.2589687e-06 2.9957291e-06 1.2873697e-06 0.0000000e+00\n",
      "  1.6520569e-06 5.4439815e-06 8.1306816e-06 5.4996958e-06 3.5461437e-06\n",
      "  7.9887795e-06 4.2073102e-06 2.7626193e-06 7.2088487e-06]\n",
      " [3.7418658e-06 2.4189478e-06 3.0392503e-06 3.1946233e-06 2.5301201e-06\n",
      "  2.2771490e-06 3.6347697e-06 5.3601084e-06 3.5716500e-06 4.3196133e-07\n",
      "  2.3445750e-07 0.0000000e+00 0.0000000e+00 2.2585536e-06]]\n"
     ]
    }
   ],
   "source": [
    "print(heatmap)"
   ]
  },
  {
   "cell_type": "markdown",
   "id": "national-category",
   "metadata": {},
   "source": [
    "****Normalize in [0,1]****"
   ]
  },
  {
   "cell_type": "code",
   "execution_count": 48,
   "id": "refined-congress",
   "metadata": {},
   "outputs": [
    {
     "data": {
      "text/plain": [
       "2.3140568e-05"
      ]
     },
     "execution_count": 48,
     "metadata": {},
     "output_type": "execute_result"
    }
   ],
   "source": [
    "max_heatmap_value = np.max(heatmap)\n",
    "max_heatmap_value"
   ]
  },
  {
   "cell_type": "code",
   "execution_count": 49,
   "id": "forty-siemens",
   "metadata": {},
   "outputs": [],
   "source": [
    "heatmap /= max_heatmap_value"
   ]
  },
  {
   "cell_type": "code",
   "execution_count": 50,
   "id": "abandoned-louisiana",
   "metadata": {},
   "outputs": [
    {
     "data": {
      "text/plain": [
       "<matplotlib.image.AxesImage at 0x7f2644175310>"
      ]
     },
     "execution_count": 50,
     "metadata": {},
     "output_type": "execute_result"
    },
    {
     "data": {
      "image/png": "[encoded data removed]",
      "text/plain": [
       "<Figure size 288x288 with 1 Axes>"
      ]
     },
     "metadata": {
      "needs_background": "light"
     },
     "output_type": "display_data"
    }
   ],
   "source": [
    "plt.matshow(heatmap)"
   ]
  },
  {
   "cell_type": "markdown",
   "id": "narrow-polish",
   "metadata": {},
   "source": [
    "****Mask the original image with the generated CAM heatmap****"
   ]
  },
  {
   "cell_type": "code",
   "execution_count": 51,
   "id": "secure-portfolio",
   "metadata": {},
   "outputs": [],
   "source": [
    "import cv2"
   ]
  },
  {
   "cell_type": "code",
   "execution_count": 52,
   "id": "exotic-buddy",
   "metadata": {},
   "outputs": [],
   "source": [
    "x_cv2 = cv2.imread(img_filename)"
   ]
  },
  {
   "cell_type": "markdown",
   "id": "russian-subdivision",
   "metadata": {},
   "source": [
    "****Resize heatmap to match the dimensions of the image****"
   ]
  },
  {
   "cell_type": "code",
   "execution_count": 53,
   "id": "cutting-exhibit",
   "metadata": {},
   "outputs": [
    {
     "data": {
      "text/plain": [
       "(14, 14)"
      ]
     },
     "execution_count": 53,
     "metadata": {},
     "output_type": "execute_result"
    }
   ],
   "source": [
    "heatmap.shape"
   ]
  },
  {
   "cell_type": "code",
   "execution_count": 54,
   "id": "secret-mouse",
   "metadata": {},
   "outputs": [],
   "source": [
    "heatmap = cv2.resize(heatmap, (x_cv2.shape[1], x_cv2.shape[0]))"
   ]
  },
  {
   "cell_type": "code",
   "execution_count": 55,
   "id": "romance-cleaner",
   "metadata": {},
   "outputs": [
    {
     "data": {
      "text/plain": [
       "(195, 258)"
      ]
     },
     "execution_count": 55,
     "metadata": {},
     "output_type": "execute_result"
    }
   ],
   "source": [
    "heatmap.shape"
   ]
  },
  {
   "cell_type": "code",
   "execution_count": 56,
   "id": "palestinian-guess",
   "metadata": {},
   "outputs": [
    {
     "data": {
      "text/plain": [
       "array([[0.1389854 , 0.1389854 , 0.1389854 , ..., 0.1197453 , 0.1197453 ,\n",
       "        0.1197453 ],\n",
       "       [0.1389854 , 0.1389854 , 0.1389854 , ..., 0.1197453 , 0.1197453 ,\n",
       "        0.1197453 ],\n",
       "       [0.1389854 , 0.1389854 , 0.1389854 , ..., 0.1197453 , 0.1197453 ,\n",
       "        0.1197453 ],\n",
       "       ...,\n",
       "       [0.16170156, 0.16170156, 0.16170156, ..., 0.09760147, 0.09760147,\n",
       "        0.09760147],\n",
       "       [0.16170156, 0.16170156, 0.16170156, ..., 0.09760147, 0.09760147,\n",
       "        0.09760147],\n",
       "       [0.16170156, 0.16170156, 0.16170156, ..., 0.09760147, 0.09760147,\n",
       "        0.09760147]], dtype=float32)"
      ]
     },
     "execution_count": 56,
     "metadata": {},
     "output_type": "execute_result"
    }
   ],
   "source": [
    "heatmap"
   ]
  },
  {
   "cell_type": "code",
   "execution_count": 57,
   "id": "played-demonstration",
   "metadata": {},
   "outputs": [
    {
     "data": {
      "text/plain": [
       "dtype('float32')"
      ]
     },
     "execution_count": 57,
     "metadata": {},
     "output_type": "execute_result"
    }
   ],
   "source": [
    "heatmap.dtype"
   ]
  },
  {
   "cell_type": "markdown",
   "id": "efficient-consensus",
   "metadata": {},
   "source": [
    "****Convert to RGB values in [0,255]****"
   ]
  },
  {
   "cell_type": "code",
   "execution_count": 58,
   "id": "coastal-reliance",
   "metadata": {},
   "outputs": [],
   "source": [
    "heatmap_init = heatmap.copy()"
   ]
  },
  {
   "cell_type": "code",
   "execution_count": 59,
   "id": "nearby-central",
   "metadata": {},
   "outputs": [],
   "source": [
    "heatmap = np.uint8(heatmap * 255)"
   ]
  },
  {
   "cell_type": "code",
   "execution_count": 60,
   "id": "criminal-mounting",
   "metadata": {},
   "outputs": [
    {
     "data": {
      "text/plain": [
       "dtype('uint8')"
      ]
     },
     "execution_count": 60,
     "metadata": {},
     "output_type": "execute_result"
    }
   ],
   "source": [
    "heatmap.dtype"
   ]
  },
  {
   "cell_type": "code",
   "execution_count": 61,
   "id": "corrected-physics",
   "metadata": {},
   "outputs": [
    {
     "data": {
      "text/plain": [
       "array([[35, 35, 35, ..., 30, 30, 30],\n",
       "       [35, 35, 35, ..., 30, 30, 30],\n",
       "       [35, 35, 35, ..., 30, 30, 30],\n",
       "       ...,\n",
       "       [41, 41, 41, ..., 24, 24, 24],\n",
       "       [41, 41, 41, ..., 24, 24, 24],\n",
       "       [41, 41, 41, ..., 24, 24, 24]], dtype=uint8)"
      ]
     },
     "execution_count": 61,
     "metadata": {},
     "output_type": "execute_result"
    }
   ],
   "source": [
    "heatmap"
   ]
  },
  {
   "cell_type": "code",
   "execution_count": 62,
   "id": "related-respect",
   "metadata": {},
   "outputs": [
    {
     "name": "stdout",
     "output_type": "stream",
     "text": [
      "(195, 258)\n"
     ]
    }
   ],
   "source": [
    "print(heatmap.shape)"
   ]
  },
  {
   "cell_type": "code",
   "execution_count": 63,
   "id": "identified-reducing",
   "metadata": {},
   "outputs": [
    {
     "data": {
      "text/plain": [
       "array([[[255,  12,   0],\n",
       "        [255,  12,   0],\n",
       "        [255,  12,   0],\n",
       "        ...,\n",
       "        [248,   0,   0],\n",
       "        [248,   0,   0],\n",
       "        [248,   0,   0]],\n",
       "\n",
       "       [[255,  12,   0],\n",
       "        [255,  12,   0],\n",
       "        [255,  12,   0],\n",
       "        ...,\n",
       "        [248,   0,   0],\n",
       "        [248,   0,   0],\n",
       "        [248,   0,   0]],\n",
       "\n",
       "       [[255,  12,   0],\n",
       "        [255,  12,   0],\n",
       "        [255,  12,   0],\n",
       "        ...,\n",
       "        [248,   0,   0],\n",
       "        [248,   0,   0],\n",
       "        [248,   0,   0]],\n",
       "\n",
       "       ...,\n",
       "\n",
       "       [[255,  36,   0],\n",
       "        [255,  36,   0],\n",
       "        [255,  36,   0],\n",
       "        ...,\n",
       "        [224,   0,   0],\n",
       "        [224,   0,   0],\n",
       "        [224,   0,   0]],\n",
       "\n",
       "       [[255,  36,   0],\n",
       "        [255,  36,   0],\n",
       "        [255,  36,   0],\n",
       "        ...,\n",
       "        [224,   0,   0],\n",
       "        [224,   0,   0],\n",
       "        [224,   0,   0]],\n",
       "\n",
       "       [[255,  36,   0],\n",
       "        [255,  36,   0],\n",
       "        [255,  36,   0],\n",
       "        ...,\n",
       "        [224,   0,   0],\n",
       "        [224,   0,   0],\n",
       "        [224,   0,   0]]], dtype=uint8)"
      ]
     },
     "execution_count": 63,
     "metadata": {},
     "output_type": "execute_result"
    }
   ],
   "source": [
    "heatmap = cv2.applyColorMap(heatmap, cv2.COLORMAP_JET)\n",
    "heatmap"
   ]
  },
  {
   "cell_type": "markdown",
   "id": "indirect-finland",
   "metadata": {},
   "source": [
    "****Overlay heamap on the image. Here 0.5 represents intensity****"
   ]
  },
  {
   "cell_type": "code",
   "execution_count": 64,
   "id": "indoor-seminar",
   "metadata": {},
   "outputs": [
    {
     "data": {
      "text/plain": [
       "dtype('uint8')"
      ]
     },
     "execution_count": 64,
     "metadata": {},
     "output_type": "execute_result"
    }
   ],
   "source": [
    "x_cv2.dtype"
   ]
  },
  {
   "cell_type": "code",
   "execution_count": 65,
   "id": "median-jones",
   "metadata": {},
   "outputs": [
    {
     "data": {
      "text/plain": [
       "dtype('uint8')"
      ]
     },
     "execution_count": 65,
     "metadata": {},
     "output_type": "execute_result"
    }
   ],
   "source": [
    "heatmap.dtype"
   ]
  },
  {
   "cell_type": "code",
   "execution_count": 66,
   "id": "noble-account",
   "metadata": {},
   "outputs": [],
   "source": [
    "x_masked = (heatmap * 0.4) + x_cv2"
   ]
  },
  {
   "cell_type": "code",
   "execution_count": 67,
   "id": "going-decision",
   "metadata": {},
   "outputs": [
    {
     "data": {
      "text/plain": [
       "<matplotlib.image.AxesImage at 0x7f2561281b50>"
      ]
     },
     "execution_count": 67,
     "metadata": {},
     "output_type": "execute_result"
    },
    {
     "data": {
      "image/png": "[encoded data removed]",
      "text/plain": [
       "<Figure size 432x288 with 1 Axes>"
      ]
     },
     "metadata": {
      "needs_background": "light"
     },
     "output_type": "display_data"
    }
   ],
   "source": [
    "plt.imshow(heatmap_init)"
   ]
  },
  {
   "cell_type": "code",
   "execution_count": 68,
   "id": "superior-edmonton",
   "metadata": {},
   "outputs": [
    {
     "data": {
      "text/plain": [
       "<matplotlib.image.AxesImage at 0x7f264c04a990>"
      ]
     },
     "execution_count": 68,
     "metadata": {},
     "output_type": "execute_result"
    },
    {
     "data": {
      "image/png": "[encoded data removed]",
      "text/plain": [
       "<Figure size 432x288 with 1 Axes>"
      ]
     },
     "metadata": {
      "needs_background": "light"
     },
     "output_type": "display_data"
    }
   ],
   "source": [
    "plt.imshow(heatmap)"
   ]
  },
  {
   "cell_type": "code",
   "execution_count": 69,
   "id": "exotic-thanks",
   "metadata": {},
   "outputs": [
    {
     "data": {
      "text/plain": [
       "<matplotlib.image.AxesImage at 0x7f25611b9390>"
      ]
     },
     "execution_count": 69,
     "metadata": {},
     "output_type": "execute_result"
    },
    {
     "data": {
      "image/png": "[encoded data removed]",
      "text/plain": [
       "<Figure size 432x288 with 1 Axes>"
      ]
     },
     "metadata": {
      "needs_background": "light"
     },
     "output_type": "display_data"
    }
   ],
   "source": [
    "plt.imshow(keras.preprocessing.image.array_to_img(x_masked))"
   ]
  },
  {
   "cell_type": "code",
   "execution_count": null,
   "id": "worth-richmond",
   "metadata": {},
   "outputs": [],
   "source": []
  }
 ],
 "metadata": {
  "kernelspec": {
   "display_name": "Python 3",
   "language": "python",
   "name": "python3"
  },
  "language_info": {
   "codemirror_mode": {
    "name": "ipython",
    "version": 3
   },
   "file_extension": ".py",
   "mimetype": "text/x-python",
   "name": "python",
   "nbconvert_exporter": "python",
   "pygments_lexer": "ipython3",
   "version": "3.7.9"
  }
 },
 "nbformat": 4,
 "nbformat_minor": 5
}
