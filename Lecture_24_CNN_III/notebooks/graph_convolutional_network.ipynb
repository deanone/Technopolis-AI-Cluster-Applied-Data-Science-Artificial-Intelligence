{
 "cells": [
  {
   "cell_type": "markdown",
   "id": "isolated-greece",
   "metadata": {},
   "source": [
    "****Import packages****"
   ]
  },
  {
   "cell_type": "code",
   "execution_count": null,
   "id": "integrated-trial",
   "metadata": {},
   "outputs": [],
   "source": [
    "import numpy as np\n",
    "from scipy.linalg import fractional_matrix_power\n",
    "import matplotlib.pyplot as plt\n",
    "import networkx as nx\n",
    "import tensorflow as tf\n",
    "from tensorflow import keras"
   ]
  },
  {
   "cell_type": "code",
   "execution_count": null,
   "id": "coordinate-action",
   "metadata": {},
   "outputs": [],
   "source": [
    "tf.random.set_seed(42)"
   ]
  },
  {
   "cell_type": "markdown",
   "id": "aware-dominican",
   "metadata": {},
   "source": [
    "****Load Zackary's Karate Club graph****"
   ]
  },
  {
   "cell_type": "code",
   "execution_count": null,
   "id": "generous-strike",
   "metadata": {},
   "outputs": [],
   "source": [
    "G = nx.karate_club_graph()"
   ]
  },
  {
   "cell_type": "code",
   "execution_count": null,
   "id": "banner-marshall",
   "metadata": {},
   "outputs": [],
   "source": [
    "print('Graph name: ', G.name)"
   ]
  },
  {
   "cell_type": "code",
   "execution_count": null,
   "id": "upper-suspect",
   "metadata": {},
   "outputs": [],
   "source": [
    "print('Number of nodes: ', G.number_of_nodes())"
   ]
  },
  {
   "cell_type": "code",
   "execution_count": null,
   "id": "amber-china",
   "metadata": {},
   "outputs": [],
   "source": [
    "N = G.number_of_nodes()"
   ]
  },
  {
   "cell_type": "code",
   "execution_count": null,
   "id": "covered-beauty",
   "metadata": {},
   "outputs": [],
   "source": [
    "print('Number of edges: ', G.number_of_edges())"
   ]
  },
  {
   "cell_type": "code",
   "execution_count": null,
   "id": "anonymous-carrier",
   "metadata": {},
   "outputs": [],
   "source": [
    "degree_list = list(G.degree)\n",
    "for deg in degree_list:\n",
    "    print('Node {} has {} edges'.format(deg[0], deg[1]))"
   ]
  },
  {
   "cell_type": "code",
   "execution_count": null,
   "id": "facial-adult",
   "metadata": {},
   "outputs": [],
   "source": [
    "nx.draw(G, with_labels=True)"
   ]
  },
  {
   "cell_type": "code",
   "execution_count": null,
   "id": "third-incentive",
   "metadata": {},
   "outputs": [],
   "source": [
    "nx.draw_circular(G, with_labels=True)"
   ]
  },
  {
   "cell_type": "markdown",
   "id": "celtic-startup",
   "metadata": {},
   "source": [
    "****Adjacency matrix****"
   ]
  },
  {
   "cell_type": "code",
   "execution_count": null,
   "id": "yellow-liquid",
   "metadata": {},
   "outputs": [],
   "source": [
    "A = nx.adjacency_matrix(G)"
   ]
  },
  {
   "cell_type": "code",
   "execution_count": null,
   "id": "medium-routine",
   "metadata": {},
   "outputs": [],
   "source": [
    "type(A)"
   ]
  },
  {
   "cell_type": "code",
   "execution_count": null,
   "id": "steady-reply",
   "metadata": {},
   "outputs": [],
   "source": [
    "A.shape"
   ]
  },
  {
   "cell_type": "code",
   "execution_count": null,
   "id": "forty-egypt",
   "metadata": {},
   "outputs": [],
   "source": [
    "A = A.toarray()"
   ]
  },
  {
   "cell_type": "code",
   "execution_count": null,
   "id": "endless-framework",
   "metadata": {},
   "outputs": [],
   "source": [
    "print(A)"
   ]
  },
  {
   "cell_type": "markdown",
   "id": "difficult-consensus",
   "metadata": {},
   "source": [
    "****Degree matrix****"
   ]
  },
  {
   "cell_type": "code",
   "execution_count": null,
   "id": "egyptian-pricing",
   "metadata": {},
   "outputs": [],
   "source": [
    "D = np.diag(np.sum(A, axis=1))"
   ]
  },
  {
   "cell_type": "code",
   "execution_count": null,
   "id": "reserved-night",
   "metadata": {},
   "outputs": [],
   "source": [
    "type(D)"
   ]
  },
  {
   "cell_type": "code",
   "execution_count": null,
   "id": "welcome-manchester",
   "metadata": {},
   "outputs": [],
   "source": [
    "D.shape"
   ]
  },
  {
   "cell_type": "code",
   "execution_count": null,
   "id": "considerable-isaac",
   "metadata": {},
   "outputs": [],
   "source": [
    "print(D)"
   ]
  },
  {
   "cell_type": "markdown",
   "id": "worthy-garage",
   "metadata": {},
   "source": [
    "****Normalized degree matrix****"
   ]
  },
  {
   "cell_type": "code",
   "execution_count": null,
   "id": "searching-aaron",
   "metadata": {},
   "outputs": [],
   "source": [
    "D_frac_pow = fractional_matrix_power(D, -0.5)"
   ]
  },
  {
   "cell_type": "code",
   "execution_count": null,
   "id": "regulation-exhibition",
   "metadata": {},
   "outputs": [],
   "source": [
    "type(D_frac_pow)"
   ]
  },
  {
   "cell_type": "code",
   "execution_count": null,
   "id": "casual-credit",
   "metadata": {},
   "outputs": [],
   "source": [
    "D_frac_pow.shape"
   ]
  },
  {
   "cell_type": "code",
   "execution_count": null,
   "id": "premium-evanescence",
   "metadata": {},
   "outputs": [],
   "source": [
    "print(D_frac_pow)"
   ]
  },
  {
   "cell_type": "markdown",
   "id": "finite-holocaust",
   "metadata": {},
   "source": [
    "****Normalized adjacency matrix****"
   ]
  },
  {
   "cell_type": "code",
   "execution_count": null,
   "id": "analyzed-picking",
   "metadata": {},
   "outputs": [],
   "source": [
    "A_norm = D_frac_pow.dot(A).dot(D_frac_pow)"
   ]
  },
  {
   "cell_type": "code",
   "execution_count": null,
   "id": "accompanied-buying",
   "metadata": {},
   "outputs": [],
   "source": [
    "type(A_norm)"
   ]
  },
  {
   "cell_type": "code",
   "execution_count": null,
   "id": "subsequent-battlefield",
   "metadata": {},
   "outputs": [],
   "source": [
    "A_norm.shape"
   ]
  },
  {
   "cell_type": "code",
   "execution_count": null,
   "id": "young-practitioner",
   "metadata": {},
   "outputs": [],
   "source": [
    "A_norm.dtype"
   ]
  },
  {
   "cell_type": "code",
   "execution_count": null,
   "id": "interested-administrator",
   "metadata": {},
   "outputs": [],
   "source": [
    "A_norm = A_norm.astype('float32')"
   ]
  },
  {
   "cell_type": "code",
   "execution_count": null,
   "id": "tough-orientation",
   "metadata": {},
   "outputs": [],
   "source": [
    "A_norm.dtype"
   ]
  },
  {
   "cell_type": "code",
   "execution_count": null,
   "id": "graduate-authentication",
   "metadata": {},
   "outputs": [],
   "source": [
    "print(A_norm)"
   ]
  },
  {
   "cell_type": "markdown",
   "id": "laden-porter",
   "metadata": {},
   "source": [
    "****Import GCN package****"
   ]
  },
  {
   "cell_type": "code",
   "execution_count": null,
   "id": "contrary-fellowship",
   "metadata": {},
   "outputs": [],
   "source": [
    "from gcn import GCN"
   ]
  },
  {
   "cell_type": "markdown",
   "id": "seeing-symposium",
   "metadata": {},
   "source": [
    "****Nodes feature matrix and true labels****"
   ]
  },
  {
   "cell_type": "code",
   "execution_count": null,
   "id": "danish-southeast",
   "metadata": {},
   "outputs": [],
   "source": [
    "F = np.eye(N)"
   ]
  },
  {
   "cell_type": "code",
   "execution_count": null,
   "id": "elegant-anaheim",
   "metadata": {},
   "outputs": [],
   "source": [
    "print(F)"
   ]
  },
  {
   "cell_type": "code",
   "execution_count": null,
   "id": "spread-effort",
   "metadata": {},
   "outputs": [],
   "source": [
    "def ohe_label_zackary(labels, n_class=2):\n",
    "    \"\"\"\n",
    "\n",
    "    It one-hot-encodes the labels of the zackary dataset.\n",
    "    :param labels: the labels\n",
    "    :type labels: numpy.ndarray\n",
    "    :param n_class: the number of classes in the zackary dataset\n",
    "    :type n_class: int\n",
    "    :return: the one-hot-encoded vectors that correspond to the input labels\n",
    "    :rtype: numpy.ndarray\n",
    "\n",
    "    \"\"\"\n",
    "\n",
    "    labels_ohe = np.zeros((len(labels), 2))\n",
    "    for i in range(len(labels)):\n",
    "        if labels[i] == 0:\n",
    "            labels_ohe[i] = np.array([1, 0])\n",
    "        else:\n",
    "            labels_ohe[i] = np.array([0, 1])\n",
    "    return labels_ohe"
   ]
  },
  {
   "cell_type": "code",
   "execution_count": null,
   "id": "civil-homeless",
   "metadata": {},
   "outputs": [],
   "source": [
    "y = np.array([0, 0, 0, 0, 0, 0, 0, 0, 1, 1, 0, 0, 0, 0, 1, 1, 0, 0, 1, 0, 1, 0, 1, 1, 1, 1, 1, 1, 1, 1, 1, 1, 1, 1])"
   ]
  },
  {
   "cell_type": "code",
   "execution_count": null,
   "id": "residential-airline",
   "metadata": {},
   "outputs": [],
   "source": [
    "nx.draw(G, node_color=y, cmap=plt.cm.Set3, with_labels=True)"
   ]
  },
  {
   "cell_type": "code",
   "execution_count": null,
   "id": "advance-loading",
   "metadata": {},
   "outputs": [],
   "source": [
    "y_init = y"
   ]
  },
  {
   "cell_type": "code",
   "execution_count": null,
   "id": "planned-envelope",
   "metadata": {},
   "outputs": [],
   "source": [
    "y = ohe_label_zackary(y)"
   ]
  },
  {
   "cell_type": "code",
   "execution_count": null,
   "id": "charming-andorra",
   "metadata": {},
   "outputs": [],
   "source": [
    "print(y)"
   ]
  },
  {
   "cell_type": "markdown",
   "id": "negative-morning",
   "metadata": {},
   "source": [
    "****Split data into train and test****"
   ]
  },
  {
   "cell_type": "code",
   "execution_count": null,
   "id": "established-leisure",
   "metadata": {},
   "outputs": [],
   "source": [
    "from sklearn.model_selection import train_test_split"
   ]
  },
  {
   "cell_type": "code",
   "execution_count": null,
   "id": "ecological-minimum",
   "metadata": {},
   "outputs": [],
   "source": [
    "indices = np.arange(N)\n",
    "indices"
   ]
  },
  {
   "cell_type": "code",
   "execution_count": null,
   "id": "twelve-silence",
   "metadata": {},
   "outputs": [],
   "source": [
    "num_test_samples = 0.2"
   ]
  },
  {
   "cell_type": "code",
   "execution_count": null,
   "id": "subject-money",
   "metadata": {},
   "outputs": [],
   "source": [
    "X_train, X_test, y_train, y_test, train_mask, test_mask = train_test_split(F, y, indices, test_size=num_test_samples, random_state=42)"
   ]
  },
  {
   "cell_type": "code",
   "execution_count": null,
   "id": "alpha-general",
   "metadata": {},
   "outputs": [],
   "source": [
    "X_train.shape"
   ]
  },
  {
   "cell_type": "code",
   "execution_count": null,
   "id": "satellite-resource",
   "metadata": {},
   "outputs": [],
   "source": [
    "y_train.shape"
   ]
  },
  {
   "cell_type": "code",
   "execution_count": null,
   "id": "thirty-oxford",
   "metadata": {},
   "outputs": [],
   "source": [
    "X_test.shape"
   ]
  },
  {
   "cell_type": "code",
   "execution_count": null,
   "id": "increasing-generator",
   "metadata": {},
   "outputs": [],
   "source": [
    "y_test.shape"
   ]
  },
  {
   "cell_type": "code",
   "execution_count": null,
   "id": "orange-brown",
   "metadata": {},
   "outputs": [],
   "source": [
    "train_mask.shape"
   ]
  },
  {
   "cell_type": "code",
   "execution_count": null,
   "id": "social-circus",
   "metadata": {},
   "outputs": [],
   "source": [
    "train_mask"
   ]
  },
  {
   "cell_type": "code",
   "execution_count": null,
   "id": "amber-adaptation",
   "metadata": {},
   "outputs": [],
   "source": [
    "test_mask.shape"
   ]
  },
  {
   "cell_type": "code",
   "execution_count": null,
   "id": "surface-dancing",
   "metadata": {},
   "outputs": [],
   "source": [
    "test_mask"
   ]
  },
  {
   "cell_type": "code",
   "execution_count": null,
   "id": "posted-virginia",
   "metadata": {},
   "outputs": [],
   "source": [
    "y_train_masked = np.zeros(y.shape)\n",
    "y_train_masked[train_mask] = y_train"
   ]
  },
  {
   "cell_type": "code",
   "execution_count": null,
   "id": "macro-wealth",
   "metadata": {},
   "outputs": [],
   "source": [
    "y_train_masked.shape"
   ]
  },
  {
   "cell_type": "code",
   "execution_count": null,
   "id": "buried-microwave",
   "metadata": {},
   "outputs": [],
   "source": [
    "y_train_masked"
   ]
  },
  {
   "cell_type": "code",
   "execution_count": null,
   "id": "automatic-lesbian",
   "metadata": {},
   "outputs": [],
   "source": [
    "y_test_masked = np.zeros(y.shape)\n",
    "y_test_masked[test_mask] = y_test"
   ]
  },
  {
   "cell_type": "code",
   "execution_count": null,
   "id": "powered-matrix",
   "metadata": {},
   "outputs": [],
   "source": [
    "y_test_masked.shape"
   ]
  },
  {
   "cell_type": "code",
   "execution_count": null,
   "id": "living-grounds",
   "metadata": {},
   "outputs": [],
   "source": [
    "y_test_masked"
   ]
  },
  {
   "cell_type": "code",
   "execution_count": null,
   "id": "pointed-animal",
   "metadata": {},
   "outputs": [],
   "source": [
    "def create_zeros_ones_mask(input_array, l):\n",
    "    \"\"\"\n",
    "\n",
    "    It creates a mask of length l, which has 1s in the indexes of the input array and 0s elsewere.\n",
    "    :param input_array: the input array from which the mask is generated\n",
    "    :type input_array: numpy.ndarray\n",
    "    :param l: the required length of the generated mask\n",
    "    :type l: int \n",
    "    :return: the generated mask of length l\n",
    "    :rtype: numpy.ndarray\n",
    "\n",
    "    \"\"\"\n",
    "\n",
    "    zeros_ones_mask = np.zeros(l)\n",
    "    zeros_ones_mask[input_array] = 1\n",
    "    return np.array(zeros_ones_mask, dtype=np.bool)"
   ]
  },
  {
   "cell_type": "code",
   "execution_count": null,
   "id": "swiss-anxiety",
   "metadata": {},
   "outputs": [],
   "source": [
    "train_mask = create_zeros_ones_mask(train_mask, N)"
   ]
  },
  {
   "cell_type": "code",
   "execution_count": null,
   "id": "extraordinary-conditioning",
   "metadata": {},
   "outputs": [],
   "source": [
    "train_mask.shape"
   ]
  },
  {
   "cell_type": "code",
   "execution_count": null,
   "id": "suitable-lemon",
   "metadata": {},
   "outputs": [],
   "source": [
    "train_mask"
   ]
  },
  {
   "cell_type": "code",
   "execution_count": null,
   "id": "stunning-vector",
   "metadata": {},
   "outputs": [],
   "source": [
    "test_mask = create_zeros_ones_mask(test_mask, y.shape[0])"
   ]
  },
  {
   "cell_type": "code",
   "execution_count": null,
   "id": "agricultural-naples",
   "metadata": {},
   "outputs": [],
   "source": [
    "test_mask.shape"
   ]
  },
  {
   "cell_type": "code",
   "execution_count": null,
   "id": "automated-edinburgh",
   "metadata": {},
   "outputs": [],
   "source": [
    "test_mask"
   ]
  },
  {
   "cell_type": "markdown",
   "id": "painted-nicaragua",
   "metadata": {},
   "source": [
    "****Set up, train and evaluate the custom DNN model****"
   ]
  },
  {
   "cell_type": "code",
   "execution_count": null,
   "id": "allied-welsh",
   "metadata": {},
   "outputs": [],
   "source": [
    "num_units_in_hidden_layers = [16]"
   ]
  },
  {
   "cell_type": "code",
   "execution_count": null,
   "id": "coral-motion",
   "metadata": {},
   "outputs": [],
   "source": [
    "num_units_in_output_layer = 2"
   ]
  },
  {
   "cell_type": "code",
   "execution_count": null,
   "id": "democratic-northwest",
   "metadata": {},
   "outputs": [],
   "source": [
    "gcn_model = GCN(num_units_in_hidden_layers, num_units_in_output_layer, A_norm, train_mask, test_mask)"
   ]
  },
  {
   "cell_type": "code",
   "execution_count": null,
   "id": "outside-camel",
   "metadata": {},
   "outputs": [],
   "source": [
    "gcn_model.compile(optimizer=tf.keras.optimizers.Adam(learning_rate=1e-2))"
   ]
  },
  {
   "cell_type": "code",
   "execution_count": null,
   "id": "constant-suite",
   "metadata": {},
   "outputs": [],
   "source": [
    "gcn_model.build(F.shape)"
   ]
  },
  {
   "cell_type": "code",
   "execution_count": null,
   "id": "plain-confidence",
   "metadata": {},
   "outputs": [],
   "source": [
    "gcn_model.summary()"
   ]
  },
  {
   "cell_type": "code",
   "execution_count": null,
   "id": "governmental-wyoming",
   "metadata": {},
   "outputs": [],
   "source": [
    "gcn_model.fit(F, y_train_masked, epochs=10, batch_size=F.shape[0])"
   ]
  },
  {
   "cell_type": "code",
   "execution_count": null,
   "id": "cubic-representative",
   "metadata": {},
   "outputs": [],
   "source": [
    "gcn_model.test_mask"
   ]
  },
  {
   "cell_type": "code",
   "execution_count": null,
   "id": "floating-engineering",
   "metadata": {},
   "outputs": [],
   "source": [
    "train_mask"
   ]
  },
  {
   "cell_type": "code",
   "execution_count": null,
   "id": "received-bryan",
   "metadata": {},
   "outputs": [],
   "source": [
    "gcn_model.test_mask = train_mask"
   ]
  },
  {
   "cell_type": "code",
   "execution_count": null,
   "id": "rising-acoustic",
   "metadata": {},
   "outputs": [],
   "source": [
    "gcn_model.test_mask"
   ]
  },
  {
   "cell_type": "code",
   "execution_count": null,
   "id": "promising-virus",
   "metadata": {},
   "outputs": [],
   "source": [
    "evaluation_results_train = gcn_model.evaluate(F, y_train_masked, batch_size=F.shape[0])"
   ]
  },
  {
   "cell_type": "code",
   "execution_count": null,
   "id": "cooked-evanescence",
   "metadata": {},
   "outputs": [],
   "source": [
    "test_mask"
   ]
  },
  {
   "cell_type": "code",
   "execution_count": null,
   "id": "vital-suggestion",
   "metadata": {},
   "outputs": [],
   "source": [
    "gcn_model.test_mask = test_mask"
   ]
  },
  {
   "cell_type": "code",
   "execution_count": null,
   "id": "little-coast",
   "metadata": {},
   "outputs": [],
   "source": [
    "gcn_model.test_mask"
   ]
  },
  {
   "cell_type": "code",
   "execution_count": null,
   "id": "excess-writer",
   "metadata": {},
   "outputs": [],
   "source": [
    "evaluation_results_test = gcn_model.evaluate(F, y_test_masked, batch_size=F.shape[0])"
   ]
  },
  {
   "cell_type": "code",
   "execution_count": null,
   "id": "south-migration",
   "metadata": {},
   "outputs": [],
   "source": [
    "all_mask = np.array(N*[True])"
   ]
  },
  {
   "cell_type": "code",
   "execution_count": null,
   "id": "loving-solid",
   "metadata": {},
   "outputs": [],
   "source": [
    "gcn_model.test_mask = all_mask"
   ]
  },
  {
   "cell_type": "code",
   "execution_count": null,
   "id": "expanded-disney",
   "metadata": {},
   "outputs": [],
   "source": [
    "gcn_model.test_mask"
   ]
  },
  {
   "cell_type": "code",
   "execution_count": null,
   "id": "hourly-postcard",
   "metadata": {},
   "outputs": [],
   "source": [
    "evaluation_results_all = gcn_model.evaluate(F, y, batch_size=F.shape[0])"
   ]
  },
  {
   "cell_type": "code",
   "execution_count": null,
   "id": "expensive-mexico",
   "metadata": {},
   "outputs": [],
   "source": [
    "print('Train Accuracy (%): ', round(evaluation_results_train[1] * 100.0, 3))"
   ]
  },
  {
   "cell_type": "code",
   "execution_count": null,
   "id": "progressive-fireplace",
   "metadata": {},
   "outputs": [],
   "source": [
    "print('Test Accuracy (%): ', round(evaluation_results_test[1] * 100.0, 3))"
   ]
  },
  {
   "cell_type": "code",
   "execution_count": null,
   "id": "tracked-dividend",
   "metadata": {},
   "outputs": [],
   "source": [
    "print('All Accuracy (%): ', round(evaluation_results_all[1] * 100.0, 3))"
   ]
  },
  {
   "cell_type": "code",
   "execution_count": null,
   "id": "medieval-floor",
   "metadata": {},
   "outputs": [],
   "source": [
    "y_init"
   ]
  },
  {
   "cell_type": "code",
   "execution_count": null,
   "id": "equivalent-conspiracy",
   "metadata": {},
   "outputs": [],
   "source": [
    "y_pred = gcn_model.predict(F, batch_size=F.shape[0])"
   ]
  },
  {
   "cell_type": "code",
   "execution_count": null,
   "id": "twenty-grain",
   "metadata": {},
   "outputs": [],
   "source": [
    "y_pred"
   ]
  },
  {
   "cell_type": "code",
   "execution_count": null,
   "id": "certified-mauritius",
   "metadata": {},
   "outputs": [],
   "source": [
    "y_pred_labels = []\n",
    "for pred in y_pred:\n",
    "    y_pred_labels.append(np.argmax(pred))\n",
    "y_pred_labels = np.array(y_pred_labels)"
   ]
  },
  {
   "cell_type": "code",
   "execution_count": null,
   "id": "approved-deviation",
   "metadata": {},
   "outputs": [],
   "source": [
    "y_pred_labels"
   ]
  },
  {
   "cell_type": "code",
   "execution_count": null,
   "id": "drawn-expansion",
   "metadata": {},
   "outputs": [],
   "source": [
    "plt.figure(1)\n",
    "nx.draw(G, node_color=y_init, cmap=plt.cm.Set3, with_labels=True)\n",
    "plt.figure(2)\n",
    "nx.draw(G, node_color=y_pred_labels, cmap=plt.cm.Set3, with_labels=True)\n",
    "plt.show()"
   ]
  },
  {
   "cell_type": "code",
   "execution_count": null,
   "id": "wooden-traffic",
   "metadata": {},
   "outputs": [],
   "source": [
    "plt.figure(1)\n",
    "nx.draw_circular(G, node_color=y_init, cmap=plt.cm.Set3, with_labels=True)\n",
    "plt.figure(2)\n",
    "nx.draw_circular(G, node_color=y_pred_labels, cmap=plt.cm.Set3, with_labels=True)\n",
    "plt.show()"
   ]
  },
  {
   "cell_type": "code",
   "execution_count": null,
   "id": "common-bahrain",
   "metadata": {},
   "outputs": [],
   "source": []
  }
 ],
 "metadata": {
  "kernelspec": {
   "display_name": "Python 3",
   "language": "python",
   "name": "python3"
  },
  "language_info": {
   "codemirror_mode": {
    "name": "ipython",
    "version": 3
   },
   "file_extension": ".py",
   "mimetype": "text/x-python",
   "name": "python",
   "nbconvert_exporter": "python",
   "pygments_lexer": "ipython3",
   "version": "3.7.9"
  }
 },
 "nbformat": 4,
 "nbformat_minor": 5
}
