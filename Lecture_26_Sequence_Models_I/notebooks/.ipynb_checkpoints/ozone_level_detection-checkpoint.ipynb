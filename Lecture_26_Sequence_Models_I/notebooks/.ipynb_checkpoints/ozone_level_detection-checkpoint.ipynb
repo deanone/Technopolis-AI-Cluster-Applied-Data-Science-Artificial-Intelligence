{
 "cells": [
  {
   "cell_type": "markdown",
   "id": "first-carrier",
   "metadata": {},
   "source": [
    "****Import required packages****"
   ]
  },
  {
   "cell_type": "code",
   "execution_count": null,
   "id": "sophisticated-biology",
   "metadata": {},
   "outputs": [],
   "source": [
    "import numpy as np\n",
    "import pandas as pd\n",
    "import matplotlib.pyplot as plt"
   ]
  },
  {
   "cell_type": "markdown",
   "id": "danish-steal",
   "metadata": {},
   "source": [
    "****Import Tensorflow****"
   ]
  },
  {
   "cell_type": "code",
   "execution_count": null,
   "id": "third-incentive",
   "metadata": {},
   "outputs": [],
   "source": [
    "import tensorflow as tf\n",
    "# required for solving issue with cuDNN\n",
    "gpu_devices = tf.config.experimental.list_physical_devices('GPU')\n",
    "for device in gpu_devices: tf.config.experimental.set_memory_growth(device, True)"
   ]
  },
  {
   "cell_type": "code",
   "execution_count": null,
   "id": "equal-feeling",
   "metadata": {},
   "outputs": [],
   "source": [
    "tf.random.set_seed(42)"
   ]
  },
  {
   "cell_type": "markdown",
   "id": "composite-beatles",
   "metadata": {},
   "source": [
    "****Import Keras****"
   ]
  },
  {
   "cell_type": "code",
   "execution_count": null,
   "id": "victorian-player",
   "metadata": {},
   "outputs": [],
   "source": [
    "from tensorflow import keras"
   ]
  },
  {
   "cell_type": "code",
   "execution_count": null,
   "id": "adjacent-illinois",
   "metadata": {},
   "outputs": [],
   "source": [
    "data_filename = '../data/ozone.csv'"
   ]
  },
  {
   "cell_type": "code",
   "execution_count": null,
   "id": "weighted-destination",
   "metadata": {},
   "outputs": [],
   "source": [
    "data = pd.read_csv(data_filename)"
   ]
  },
  {
   "cell_type": "code",
   "execution_count": null,
   "id": "complete-genetics",
   "metadata": {},
   "outputs": [],
   "source": [
    "data.shape"
   ]
  },
  {
   "cell_type": "code",
   "execution_count": null,
   "id": "insured-cambridge",
   "metadata": {},
   "outputs": [],
   "source": [
    "data_columns = list(data.columns)"
   ]
  },
  {
   "cell_type": "code",
   "execution_count": null,
   "id": "modern-brick",
   "metadata": {},
   "outputs": [],
   "source": [
    "print(data_columns)"
   ]
  },
  {
   "cell_type": "code",
   "execution_count": null,
   "id": "available-webster",
   "metadata": {},
   "outputs": [],
   "source": [
    "data.head()"
   ]
  },
  {
   "cell_type": "code",
   "execution_count": null,
   "id": "employed-checkout",
   "metadata": {},
   "outputs": [],
   "source": [
    "data.tail()"
   ]
  },
  {
   "cell_type": "markdown",
   "id": "wooden-china",
   "metadata": {},
   "source": [
    "****Find number of records in each class****"
   ]
  },
  {
   "cell_type": "code",
   "execution_count": null,
   "id": "afraid-canada",
   "metadata": {},
   "outputs": [],
   "source": [
    "target_percentages = data['target'].value_counts()"
   ]
  },
  {
   "cell_type": "code",
   "execution_count": null,
   "id": "chubby-pilot",
   "metadata": {},
   "outputs": [],
   "source": [
    "print(target_percentages)"
   ]
  },
  {
   "cell_type": "code",
   "execution_count": null,
   "id": "coupled-secondary",
   "metadata": {},
   "outputs": [],
   "source": [
    "target_percentages = target_percentages.values"
   ]
  },
  {
   "cell_type": "code",
   "execution_count": null,
   "id": "boring-philippines",
   "metadata": {},
   "outputs": [],
   "source": [
    "target_0_percent = round(target_percentages[0] / np.sum(target_percentages) * 100, 3)"
   ]
  },
  {
   "cell_type": "code",
   "execution_count": null,
   "id": "lightweight-daniel",
   "metadata": {},
   "outputs": [],
   "source": [
    "print(target_0_percent)"
   ]
  },
  {
   "cell_type": "code",
   "execution_count": null,
   "id": "entertaining-passion",
   "metadata": {},
   "outputs": [],
   "source": [
    "target_1_percent = round(target_percentages[1] / np.sum(target_percentages) * 100, 3)"
   ]
  },
  {
   "cell_type": "code",
   "execution_count": null,
   "id": "typical-blind",
   "metadata": {},
   "outputs": [],
   "source": [
    "print(target_1_percent)"
   ]
  },
  {
   "cell_type": "code",
   "execution_count": null,
   "id": "acoustic-burton",
   "metadata": {},
   "outputs": [],
   "source": [
    "data.describe()"
   ]
  },
  {
   "cell_type": "code",
   "execution_count": null,
   "id": "blond-liberia",
   "metadata": {},
   "outputs": [],
   "source": [
    "data.dtypes"
   ]
  },
  {
   "cell_type": "code",
   "execution_count": null,
   "id": "weird-warner",
   "metadata": {},
   "outputs": [],
   "source": [
    "data.isnull().any()"
   ]
  },
  {
   "cell_type": "code",
   "execution_count": null,
   "id": "balanced-masters",
   "metadata": {},
   "outputs": [],
   "source": [
    "for missing_flag in data.isnull().any():\n",
    "    print(missing_flag)"
   ]
  },
  {
   "cell_type": "code",
   "execution_count": null,
   "id": "signal-norfolk",
   "metadata": {},
   "outputs": [],
   "source": [
    "data == '?'"
   ]
  },
  {
   "cell_type": "markdown",
   "id": "rough-heritage",
   "metadata": {},
   "source": [
    "****Identify missing values with -1****"
   ]
  },
  {
   "cell_type": "code",
   "execution_count": null,
   "id": "exclusive-domain",
   "metadata": {},
   "outputs": [],
   "source": [
    "data = data.replace('?', -1)"
   ]
  },
  {
   "cell_type": "code",
   "execution_count": null,
   "id": "higher-flush",
   "metadata": {},
   "outputs": [],
   "source": [
    "data = data.iloc[:,1:].astype('float64')"
   ]
  },
  {
   "cell_type": "code",
   "execution_count": null,
   "id": "careful-canada",
   "metadata": {},
   "outputs": [],
   "source": [
    "data.dtypes"
   ]
  },
  {
   "cell_type": "code",
   "execution_count": null,
   "id": "altered-projection",
   "metadata": {},
   "outputs": [],
   "source": [
    "data.describe()"
   ]
  },
  {
   "cell_type": "markdown",
   "id": "senior-decision",
   "metadata": {},
   "source": [
    "****Extract time series and targets from original data****"
   ]
  },
  {
   "cell_type": "code",
   "execution_count": null,
   "id": "specified-joining",
   "metadata": {},
   "outputs": [],
   "source": [
    "timeseries = data.iloc[:,1:(data.shape[1] - 1)].values"
   ]
  },
  {
   "cell_type": "code",
   "execution_count": null,
   "id": "northern-chinese",
   "metadata": {},
   "outputs": [],
   "source": [
    "print(type(timeseries))"
   ]
  },
  {
   "cell_type": "code",
   "execution_count": null,
   "id": "competent-michael",
   "metadata": {},
   "outputs": [],
   "source": [
    "timeseries.shape"
   ]
  },
  {
   "cell_type": "code",
   "execution_count": null,
   "id": "naughty-office",
   "metadata": {},
   "outputs": [],
   "source": [
    "print(timeseries[0:5,-3:-1])"
   ]
  },
  {
   "cell_type": "code",
   "execution_count": null,
   "id": "twelve-price",
   "metadata": {},
   "outputs": [],
   "source": [
    "targets_init = data['target'].values"
   ]
  },
  {
   "cell_type": "code",
   "execution_count": null,
   "id": "olympic-reservoir",
   "metadata": {},
   "outputs": [],
   "source": [
    "print(type(targets_init))"
   ]
  },
  {
   "cell_type": "code",
   "execution_count": null,
   "id": "ordered-turtle",
   "metadata": {},
   "outputs": [],
   "source": [
    "targets_init.shape"
   ]
  },
  {
   "cell_type": "code",
   "execution_count": null,
   "id": "naked-madison",
   "metadata": {},
   "outputs": [],
   "source": [
    "print(targets_init[0:5])"
   ]
  },
  {
   "cell_type": "markdown",
   "id": "great-multiple",
   "metadata": {},
   "source": [
    "****Mean value imputation****"
   ]
  },
  {
   "cell_type": "code",
   "execution_count": null,
   "id": "adopted-lithuania",
   "metadata": {},
   "outputs": [],
   "source": [
    "def impute_data(timeseries):\n",
    "    (n, d) = timeseries.shape\n",
    "    timeseries_mean = np.mean(timeseries, axis=0)\n",
    "    for i in range(n):\n",
    "        for j in range(d):\n",
    "            if timeseries[i, j] == -1:\n",
    "                timeseries[i, j] = timeseries_mean[j]\n",
    "    return timeseries"
   ]
  },
  {
   "cell_type": "code",
   "execution_count": null,
   "id": "cheap-layout",
   "metadata": {},
   "outputs": [],
   "source": [
    "timeseries = impute_data(timeseries)"
   ]
  },
  {
   "cell_type": "code",
   "execution_count": null,
   "id": "dirty-bouquet",
   "metadata": {},
   "outputs": [],
   "source": [
    "print(timeseries[0:5,-3:-1])"
   ]
  },
  {
   "cell_type": "markdown",
   "id": "worst-formation",
   "metadata": {},
   "source": [
    "****Normalization****"
   ]
  },
  {
   "cell_type": "code",
   "execution_count": null,
   "id": "solar-roads",
   "metadata": {},
   "outputs": [],
   "source": [
    "timeseries_mean = timeseries.mean(axis=0)"
   ]
  },
  {
   "cell_type": "code",
   "execution_count": null,
   "id": "alleged-lunch",
   "metadata": {},
   "outputs": [],
   "source": [
    "print(timeseries_mean)"
   ]
  },
  {
   "cell_type": "code",
   "execution_count": null,
   "id": "checked-degree",
   "metadata": {},
   "outputs": [],
   "source": [
    "timeseries_std = timeseries.std(axis=0)"
   ]
  },
  {
   "cell_type": "code",
   "execution_count": null,
   "id": "behavioral-feelings",
   "metadata": {},
   "outputs": [],
   "source": [
    "print(timeseries_std)"
   ]
  },
  {
   "cell_type": "code",
   "execution_count": null,
   "id": "prepared-diana",
   "metadata": {},
   "outputs": [],
   "source": [
    "timeseries -= timeseries_mean"
   ]
  },
  {
   "cell_type": "code",
   "execution_count": null,
   "id": "trying-melbourne",
   "metadata": {},
   "outputs": [],
   "source": [
    "timeseries /= timeseries_std"
   ]
  },
  {
   "cell_type": "code",
   "execution_count": null,
   "id": "collaborative-salmon",
   "metadata": {},
   "outputs": [],
   "source": [
    "print(timeseries.mean(axis=0))"
   ]
  },
  {
   "cell_type": "code",
   "execution_count": null,
   "id": "finished-valuable",
   "metadata": {},
   "outputs": [],
   "source": [
    "print(timeseries.std(axis=0))"
   ]
  },
  {
   "cell_type": "markdown",
   "id": "serious-credits",
   "metadata": {},
   "source": [
    "****Transform initial data into batch of sequences****"
   ]
  },
  {
   "cell_type": "code",
   "execution_count": null,
   "id": "thermal-vietnam",
   "metadata": {},
   "outputs": [],
   "source": [
    "def create_sequences(timeseries, targets_init, p):\n",
    "    (n, d) = timeseries.shape\n",
    "    sequences = np.zeros((n - p, p, d)).astype('float32')\n",
    "    targets = np.zeros((n - p)).astype('float32')\n",
    "    for i in range(p, n):\n",
    "        sequence = timeseries[(i - p) : i, :]\n",
    "        target = targets_init[i - 1]\n",
    "        sequences[i - p, :, :] = sequence\n",
    "        targets[i - p] = target\n",
    "    return sequences, targets"
   ]
  },
  {
   "cell_type": "code",
   "execution_count": null,
   "id": "civic-volleyball",
   "metadata": {},
   "outputs": [],
   "source": [
    "p = 5"
   ]
  },
  {
   "cell_type": "code",
   "execution_count": null,
   "id": "alpine-maldives",
   "metadata": {},
   "outputs": [],
   "source": [
    "sequences, targets = create_sequences(timeseries, targets_init, p)"
   ]
  },
  {
   "cell_type": "code",
   "execution_count": null,
   "id": "sapphire-danger",
   "metadata": {},
   "outputs": [],
   "source": [
    "sequences.shape"
   ]
  },
  {
   "cell_type": "code",
   "execution_count": null,
   "id": "skilled-savings",
   "metadata": {},
   "outputs": [],
   "source": [
    "targets.shape"
   ]
  },
  {
   "cell_type": "markdown",
   "id": "altered-truth",
   "metadata": {},
   "source": [
    "****Split data****"
   ]
  },
  {
   "cell_type": "code",
   "execution_count": null,
   "id": "neither-birthday",
   "metadata": {},
   "outputs": [],
   "source": [
    "from sklearn.model_selection import train_test_split"
   ]
  },
  {
   "cell_type": "code",
   "execution_count": null,
   "id": "noble-marriage",
   "metadata": {},
   "outputs": [],
   "source": [
    "X_train, X_test, y_train, y_test = train_test_split(sequences, targets, test_size=0.1, shuffle=False)"
   ]
  },
  {
   "cell_type": "code",
   "execution_count": null,
   "id": "signal-appreciation",
   "metadata": {},
   "outputs": [],
   "source": [
    "print(X_train.shape)"
   ]
  },
  {
   "cell_type": "code",
   "execution_count": null,
   "id": "plastic-offset",
   "metadata": {},
   "outputs": [],
   "source": [
    "print(y_train.shape)"
   ]
  },
  {
   "cell_type": "code",
   "execution_count": null,
   "id": "irish-reader",
   "metadata": {},
   "outputs": [],
   "source": [
    "print(X_test.shape)"
   ]
  },
  {
   "cell_type": "code",
   "execution_count": null,
   "id": "stock-value",
   "metadata": {},
   "outputs": [],
   "source": [
    "print(y_test.shape)"
   ]
  },
  {
   "cell_type": "markdown",
   "id": "alike-seven",
   "metadata": {},
   "source": [
    "****Target classes percentages in train data****"
   ]
  },
  {
   "cell_type": "code",
   "execution_count": null,
   "id": "moved-corner",
   "metadata": {},
   "outputs": [],
   "source": [
    "unique_train, counts_train = np.unique(y_train, return_counts=True)"
   ]
  },
  {
   "cell_type": "code",
   "execution_count": null,
   "id": "embedded-middle",
   "metadata": {},
   "outputs": [],
   "source": [
    "print(dict(zip(unique_train, counts_train)))"
   ]
  },
  {
   "cell_type": "code",
   "execution_count": null,
   "id": "charming-report",
   "metadata": {},
   "outputs": [],
   "source": [
    "unique_train"
   ]
  },
  {
   "cell_type": "code",
   "execution_count": null,
   "id": "biblical-studio",
   "metadata": {},
   "outputs": [],
   "source": [
    "counts_train"
   ]
  },
  {
   "cell_type": "code",
   "execution_count": null,
   "id": "atmospheric-afternoon",
   "metadata": {},
   "outputs": [],
   "source": [
    "target_0_percent_train = round(counts_train[0] / np.sum(counts_train) * 100, 3)"
   ]
  },
  {
   "cell_type": "code",
   "execution_count": null,
   "id": "speaking-outside",
   "metadata": {},
   "outputs": [],
   "source": [
    "print(target_0_percent_train)"
   ]
  },
  {
   "cell_type": "code",
   "execution_count": null,
   "id": "russian-petite",
   "metadata": {},
   "outputs": [],
   "source": [
    "target_1_percent_train = round(counts_train[1] / np.sum(counts_train) * 100, 3)"
   ]
  },
  {
   "cell_type": "code",
   "execution_count": null,
   "id": "color-magic",
   "metadata": {},
   "outputs": [],
   "source": [
    "print(target_1_percent_train)"
   ]
  },
  {
   "cell_type": "markdown",
   "id": "normal-maryland",
   "metadata": {},
   "source": [
    "****Target classes percentages in test data****"
   ]
  },
  {
   "cell_type": "code",
   "execution_count": null,
   "id": "ranking-glasgow",
   "metadata": {},
   "outputs": [],
   "source": [
    "unique_test, counts_test = np.unique(y_test, return_counts=True)"
   ]
  },
  {
   "cell_type": "code",
   "execution_count": null,
   "id": "suburban-genre",
   "metadata": {},
   "outputs": [],
   "source": [
    "print(dict(zip(unique_test, counts_test)))"
   ]
  },
  {
   "cell_type": "code",
   "execution_count": null,
   "id": "occupied-jenny",
   "metadata": {},
   "outputs": [],
   "source": [
    "unique_test"
   ]
  },
  {
   "cell_type": "code",
   "execution_count": null,
   "id": "listed-milan",
   "metadata": {},
   "outputs": [],
   "source": [
    "counts_test"
   ]
  },
  {
   "cell_type": "code",
   "execution_count": null,
   "id": "incomplete-december",
   "metadata": {},
   "outputs": [],
   "source": [
    "target_0_percent_test = round(counts_test[0] / np.sum(counts_test) * 100, 3)"
   ]
  },
  {
   "cell_type": "code",
   "execution_count": null,
   "id": "american-token",
   "metadata": {},
   "outputs": [],
   "source": [
    "print(target_0_percent_test)"
   ]
  },
  {
   "cell_type": "code",
   "execution_count": null,
   "id": "interracial-rotation",
   "metadata": {},
   "outputs": [],
   "source": [
    "target_1_percent_test = round(counts_test[1] / np.sum(counts_test) * 100, 3)"
   ]
  },
  {
   "cell_type": "code",
   "execution_count": null,
   "id": "russian-discussion",
   "metadata": {},
   "outputs": [],
   "source": [
    "print(target_1_percent_test)"
   ]
  },
  {
   "cell_type": "markdown",
   "id": "plain-ability",
   "metadata": {},
   "source": [
    "****Function for plotting training history****"
   ]
  },
  {
   "cell_type": "code",
   "execution_count": null,
   "id": "delayed-installation",
   "metadata": {},
   "outputs": [],
   "source": [
    "def plot_training_history(history):\n",
    "    loss = history.history['loss']\n",
    "    val_loss = history.history['val_loss']\n",
    "    epochs = range(1, len(loss) + 1)\n",
    "    plt.figure()\n",
    "    plt.plot(epochs, loss, label='Training loss')\n",
    "    plt.plot(epochs, val_loss, label='Validation loss')\n",
    "    plt.legend()\n",
    "    plt.show()"
   ]
  },
  {
   "cell_type": "markdown",
   "id": "stock-structure",
   "metadata": {},
   "source": [
    "****Baseline models****"
   ]
  },
  {
   "cell_type": "markdown",
   "id": "olympic-consumer",
   "metadata": {},
   "source": [
    "****Persistence model****"
   ]
  },
  {
   "cell_type": "code",
   "execution_count": null,
   "id": "better-supplier",
   "metadata": {},
   "outputs": [],
   "source": [
    "def baseline_predict(X):\n",
    "    n = X.shape[0]\n",
    "    preds = []\n",
    "    for i in range(n):\n",
    "        pred = 0 # always predict 0 class\n",
    "        preds.append(pred)\n",
    "    return np.array(preds)"
   ]
  },
  {
   "cell_type": "code",
   "execution_count": null,
   "id": "italian-bradley",
   "metadata": {},
   "outputs": [],
   "source": [
    "baseline_preds = baseline_predict(X_test)"
   ]
  },
  {
   "cell_type": "code",
   "execution_count": null,
   "id": "persistent-static",
   "metadata": {},
   "outputs": [],
   "source": [
    "acc = keras.metrics.Accuracy()"
   ]
  },
  {
   "cell_type": "code",
   "execution_count": null,
   "id": "closed-virtue",
   "metadata": {},
   "outputs": [],
   "source": [
    "acc.update_state(y_true = y_test, y_pred = baseline_preds)"
   ]
  },
  {
   "cell_type": "code",
   "execution_count": null,
   "id": "coastal-camera",
   "metadata": {},
   "outputs": [],
   "source": [
    "round(acc.result().numpy() * 100, 3)"
   ]
  },
  {
   "cell_type": "markdown",
   "id": "inside-uncle",
   "metadata": {},
   "source": [
    "****Feedforward DNN****"
   ]
  },
  {
   "cell_type": "code",
   "execution_count": null,
   "id": "personal-archives",
   "metadata": {},
   "outputs": [],
   "source": [
    "dnn = keras.Sequential()\n",
    "dnn.add(keras.layers.Flatten(input_shape=(p, sequences.shape[2])))\n",
    "dnn.add(keras.layers.Dense(16, activation='relu'))\n",
    "dnn.add(keras.layers.Dense(1, activation='sigmoid'))"
   ]
  },
  {
   "cell_type": "code",
   "execution_count": null,
   "id": "southwest-korean",
   "metadata": {},
   "outputs": [],
   "source": [
    "dnn.compile(optimizer='rmsprop', loss=keras.losses.BinaryCrossentropy(), metrics=['acc'])"
   ]
  },
  {
   "cell_type": "code",
   "execution_count": null,
   "id": "toxic-riverside",
   "metadata": {},
   "outputs": [],
   "source": [
    "history_dnn = dnn.fit(X_train, y_train, epochs=10, batch_size=10, validation_split=0.1)"
   ]
  },
  {
   "cell_type": "code",
   "execution_count": null,
   "id": "embedded-helena",
   "metadata": {},
   "outputs": [],
   "source": [
    "dnn.summary()"
   ]
  },
  {
   "cell_type": "code",
   "execution_count": null,
   "id": "endless-nomination",
   "metadata": {},
   "outputs": [],
   "source": [
    "plot_training_history(history_dnn)"
   ]
  },
  {
   "cell_type": "code",
   "execution_count": null,
   "id": "conceptual-campbell",
   "metadata": {},
   "outputs": [],
   "source": [
    "dnn_results = dnn.evaluate(X_test, y_test)"
   ]
  },
  {
   "cell_type": "code",
   "execution_count": null,
   "id": "female-import",
   "metadata": {},
   "outputs": [],
   "source": [
    "print('Feedforward DNN test accuracy (%): ', round(dnn_results[1] * 100, 3))"
   ]
  },
  {
   "cell_type": "markdown",
   "id": "parallel-violence",
   "metadata": {},
   "source": [
    "****Classic RNN****"
   ]
  },
  {
   "cell_type": "code",
   "execution_count": null,
   "id": "whole-multimedia",
   "metadata": {},
   "outputs": [],
   "source": [
    "rnn = keras.Sequential()\n",
    "rnn.add(keras.layers.SimpleRNN(16))\n",
    "rnn.add(keras.layers.Dense(1, activation='sigmoid'))"
   ]
  },
  {
   "cell_type": "code",
   "execution_count": null,
   "id": "covered-quarter",
   "metadata": {},
   "outputs": [],
   "source": [
    "rnn.compile(optimizer='rmsprop', loss=keras.losses.BinaryCrossentropy(), metrics=['acc'])"
   ]
  },
  {
   "cell_type": "code",
   "execution_count": null,
   "id": "endangered-nylon",
   "metadata": {},
   "outputs": [],
   "source": [
    "history_rnn = rnn.fit(X_train, y_train, epochs=10, batch_size=10, validation_split=0.1)"
   ]
  },
  {
   "cell_type": "code",
   "execution_count": null,
   "id": "chronic-marine",
   "metadata": {},
   "outputs": [],
   "source": [
    "rnn.summary()"
   ]
  },
  {
   "cell_type": "code",
   "execution_count": null,
   "id": "expressed-scientist",
   "metadata": {},
   "outputs": [],
   "source": [
    "plot_training_history(history_rnn)"
   ]
  },
  {
   "cell_type": "code",
   "execution_count": null,
   "id": "cheap-sport",
   "metadata": {},
   "outputs": [],
   "source": [
    "rnn_results = rnn.evaluate(X_test, y_test)"
   ]
  },
  {
   "cell_type": "code",
   "execution_count": null,
   "id": "occupied-drilling",
   "metadata": {},
   "outputs": [],
   "source": [
    "print('Simple RNN test accuracy (%): ', round(rnn_results[1] * 100, 3))"
   ]
  },
  {
   "cell_type": "markdown",
   "id": "handed-equipment",
   "metadata": {},
   "source": [
    "****LSTM****"
   ]
  },
  {
   "cell_type": "code",
   "execution_count": null,
   "id": "athletic-personality",
   "metadata": {},
   "outputs": [],
   "source": [
    "lstm = keras.Sequential()\n",
    "lstm.add(keras.layers.LSTM(16))\n",
    "lstm.add(keras.layers.Dense(1, activation='sigmoid'))"
   ]
  },
  {
   "cell_type": "code",
   "execution_count": null,
   "id": "incomplete-producer",
   "metadata": {},
   "outputs": [],
   "source": [
    "lstm.compile(optimizer='rmsprop', loss=keras.losses.BinaryCrossentropy(), metrics=['acc'])"
   ]
  },
  {
   "cell_type": "code",
   "execution_count": null,
   "id": "scenic-eugene",
   "metadata": {},
   "outputs": [],
   "source": [
    "history_lstm = lstm.fit(X_train, y_train, epochs=10, batch_size=10, validation_split=0.1)"
   ]
  },
  {
   "cell_type": "code",
   "execution_count": null,
   "id": "sonic-button",
   "metadata": {},
   "outputs": [],
   "source": [
    "lstm.summary()"
   ]
  },
  {
   "cell_type": "code",
   "execution_count": null,
   "id": "formal-youth",
   "metadata": {},
   "outputs": [],
   "source": [
    "plot_training_history(history_lstm)"
   ]
  },
  {
   "cell_type": "code",
   "execution_count": null,
   "id": "premium-patent",
   "metadata": {},
   "outputs": [],
   "source": [
    "lstm_results = lstm.evaluate(X_test, y_test)"
   ]
  },
  {
   "cell_type": "code",
   "execution_count": null,
   "id": "stunning-cartoon",
   "metadata": {},
   "outputs": [],
   "source": [
    "print('LSTM test accuracy (%): ', round(lstm_results[1] * 100, 3))"
   ]
  },
  {
   "cell_type": "markdown",
   "id": "crude-visibility",
   "metadata": {},
   "source": [
    "****GRU****"
   ]
  },
  {
   "cell_type": "code",
   "execution_count": null,
   "id": "wanted-botswana",
   "metadata": {},
   "outputs": [],
   "source": [
    "gru = keras.Sequential()\n",
    "gru.add(keras.layers.GRU(16))\n",
    "gru.add(keras.layers.Dense(1, activation='sigmoid'))"
   ]
  },
  {
   "cell_type": "code",
   "execution_count": null,
   "id": "swiss-buyer",
   "metadata": {},
   "outputs": [],
   "source": [
    "gru.compile(optimizer='rmsprop', loss=keras.losses.BinaryCrossentropy(), metrics=['acc'])"
   ]
  },
  {
   "cell_type": "code",
   "execution_count": null,
   "id": "forty-gasoline",
   "metadata": {},
   "outputs": [],
   "source": [
    "history_gru = gru.fit(X_train, y_train, epochs=10, batch_size=10, validation_split=0.1)"
   ]
  },
  {
   "cell_type": "code",
   "execution_count": null,
   "id": "apparent-casino",
   "metadata": {},
   "outputs": [],
   "source": [
    "gru.summary()"
   ]
  },
  {
   "cell_type": "code",
   "execution_count": null,
   "id": "equivalent-simulation",
   "metadata": {},
   "outputs": [],
   "source": [
    "plot_training_history(history_gru)"
   ]
  },
  {
   "cell_type": "code",
   "execution_count": null,
   "id": "thorough-pixel",
   "metadata": {},
   "outputs": [],
   "source": [
    "gru_results = gru.evaluate(X_test, y_test)"
   ]
  },
  {
   "cell_type": "code",
   "execution_count": null,
   "id": "timely-accordance",
   "metadata": {},
   "outputs": [],
   "source": [
    "print('GRU test accuracy (%): ', round(gru_results[1] * 100, 3))"
   ]
  }
 ],
 "metadata": {
  "kernelspec": {
   "display_name": "Python 3",
   "language": "python",
   "name": "python3"
  },
  "language_info": {
   "codemirror_mode": {
    "name": "ipython",
    "version": 3
   },
   "file_extension": ".py",
   "mimetype": "text/x-python",
   "name": "python",
   "nbconvert_exporter": "python",
   "pygments_lexer": "ipython3",
   "version": "3.7.9"
  }
 },
 "nbformat": 4,
 "nbformat_minor": 5
}
