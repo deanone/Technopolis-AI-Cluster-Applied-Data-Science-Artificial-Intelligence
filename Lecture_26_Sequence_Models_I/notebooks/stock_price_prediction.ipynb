{
 "cells": [
  {
   "cell_type": "markdown",
   "id": "judicial-synthetic",
   "metadata": {},
   "source": [
    "****Import required packages****"
   ]
  },
  {
   "cell_type": "code",
   "execution_count": null,
   "id": "interested-puppy",
   "metadata": {},
   "outputs": [],
   "source": [
    "import numpy as np\n",
    "import pandas as pd\n",
    "import matplotlib.pyplot as plt"
   ]
  },
  {
   "cell_type": "markdown",
   "id": "loose-jewel",
   "metadata": {},
   "source": [
    "****Import Tensorflow****"
   ]
  },
  {
   "cell_type": "code",
   "execution_count": null,
   "id": "narrow-lewis",
   "metadata": {},
   "outputs": [],
   "source": [
    "import tensorflow as tf\n",
    "# required for solving issue with cuDNN\n",
    "gpu_devices = tf.config.experimental.list_physical_devices('GPU')\n",
    "for device in gpu_devices: tf.config.experimental.set_memory_growth(device, True)"
   ]
  },
  {
   "cell_type": "code",
   "execution_count": null,
   "id": "comfortable-desert",
   "metadata": {},
   "outputs": [],
   "source": [
    "tf.random.set_seed(42)"
   ]
  },
  {
   "cell_type": "markdown",
   "id": "adult-quarterly",
   "metadata": {},
   "source": [
    "****Import Keras****"
   ]
  },
  {
   "cell_type": "code",
   "execution_count": null,
   "id": "human-custom",
   "metadata": {},
   "outputs": [],
   "source": [
    "from tensorflow import keras"
   ]
  },
  {
   "cell_type": "code",
   "execution_count": null,
   "id": "objective-player",
   "metadata": {},
   "outputs": [],
   "source": [
    "data_filename = '../data/yahoo_stock.csv'"
   ]
  },
  {
   "cell_type": "code",
   "execution_count": null,
   "id": "another-moderator",
   "metadata": {},
   "outputs": [],
   "source": [
    "yahoo_stock_prices = pd.read_csv(data_filename)"
   ]
  },
  {
   "cell_type": "code",
   "execution_count": null,
   "id": "lasting-louisville",
   "metadata": {},
   "outputs": [],
   "source": [
    "yahoo_stock_prices.shape"
   ]
  },
  {
   "cell_type": "code",
   "execution_count": null,
   "id": "practical-steps",
   "metadata": {},
   "outputs": [],
   "source": [
    "yahoo_stock_prices_columns = list(yahoo_stock_prices.columns)"
   ]
  },
  {
   "cell_type": "code",
   "execution_count": null,
   "id": "previous-contribution",
   "metadata": {},
   "outputs": [],
   "source": [
    "print(yahoo_stock_prices_columns)"
   ]
  },
  {
   "cell_type": "code",
   "execution_count": null,
   "id": "graphic-pickup",
   "metadata": {},
   "outputs": [],
   "source": [
    "yahoo_stock_prices.head()"
   ]
  },
  {
   "cell_type": "code",
   "execution_count": null,
   "id": "studied-safety",
   "metadata": {},
   "outputs": [],
   "source": [
    "type(yahoo_stock_prices['Date'][0])"
   ]
  },
  {
   "cell_type": "code",
   "execution_count": null,
   "id": "ahead-deadline",
   "metadata": {},
   "outputs": [],
   "source": [
    "import datetime"
   ]
  },
  {
   "cell_type": "code",
   "execution_count": null,
   "id": "exterior-gilbert",
   "metadata": {},
   "outputs": [],
   "source": [
    "start_date_str = yahoo_stock_prices['Date'][0]\n",
    "start_date_str"
   ]
  },
  {
   "cell_type": "code",
   "execution_count": null,
   "id": "noble-austin",
   "metadata": {},
   "outputs": [],
   "source": [
    "print(type(start_date_str))"
   ]
  },
  {
   "cell_type": "code",
   "execution_count": null,
   "id": "composed-syracuse",
   "metadata": {},
   "outputs": [],
   "source": [
    "end_date_str = yahoo_stock_prices['Date'][yahoo_stock_prices.shape[0] - 1]\n",
    "end_date_str"
   ]
  },
  {
   "cell_type": "code",
   "execution_count": null,
   "id": "middle-david",
   "metadata": {},
   "outputs": [],
   "source": [
    "print(type(end_date_str))"
   ]
  },
  {
   "cell_type": "code",
   "execution_count": null,
   "id": "configured-tender",
   "metadata": {},
   "outputs": [],
   "source": [
    "start_date = datetime.datetime.strptime(start_date_str, '%Y-%m-%d')"
   ]
  },
  {
   "cell_type": "code",
   "execution_count": null,
   "id": "environmental-snake",
   "metadata": {},
   "outputs": [],
   "source": [
    "print(start_date)"
   ]
  },
  {
   "cell_type": "code",
   "execution_count": null,
   "id": "nervous-helmet",
   "metadata": {},
   "outputs": [],
   "source": [
    "end_date = datetime.datetime.strptime(end_date_str, '%Y-%m-%d')"
   ]
  },
  {
   "cell_type": "code",
   "execution_count": null,
   "id": "editorial-artwork",
   "metadata": {},
   "outputs": [],
   "source": [
    "print(end_date)"
   ]
  },
  {
   "cell_type": "code",
   "execution_count": null,
   "id": "included-triangle",
   "metadata": {},
   "outputs": [],
   "source": [
    "duration = end_date - start_date"
   ]
  },
  {
   "cell_type": "code",
   "execution_count": null,
   "id": "selected-italy",
   "metadata": {},
   "outputs": [],
   "source": [
    "print(duration)"
   ]
  },
  {
   "cell_type": "code",
   "execution_count": null,
   "id": "commercial-incentive",
   "metadata": {},
   "outputs": [],
   "source": [
    "yahoo_stock_prices.describe()"
   ]
  },
  {
   "cell_type": "code",
   "execution_count": null,
   "id": "cellular-thinking",
   "metadata": {},
   "outputs": [],
   "source": [
    "yahoo_stock_prices.dtypes"
   ]
  },
  {
   "cell_type": "markdown",
   "id": "behind-blanket",
   "metadata": {},
   "source": [
    "****Plot timeseries of closing price, i.e. target variable****"
   ]
  },
  {
   "cell_type": "code",
   "execution_count": null,
   "id": "animal-ranking",
   "metadata": {},
   "outputs": [],
   "source": [
    "closing_prices = yahoo_stock_prices['Close'].values"
   ]
  },
  {
   "cell_type": "code",
   "execution_count": null,
   "id": "going-stage",
   "metadata": {},
   "outputs": [],
   "source": [
    "differenced_closing_prices = closing_prices[1:] - closing_prices[0:(closing_prices.shape[0] - 1)]"
   ]
  },
  {
   "cell_type": "code",
   "execution_count": null,
   "id": "charitable-ceramic",
   "metadata": {},
   "outputs": [],
   "source": [
    "log_differenced_closing_prices = np.log10(differenced_closing_prices)"
   ]
  },
  {
   "cell_type": "code",
   "execution_count": null,
   "id": "vietnamese-navigator",
   "metadata": {},
   "outputs": [],
   "source": [
    "plt.plot(closing_prices)"
   ]
  },
  {
   "cell_type": "code",
   "execution_count": null,
   "id": "classified-carrier",
   "metadata": {},
   "outputs": [],
   "source": [
    "plt.plot(differenced_closing_prices)"
   ]
  },
  {
   "cell_type": "code",
   "execution_count": null,
   "id": "chinese-timer",
   "metadata": {},
   "outputs": [],
   "source": [
    "plt.plot(log_differenced_closing_prices)"
   ]
  },
  {
   "cell_type": "markdown",
   "id": "artificial-arthritis",
   "metadata": {},
   "source": [
    "****Check for missing values****"
   ]
  },
  {
   "cell_type": "code",
   "execution_count": null,
   "id": "pacific-bearing",
   "metadata": {},
   "outputs": [],
   "source": [
    "yahoo_stock_prices.isnull().any()"
   ]
  },
  {
   "cell_type": "code",
   "execution_count": null,
   "id": "structural-content",
   "metadata": {},
   "outputs": [],
   "source": [
    "timeseries = yahoo_stock_prices.iloc[:, 1:]"
   ]
  },
  {
   "cell_type": "code",
   "execution_count": null,
   "id": "requested-snapshot",
   "metadata": {},
   "outputs": [],
   "source": [
    "timeseries.head()"
   ]
  },
  {
   "cell_type": "code",
   "execution_count": null,
   "id": "historical-graduation",
   "metadata": {},
   "outputs": [],
   "source": [
    "timeseries.describe()"
   ]
  },
  {
   "cell_type": "markdown",
   "id": "coastal-teddy",
   "metadata": {},
   "source": [
    "****Normalization****"
   ]
  },
  {
   "cell_type": "code",
   "execution_count": null,
   "id": "arbitrary-north",
   "metadata": {},
   "outputs": [],
   "source": [
    "timeseries_mean = timeseries.mean(axis=0)"
   ]
  },
  {
   "cell_type": "code",
   "execution_count": null,
   "id": "victorian-satisfaction",
   "metadata": {},
   "outputs": [],
   "source": [
    "timeseries_std = timeseries.std(axis=0)"
   ]
  },
  {
   "cell_type": "code",
   "execution_count": null,
   "id": "compressed-arkansas",
   "metadata": {},
   "outputs": [],
   "source": [
    "timeseries -= timeseries_mean"
   ]
  },
  {
   "cell_type": "code",
   "execution_count": null,
   "id": "rolled-gambling",
   "metadata": {},
   "outputs": [],
   "source": [
    "timeseries /= timeseries_std"
   ]
  },
  {
   "cell_type": "code",
   "execution_count": null,
   "id": "banner-knowing",
   "metadata": {},
   "outputs": [],
   "source": [
    "timeseries.describe()"
   ]
  },
  {
   "cell_type": "code",
   "execution_count": null,
   "id": "marked-integration",
   "metadata": {},
   "outputs": [],
   "source": [
    "timeseries = timeseries.values"
   ]
  },
  {
   "cell_type": "code",
   "execution_count": null,
   "id": "chicken-winner",
   "metadata": {},
   "outputs": [],
   "source": [
    "print(type(timeseries))"
   ]
  },
  {
   "cell_type": "code",
   "execution_count": null,
   "id": "commercial-fellowship",
   "metadata": {},
   "outputs": [],
   "source": [
    "timeseries.shape"
   ]
  },
  {
   "cell_type": "code",
   "execution_count": null,
   "id": "unable-midwest",
   "metadata": {},
   "outputs": [],
   "source": [
    "timeseries.dtype"
   ]
  },
  {
   "cell_type": "markdown",
   "id": "incorporate-manor",
   "metadata": {},
   "source": [
    "****Transform initial data into batch of sequences****"
   ]
  },
  {
   "cell_type": "code",
   "execution_count": null,
   "id": "geographic-apparatus",
   "metadata": {},
   "outputs": [],
   "source": [
    "def create_sequences(timeseries, pred_var_index, p, h=1):\n",
    "    (n, d) = timeseries.shape\n",
    "    sequences = np.zeros((n - h - p, p, d)).astype('float32')\n",
    "    targets = np.zeros((n - h - p)).astype('float32')\n",
    "    for i in range(p, n - h):\n",
    "        sequence = timeseries[(i - p) : i, :]\n",
    "        target = timeseries[i + h - 1, pred_var_index]\n",
    "        sequences[i - p, :, :] = sequence\n",
    "        targets[i - p] = target\n",
    "    return sequences, targets"
   ]
  },
  {
   "cell_type": "code",
   "execution_count": null,
   "id": "sought-cutting",
   "metadata": {},
   "outputs": [],
   "source": [
    "past = 3"
   ]
  },
  {
   "cell_type": "code",
   "execution_count": null,
   "id": "wireless-california",
   "metadata": {},
   "outputs": [],
   "source": [
    "horizon = 1"
   ]
  },
  {
   "cell_type": "code",
   "execution_count": null,
   "id": "awful-organic",
   "metadata": {},
   "outputs": [],
   "source": [
    "pred_var_index = 3"
   ]
  },
  {
   "cell_type": "code",
   "execution_count": null,
   "id": "bacterial-interim",
   "metadata": {},
   "outputs": [],
   "source": [
    "sequences, targets = create_sequences(timeseries, pred_var_index, past, horizon)"
   ]
  },
  {
   "cell_type": "code",
   "execution_count": null,
   "id": "controversial-georgia",
   "metadata": {},
   "outputs": [],
   "source": [
    "print(type(sequences))"
   ]
  },
  {
   "cell_type": "code",
   "execution_count": null,
   "id": "unauthorized-metabolism",
   "metadata": {},
   "outputs": [],
   "source": [
    "print(sequences.shape)"
   ]
  },
  {
   "cell_type": "code",
   "execution_count": null,
   "id": "crucial-ordering",
   "metadata": {},
   "outputs": [],
   "source": [
    "print(sequences.dtype)"
   ]
  },
  {
   "cell_type": "code",
   "execution_count": null,
   "id": "satellite-respondent",
   "metadata": {},
   "outputs": [],
   "source": [
    "print(sequences[0,:,:])"
   ]
  },
  {
   "cell_type": "code",
   "execution_count": null,
   "id": "environmental-ridge",
   "metadata": {},
   "outputs": [],
   "source": [
    "print(type(targets))"
   ]
  },
  {
   "cell_type": "code",
   "execution_count": null,
   "id": "diagnostic-senegal",
   "metadata": {},
   "outputs": [],
   "source": [
    "print(targets.shape)"
   ]
  },
  {
   "cell_type": "code",
   "execution_count": null,
   "id": "marked-workshop",
   "metadata": {},
   "outputs": [],
   "source": [
    "print(targets.dtype)"
   ]
  },
  {
   "cell_type": "code",
   "execution_count": null,
   "id": "generous-sugar",
   "metadata": {},
   "outputs": [],
   "source": [
    "print(targets[0])"
   ]
  },
  {
   "cell_type": "markdown",
   "id": "olive-chambers",
   "metadata": {},
   "source": [
    "****Split data****"
   ]
  },
  {
   "cell_type": "code",
   "execution_count": null,
   "id": "comic-planner",
   "metadata": {},
   "outputs": [],
   "source": [
    "from sklearn.model_selection import train_test_split"
   ]
  },
  {
   "cell_type": "code",
   "execution_count": null,
   "id": "pressed-bibliography",
   "metadata": {},
   "outputs": [],
   "source": [
    "X_train, X_test, y_train, y_test = train_test_split(sequences, targets, test_size=0.1, shuffle=False)"
   ]
  },
  {
   "cell_type": "code",
   "execution_count": null,
   "id": "cutting-vacuum",
   "metadata": {},
   "outputs": [],
   "source": [
    "print(X_train.shape)"
   ]
  },
  {
   "cell_type": "code",
   "execution_count": null,
   "id": "standard-modem",
   "metadata": {},
   "outputs": [],
   "source": [
    "print(y_train.shape)"
   ]
  },
  {
   "cell_type": "code",
   "execution_count": null,
   "id": "restricted-adrian",
   "metadata": {},
   "outputs": [],
   "source": [
    "print(X_test.shape)"
   ]
  },
  {
   "cell_type": "code",
   "execution_count": null,
   "id": "certain-directory",
   "metadata": {},
   "outputs": [],
   "source": [
    "print(y_test.shape)"
   ]
  },
  {
   "cell_type": "markdown",
   "id": "worthy-circular",
   "metadata": {},
   "source": [
    "****Function for plotting training history****"
   ]
  },
  {
   "cell_type": "code",
   "execution_count": null,
   "id": "faced-charge",
   "metadata": {},
   "outputs": [],
   "source": [
    "def plot_training_history(history):\n",
    "    loss = history.history['loss']\n",
    "    val_loss = history.history['val_loss']\n",
    "    epochs = range(1, len(loss) + 1)\n",
    "    plt.figure()\n",
    "    plt.plot(epochs, loss, label='Training loss')\n",
    "    plt.plot(epochs, val_loss, label='Validation loss')\n",
    "    plt.legend()\n",
    "    plt.show()"
   ]
  },
  {
   "cell_type": "markdown",
   "id": "bronze-terrace",
   "metadata": {},
   "source": [
    "****Classic RNN****"
   ]
  },
  {
   "cell_type": "code",
   "execution_count": null,
   "id": "reduced-hartford",
   "metadata": {},
   "outputs": [],
   "source": [
    "rnn = keras.Sequential()\n",
    "rnn.add(keras.layers.SimpleRNN(16))\n",
    "rnn.add(keras.layers.Dense(1, activation='linear'))"
   ]
  },
  {
   "cell_type": "code",
   "execution_count": null,
   "id": "measured-contributor",
   "metadata": {},
   "outputs": [],
   "source": [
    "rnn.compile(optimizer='rmsprop', loss=keras.losses.MeanSquaredError(), metrics=[keras.metrics.MeanAbsolutePercentageError()])"
   ]
  },
  {
   "cell_type": "code",
   "execution_count": null,
   "id": "phantom-yukon",
   "metadata": {},
   "outputs": [],
   "source": [
    "history_rnn = rnn.fit(X_train, y_train, epochs=20, validation_split=0.1)"
   ]
  },
  {
   "cell_type": "code",
   "execution_count": null,
   "id": "crazy-basket",
   "metadata": {},
   "outputs": [],
   "source": [
    "rnn.summary()"
   ]
  },
  {
   "cell_type": "code",
   "execution_count": null,
   "id": "sealed-airline",
   "metadata": {},
   "outputs": [],
   "source": [
    "plot_training_history(history_rnn)"
   ]
  },
  {
   "cell_type": "code",
   "execution_count": null,
   "id": "wrong-allah",
   "metadata": {},
   "outputs": [],
   "source": [
    "rnn_results = rnn.evaluate(X_test, y_test)"
   ]
  },
  {
   "cell_type": "code",
   "execution_count": null,
   "id": "black-bicycle",
   "metadata": {},
   "outputs": [],
   "source": [
    "print('Simple RNN test error (%): ', round(rnn_results[1], 3))"
   ]
  },
  {
   "cell_type": "markdown",
   "id": "reduced-credits",
   "metadata": {},
   "source": [
    "****Stacked RNN****"
   ]
  },
  {
   "cell_type": "code",
   "execution_count": null,
   "id": "oriented-fireplace",
   "metadata": {},
   "outputs": [],
   "source": [
    "stacked_rnn = keras.Sequential()\n",
    "stacked_rnn.add(keras.layers.SimpleRNN(16, return_sequences=True))\n",
    "stacked_rnn.add(keras.layers.SimpleRNN(16, return_sequences=False))\n",
    "stacked_rnn.add(keras.layers.Dense(1, activation='linear'))"
   ]
  },
  {
   "cell_type": "code",
   "execution_count": null,
   "id": "neutral-cabin",
   "metadata": {},
   "outputs": [],
   "source": [
    "stacked_rnn.compile(optimizer='rmsprop', loss=keras.losses.MeanSquaredError(), metrics=[keras.metrics.MeanAbsolutePercentageError()])"
   ]
  },
  {
   "cell_type": "code",
   "execution_count": null,
   "id": "painful-frontier",
   "metadata": {},
   "outputs": [],
   "source": [
    "history_stacked_rnn = stacked_rnn.fit(X_train, y_train, epochs=20, validation_split=0.1)"
   ]
  },
  {
   "cell_type": "code",
   "execution_count": null,
   "id": "small-quantum",
   "metadata": {},
   "outputs": [],
   "source": [
    "stacked_rnn.summary()"
   ]
  },
  {
   "cell_type": "code",
   "execution_count": null,
   "id": "yellow-stretch",
   "metadata": {},
   "outputs": [],
   "source": [
    "plot_training_history(history_stacked_rnn)"
   ]
  },
  {
   "cell_type": "code",
   "execution_count": null,
   "id": "referenced-marketing",
   "metadata": {},
   "outputs": [],
   "source": [
    "stacked_rnn_results = stacked_rnn.evaluate(X_test, y_test)"
   ]
  },
  {
   "cell_type": "code",
   "execution_count": null,
   "id": "fatty-opportunity",
   "metadata": {},
   "outputs": [],
   "source": [
    "print('Stacked RNN test error (%): ', round(stacked_rnn_results[1], 3))"
   ]
  },
  {
   "cell_type": "markdown",
   "id": "remarkable-kelly",
   "metadata": {},
   "source": [
    "****Regularized stacked RNN****"
   ]
  },
  {
   "cell_type": "code",
   "execution_count": null,
   "id": "adult-north",
   "metadata": {},
   "outputs": [],
   "source": [
    "reg_stacked_rnn = keras.Sequential()\n",
    "reg_stacked_rnn.add(keras.layers.SimpleRNN(16, return_sequences=True, dropout=0.2, recurrent_dropout=0.2))\n",
    "reg_stacked_rnn.add(keras.layers.SimpleRNN(16, return_sequences=False, dropout=0.2, recurrent_dropout=0.2))\n",
    "reg_stacked_rnn.add(keras.layers.Dense(1, activation='linear'))"
   ]
  },
  {
   "cell_type": "code",
   "execution_count": null,
   "id": "sized-absolute",
   "metadata": {},
   "outputs": [],
   "source": [
    "reg_stacked_rnn.compile(optimizer='rmsprop', loss=keras.losses.MeanSquaredError(), metrics=[keras.metrics.MeanAbsolutePercentageError()])"
   ]
  },
  {
   "cell_type": "code",
   "execution_count": null,
   "id": "greenhouse-sleeve",
   "metadata": {},
   "outputs": [],
   "source": [
    "history_reg_stacked_rnn = reg_stacked_rnn.fit(X_train, y_train, epochs=20, validation_split=0.1)"
   ]
  },
  {
   "cell_type": "code",
   "execution_count": null,
   "id": "equivalent-magic",
   "metadata": {},
   "outputs": [],
   "source": [
    "reg_stacked_rnn.summary()"
   ]
  },
  {
   "cell_type": "code",
   "execution_count": null,
   "id": "vital-extra",
   "metadata": {},
   "outputs": [],
   "source": [
    "plot_training_history(history_reg_stacked_rnn)"
   ]
  },
  {
   "cell_type": "code",
   "execution_count": null,
   "id": "advanced-particle",
   "metadata": {},
   "outputs": [],
   "source": [
    "reg_stacked_rnn_results = reg_stacked_rnn.evaluate(X_test, y_test)"
   ]
  },
  {
   "cell_type": "code",
   "execution_count": null,
   "id": "proper-there",
   "metadata": {},
   "outputs": [],
   "source": [
    "print('Regularized stacked RNN test error (%): ', round(reg_stacked_rnn_results[1], 3))"
   ]
  },
  {
   "cell_type": "markdown",
   "id": "elder-transition",
   "metadata": {},
   "source": [
    "****LSTM****"
   ]
  },
  {
   "cell_type": "code",
   "execution_count": null,
   "id": "hungarian-scene",
   "metadata": {},
   "outputs": [],
   "source": [
    "lstm = keras.Sequential()\n",
    "lstm.add(keras.layers.LSTM(16))\n",
    "lstm.add(keras.layers.Dense(1, activation='linear'))"
   ]
  },
  {
   "cell_type": "code",
   "execution_count": null,
   "id": "wound-intention",
   "metadata": {},
   "outputs": [],
   "source": [
    "lstm.compile(optimizer='rmsprop', loss=keras.losses.MeanSquaredError(), metrics=[keras.metrics.MeanAbsolutePercentageError()])"
   ]
  },
  {
   "cell_type": "code",
   "execution_count": null,
   "id": "living-effect",
   "metadata": {},
   "outputs": [],
   "source": [
    "history_lstm = lstm.fit(X_train, y_train, epochs=20, validation_split=0.1)"
   ]
  },
  {
   "cell_type": "code",
   "execution_count": null,
   "id": "incorporate-affiliation",
   "metadata": {},
   "outputs": [],
   "source": [
    "lstm.summary()"
   ]
  },
  {
   "cell_type": "code",
   "execution_count": null,
   "id": "working-mediterranean",
   "metadata": {},
   "outputs": [],
   "source": [
    "plot_training_history(history_lstm)"
   ]
  },
  {
   "cell_type": "code",
   "execution_count": null,
   "id": "phantom-toner",
   "metadata": {},
   "outputs": [],
   "source": [
    "lstm_results = lstm.evaluate(X_test, y_test)"
   ]
  },
  {
   "cell_type": "code",
   "execution_count": null,
   "id": "lyric-bachelor",
   "metadata": {},
   "outputs": [],
   "source": [
    "print('LSTM test error (%): ', round(lstm_results[1], 3))"
   ]
  },
  {
   "cell_type": "markdown",
   "id": "north-edition",
   "metadata": {},
   "source": [
    "****GRU****"
   ]
  },
  {
   "cell_type": "code",
   "execution_count": null,
   "id": "southern-jaguar",
   "metadata": {},
   "outputs": [],
   "source": [
    "gru = keras.Sequential()\n",
    "gru.add(keras.layers.GRU(16))\n",
    "gru.add(keras.layers.Dense(1, activation='linear'))"
   ]
  },
  {
   "cell_type": "code",
   "execution_count": null,
   "id": "injured-pontiac",
   "metadata": {},
   "outputs": [],
   "source": [
    "gru.compile(optimizer='rmsprop', loss=keras.losses.MeanSquaredError(), metrics=[keras.metrics.MeanAbsolutePercentageError()])"
   ]
  },
  {
   "cell_type": "code",
   "execution_count": null,
   "id": "bound-craft",
   "metadata": {},
   "outputs": [],
   "source": [
    "history_gru = gru.fit(X_train, y_train, epochs=20, validation_split=0.1)"
   ]
  },
  {
   "cell_type": "code",
   "execution_count": null,
   "id": "sudden-rogers",
   "metadata": {},
   "outputs": [],
   "source": [
    "gru.summary()"
   ]
  },
  {
   "cell_type": "code",
   "execution_count": null,
   "id": "relative-composer",
   "metadata": {},
   "outputs": [],
   "source": [
    "plot_training_history(history_gru)"
   ]
  },
  {
   "cell_type": "code",
   "execution_count": null,
   "id": "headed-future",
   "metadata": {},
   "outputs": [],
   "source": [
    "gru_results = gru.evaluate(X_test, y_test)"
   ]
  },
  {
   "cell_type": "code",
   "execution_count": null,
   "id": "stainless-county",
   "metadata": {},
   "outputs": [],
   "source": [
    "print('GRU test error (%): ', round(gru_results[1], 3))"
   ]
  },
  {
   "cell_type": "markdown",
   "id": "formed-reducing",
   "metadata": {},
   "source": [
    "****Bidirectional RNN, LSTM and GRU****"
   ]
  },
  {
   "cell_type": "code",
   "execution_count": null,
   "id": "continued-ivory",
   "metadata": {},
   "outputs": [],
   "source": [
    "component_type = 'gru'"
   ]
  },
  {
   "cell_type": "code",
   "execution_count": null,
   "id": "sporting-verse",
   "metadata": {},
   "outputs": [],
   "source": [
    "if component_type == 'rnn':\n",
    "    bidirectional_model = keras.Sequential()\n",
    "    bidirectional_model.add(keras.layers.Bidirectional(keras.layers.SimpleRNN(16)))\n",
    "    bidirectional_model.add(keras.layers.Dense(1, activation='linear'))\n",
    "elif component_type == 'lstm':\n",
    "    bidirectional_model = keras.Sequential()\n",
    "    bidirectional_model.add(keras.layers.Bidirectional(keras.layers.LSTM(16)))\n",
    "    bidirectional_model.add(keras.layers.Dense(1, activation='linear'))\n",
    "elif component_type == 'gru':\n",
    "    bidirectional_model = keras.Sequential()\n",
    "    bidirectional_model.add(keras.layers.Bidirectional(keras.layers.GRU(16)))\n",
    "    bidirectional_model.add(keras.layers.Dense(1, activation='linear'))"
   ]
  },
  {
   "cell_type": "code",
   "execution_count": null,
   "id": "express-radio",
   "metadata": {},
   "outputs": [],
   "source": [
    "bidirectional_model.compile(optimizer='rmsprop', loss=keras.losses.MeanSquaredError(), metrics=[keras.metrics.MeanAbsolutePercentageError()])"
   ]
  },
  {
   "cell_type": "code",
   "execution_count": null,
   "id": "animated-percentage",
   "metadata": {},
   "outputs": [],
   "source": [
    "history_bidirectional_model = bidirectional_model.fit(X_train, y_train, epochs=20, validation_split=0.1)"
   ]
  },
  {
   "cell_type": "code",
   "execution_count": null,
   "id": "solved-settle",
   "metadata": {},
   "outputs": [],
   "source": [
    "plot_training_history(history_bidirectional_model)"
   ]
  },
  {
   "cell_type": "code",
   "execution_count": null,
   "id": "bacterial-appreciation",
   "metadata": {},
   "outputs": [],
   "source": [
    "bidirectional_model_results = bidirectional_model.evaluate(X_test, y_test)"
   ]
  },
  {
   "cell_type": "code",
   "execution_count": null,
   "id": "measured-guest",
   "metadata": {},
   "outputs": [],
   "source": [
    "print('Bidirectional model test error (%): ', round(bidirectional_model_results[1], 3))"
   ]
  },
  {
   "cell_type": "markdown",
   "id": "correct-hawaiian",
   "metadata": {},
   "source": [
    "****1D convolutional****"
   ]
  },
  {
   "cell_type": "code",
   "execution_count": null,
   "id": "horizontal-island",
   "metadata": {},
   "outputs": [],
   "source": [
    "conv1D_seq = keras.Sequential()\n",
    "conv1D_seq.add(keras.layers.Conv1D(16, 2, activation='relu'))\n",
    "conv1D_seq.add(keras.layers.MaxPooling1D(2))\n",
    "conv1D_seq.add(keras.layers.Dense(1, activation='linear'))"
   ]
  },
  {
   "cell_type": "code",
   "execution_count": null,
   "id": "patient-folks",
   "metadata": {},
   "outputs": [],
   "source": [
    "conv1D_seq.compile(optimizer='rmsprop', loss=keras.losses.MeanSquaredError(), metrics=[keras.metrics.MeanAbsolutePercentageError()])"
   ]
  },
  {
   "cell_type": "code",
   "execution_count": null,
   "id": "indirect-southwest",
   "metadata": {},
   "outputs": [],
   "source": [
    "history_conv1D_seq = conv1D_seq.fit(X_train, y_train, epochs=20, validation_split=0.1)"
   ]
  },
  {
   "cell_type": "code",
   "execution_count": null,
   "id": "expired-merit",
   "metadata": {},
   "outputs": [],
   "source": [
    "plot_training_history(history_conv1D_seq)"
   ]
  },
  {
   "cell_type": "code",
   "execution_count": null,
   "id": "early-crazy",
   "metadata": {},
   "outputs": [],
   "source": [
    "conv1D_seq_results = conv1D_seq.evaluate(X_test, y_test)"
   ]
  },
  {
   "cell_type": "code",
   "execution_count": null,
   "id": "completed-shaft",
   "metadata": {},
   "outputs": [],
   "source": [
    "print('1D convolutional model test error (%): ', round(conv1D_seq_results[1], 3))"
   ]
  },
  {
   "cell_type": "markdown",
   "id": "durable-apparel",
   "metadata": {},
   "source": [
    "****Plot actual and predictions for best performing model****"
   ]
  },
  {
   "cell_type": "code",
   "execution_count": null,
   "id": "romantic-simon",
   "metadata": {},
   "outputs": [],
   "source": [
    "y_pred = bidirectional_model.predict(X_test)"
   ]
  },
  {
   "cell_type": "code",
   "execution_count": null,
   "id": "tribal-analysis",
   "metadata": {},
   "outputs": [],
   "source": [
    "plt.figure()\n",
    "plt.plot(y_test, label='Real')\n",
    "plt.plot(y_pred, label='Best RNN predictions')\n",
    "plt.legend()\n",
    "plt.show()"
   ]
  },
  {
   "cell_type": "code",
   "execution_count": null,
   "id": "prospective-punishment",
   "metadata": {},
   "outputs": [],
   "source": [
    "mape = keras.metrics.MeanAbsolutePercentageError()"
   ]
  },
  {
   "cell_type": "code",
   "execution_count": null,
   "id": "continued-colleague",
   "metadata": {},
   "outputs": [],
   "source": [
    "mape.update_state(y_true = y_test, y_pred = y_pred)"
   ]
  },
  {
   "cell_type": "code",
   "execution_count": null,
   "id": "prescription-recognition",
   "metadata": {},
   "outputs": [],
   "source": [
    "mape.result().numpy()"
   ]
  },
  {
   "cell_type": "markdown",
   "id": "reverse-bradley",
   "metadata": {},
   "source": [
    "****Baseline models****"
   ]
  },
  {
   "cell_type": "markdown",
   "id": "mounted-bones",
   "metadata": {},
   "source": [
    "****Persistence model****"
   ]
  },
  {
   "cell_type": "code",
   "execution_count": null,
   "id": "asian-cause",
   "metadata": {},
   "outputs": [],
   "source": [
    "def baseline_predict(X, pred_var_index):\n",
    "    n = X.shape[0]\n",
    "    p = X.shape[1]\n",
    "    preds = []\n",
    "    for i in range(n):\n",
    "        pred = X[i, p - 1, pred_var_index]\n",
    "        preds.append(pred)\n",
    "    return np.array(preds)"
   ]
  },
  {
   "cell_type": "code",
   "execution_count": null,
   "id": "respected-circle",
   "metadata": {},
   "outputs": [],
   "source": [
    "baseline_preds = baseline_predict(X_test, pred_var_index)"
   ]
  },
  {
   "cell_type": "code",
   "execution_count": null,
   "id": "protected-submission",
   "metadata": {},
   "outputs": [],
   "source": [
    "mape = keras.metrics.MeanAbsolutePercentageError()"
   ]
  },
  {
   "cell_type": "code",
   "execution_count": null,
   "id": "serial-emerald",
   "metadata": {},
   "outputs": [],
   "source": [
    "mape.update_state(y_true = y_test, y_pred = baseline_preds)"
   ]
  },
  {
   "cell_type": "code",
   "execution_count": null,
   "id": "governmental-variation",
   "metadata": {},
   "outputs": [],
   "source": [
    "mape.result().numpy()"
   ]
  },
  {
   "cell_type": "code",
   "execution_count": null,
   "id": "related-shift",
   "metadata": {},
   "outputs": [],
   "source": [
    "plt.figure()\n",
    "plt.plot(y_test, label='Real')\n",
    "plt.plot(baseline_preds, label='Predictions')\n",
    "plt.legend()\n",
    "plt.show()"
   ]
  },
  {
   "cell_type": "markdown",
   "id": "effective-ceramic",
   "metadata": {},
   "source": [
    "****Feedforward DNN****"
   ]
  },
  {
   "cell_type": "code",
   "execution_count": null,
   "id": "future-draft",
   "metadata": {},
   "outputs": [],
   "source": [
    "dnn = keras.Sequential()\n",
    "dnn.add(keras.layers.Flatten(input_shape=(past, 6)))\n",
    "dnn.add(keras.layers.Dense(16, activation='relu'))\n",
    "dnn.add(keras.layers.Dense(1, activation='linear'))"
   ]
  },
  {
   "cell_type": "code",
   "execution_count": null,
   "id": "happy-puzzle",
   "metadata": {},
   "outputs": [],
   "source": [
    "dnn.compile(optimizer='rmsprop', loss=keras.losses.MeanSquaredError(), metrics=[keras.metrics.MeanAbsolutePercentageError()])"
   ]
  },
  {
   "cell_type": "code",
   "execution_count": null,
   "id": "undefined-equipment",
   "metadata": {},
   "outputs": [],
   "source": [
    "history_dnn = dnn.fit(X_train, y_train, epochs=20, validation_split=0.1)"
   ]
  },
  {
   "cell_type": "code",
   "execution_count": null,
   "id": "wrong-grace",
   "metadata": {},
   "outputs": [],
   "source": [
    "dnn.summary()"
   ]
  },
  {
   "cell_type": "code",
   "execution_count": null,
   "id": "incoming-setting",
   "metadata": {},
   "outputs": [],
   "source": [
    "plot_training_history(history_dnn)"
   ]
  },
  {
   "cell_type": "code",
   "execution_count": null,
   "id": "controversial-ideal",
   "metadata": {},
   "outputs": [],
   "source": [
    "dnn_results = dnn.evaluate(X_test, y_test)"
   ]
  },
  {
   "cell_type": "code",
   "execution_count": null,
   "id": "computational-sponsorship",
   "metadata": {},
   "outputs": [],
   "source": [
    "print('Feedforward DNN test error (%): ', round(dnn_results[1], 3))"
   ]
  },
  {
   "cell_type": "code",
   "execution_count": null,
   "id": "removed-subdivision",
   "metadata": {},
   "outputs": [],
   "source": [
    "dnn_preds = dnn.predict(X_test)"
   ]
  },
  {
   "cell_type": "code",
   "execution_count": null,
   "id": "similar-knight",
   "metadata": {},
   "outputs": [],
   "source": [
    "plt.figure()\n",
    "plt.plot(y_test, label='Real')\n",
    "plt.plot(dnn_preds, label='Predictions')\n",
    "plt.legend()\n",
    "plt.show()"
   ]
  },
  {
   "cell_type": "code",
   "execution_count": null,
   "id": "royal-classification",
   "metadata": {},
   "outputs": [],
   "source": []
  }
 ],
 "metadata": {
  "kernelspec": {
   "display_name": "Python 3",
   "language": "python",
   "name": "python3"
  },
  "language_info": {
   "codemirror_mode": {
    "name": "ipython",
    "version": 3
   },
   "file_extension": ".py",
   "mimetype": "text/x-python",
   "name": "python",
   "nbconvert_exporter": "python",
   "pygments_lexer": "ipython3",
   "version": "3.7.9"
  }
 },
 "nbformat": 4,
 "nbformat_minor": 5
}
