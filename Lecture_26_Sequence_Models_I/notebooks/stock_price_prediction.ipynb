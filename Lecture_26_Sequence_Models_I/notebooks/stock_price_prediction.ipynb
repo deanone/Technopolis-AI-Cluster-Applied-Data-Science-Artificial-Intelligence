{
 "cells": [
  {
   "cell_type": "markdown",
   "id": "judicial-synthetic",
   "metadata": {},
   "source": [
    "****Import required packages****"
   ]
  },
  {
   "cell_type": "code",
   "execution_count": 1,
   "id": "interested-puppy",
   "metadata": {},
   "outputs": [],
   "source": [
    "import numpy as np\n",
    "import pandas as pd\n",
    "import matplotlib.pyplot as plt"
   ]
  },
  {
   "cell_type": "markdown",
   "id": "loose-jewel",
   "metadata": {},
   "source": [
    "****Import Tensorflow****"
   ]
  },
  {
   "cell_type": "code",
   "execution_count": 2,
   "id": "narrow-lewis",
   "metadata": {},
   "outputs": [],
   "source": [
    "import tensorflow as tf\n",
    "# required for solving issue with cuDNN\n",
    "gpu_devices = tf.config.experimental.list_physical_devices('GPU')\n",
    "for device in gpu_devices: tf.config.experimental.set_memory_growth(device, True)"
   ]
  },
  {
   "cell_type": "code",
   "execution_count": 3,
   "id": "comfortable-desert",
   "metadata": {},
   "outputs": [],
   "source": [
    "tf.random.set_seed(42)"
   ]
  },
  {
   "cell_type": "markdown",
   "id": "adult-quarterly",
   "metadata": {},
   "source": [
    "****Import Keras****"
   ]
  },
  {
   "cell_type": "code",
   "execution_count": 4,
   "id": "human-custom",
   "metadata": {},
   "outputs": [],
   "source": [
    "from tensorflow import keras"
   ]
  },
  {
   "cell_type": "code",
   "execution_count": 5,
   "id": "objective-player",
   "metadata": {},
   "outputs": [],
   "source": [
    "data_filename = '../data/yahoo_stock.csv'"
   ]
  },
  {
   "cell_type": "code",
   "execution_count": 6,
   "id": "another-moderator",
   "metadata": {},
   "outputs": [],
   "source": [
    "yahoo_stock_prices = pd.read_csv(data_filename)"
   ]
  },
  {
   "cell_type": "code",
   "execution_count": 7,
   "id": "lasting-louisville",
   "metadata": {},
   "outputs": [
    {
     "data": {
      "text/plain": [
       "(1825, 7)"
      ]
     },
     "execution_count": 7,
     "metadata": {},
     "output_type": "execute_result"
    }
   ],
   "source": [
    "yahoo_stock_prices.shape"
   ]
  },
  {
   "cell_type": "code",
   "execution_count": 8,
   "id": "practical-steps",
   "metadata": {},
   "outputs": [],
   "source": [
    "yahoo_stock_prices_columns = list(yahoo_stock_prices.columns)"
   ]
  },
  {
   "cell_type": "code",
   "execution_count": 9,
   "id": "previous-contribution",
   "metadata": {},
   "outputs": [
    {
     "name": "stdout",
     "output_type": "stream",
     "text": [
      "['Date', 'High', 'Low', 'Open', 'Close', 'Volume', 'Adj Close']\n"
     ]
    }
   ],
   "source": [
    "print(yahoo_stock_prices_columns)"
   ]
  },
  {
   "cell_type": "code",
   "execution_count": 10,
   "id": "graphic-pickup",
   "metadata": {},
   "outputs": [
    {
     "data": {
      "text/html": [
       "<div>\n",
       "<style scoped>\n",
       "    .dataframe tbody tr th:only-of-type {\n",
       "        vertical-align: middle;\n",
       "    }\n",
       "\n",
       "    .dataframe tbody tr th {\n",
       "        vertical-align: top;\n",
       "    }\n",
       "\n",
       "    .dataframe thead th {\n",
       "        text-align: right;\n",
       "    }\n",
       "</style>\n",
       "<table border=\"1\" class=\"dataframe\">\n",
       "  <thead>\n",
       "    <tr style=\"text-align: right;\">\n",
       "      <th></th>\n",
       "      <th>Date</th>\n",
       "      <th>High</th>\n",
       "      <th>Low</th>\n",
       "      <th>Open</th>\n",
       "      <th>Close</th>\n",
       "      <th>Volume</th>\n",
       "      <th>Adj Close</th>\n",
       "    </tr>\n",
       "  </thead>\n",
       "  <tbody>\n",
       "    <tr>\n",
       "      <th>0</th>\n",
       "      <td>2015-11-23</td>\n",
       "      <td>2095.610107</td>\n",
       "      <td>2081.389893</td>\n",
       "      <td>2089.409912</td>\n",
       "      <td>2086.590088</td>\n",
       "      <td>3.587980e+09</td>\n",
       "      <td>2086.590088</td>\n",
       "    </tr>\n",
       "    <tr>\n",
       "      <th>1</th>\n",
       "      <td>2015-11-24</td>\n",
       "      <td>2094.120117</td>\n",
       "      <td>2070.290039</td>\n",
       "      <td>2084.419922</td>\n",
       "      <td>2089.139893</td>\n",
       "      <td>3.884930e+09</td>\n",
       "      <td>2089.139893</td>\n",
       "    </tr>\n",
       "    <tr>\n",
       "      <th>2</th>\n",
       "      <td>2015-11-25</td>\n",
       "      <td>2093.000000</td>\n",
       "      <td>2086.300049</td>\n",
       "      <td>2089.300049</td>\n",
       "      <td>2088.870117</td>\n",
       "      <td>2.852940e+09</td>\n",
       "      <td>2088.870117</td>\n",
       "    </tr>\n",
       "    <tr>\n",
       "      <th>3</th>\n",
       "      <td>2015-11-26</td>\n",
       "      <td>2093.000000</td>\n",
       "      <td>2086.300049</td>\n",
       "      <td>2089.300049</td>\n",
       "      <td>2088.870117</td>\n",
       "      <td>2.852940e+09</td>\n",
       "      <td>2088.870117</td>\n",
       "    </tr>\n",
       "    <tr>\n",
       "      <th>4</th>\n",
       "      <td>2015-11-27</td>\n",
       "      <td>2093.290039</td>\n",
       "      <td>2084.129883</td>\n",
       "      <td>2088.820068</td>\n",
       "      <td>2090.110107</td>\n",
       "      <td>1.466840e+09</td>\n",
       "      <td>2090.110107</td>\n",
       "    </tr>\n",
       "  </tbody>\n",
       "</table>\n",
       "</div>"
      ],
      "text/plain": [
       "         Date         High          Low         Open        Close  \\\n",
       "0  2015-11-23  2095.610107  2081.389893  2089.409912  2086.590088   \n",
       "1  2015-11-24  2094.120117  2070.290039  2084.419922  2089.139893   \n",
       "2  2015-11-25  2093.000000  2086.300049  2089.300049  2088.870117   \n",
       "3  2015-11-26  2093.000000  2086.300049  2089.300049  2088.870117   \n",
       "4  2015-11-27  2093.290039  2084.129883  2088.820068  2090.110107   \n",
       "\n",
       "         Volume    Adj Close  \n",
       "0  3.587980e+09  2086.590088  \n",
       "1  3.884930e+09  2089.139893  \n",
       "2  2.852940e+09  2088.870117  \n",
       "3  2.852940e+09  2088.870117  \n",
       "4  1.466840e+09  2090.110107  "
      ]
     },
     "execution_count": 10,
     "metadata": {},
     "output_type": "execute_result"
    }
   ],
   "source": [
    "yahoo_stock_prices.head()"
   ]
  },
  {
   "cell_type": "code",
   "execution_count": 11,
   "id": "studied-safety",
   "metadata": {},
   "outputs": [
    {
     "data": {
      "text/plain": [
       "str"
      ]
     },
     "execution_count": 11,
     "metadata": {},
     "output_type": "execute_result"
    }
   ],
   "source": [
    "type(yahoo_stock_prices['Date'][0])"
   ]
  },
  {
   "cell_type": "code",
   "execution_count": 12,
   "id": "ahead-deadline",
   "metadata": {},
   "outputs": [],
   "source": [
    "import datetime"
   ]
  },
  {
   "cell_type": "code",
   "execution_count": 13,
   "id": "exterior-gilbert",
   "metadata": {},
   "outputs": [
    {
     "data": {
      "text/plain": [
       "'2015-11-23'"
      ]
     },
     "execution_count": 13,
     "metadata": {},
     "output_type": "execute_result"
    }
   ],
   "source": [
    "start_date_str = yahoo_stock_prices['Date'][0]\n",
    "start_date_str"
   ]
  },
  {
   "cell_type": "code",
   "execution_count": 14,
   "id": "noble-austin",
   "metadata": {},
   "outputs": [
    {
     "name": "stdout",
     "output_type": "stream",
     "text": [
      "<class 'str'>\n"
     ]
    }
   ],
   "source": [
    "print(type(start_date_str))"
   ]
  },
  {
   "cell_type": "code",
   "execution_count": 15,
   "id": "composed-syracuse",
   "metadata": {},
   "outputs": [
    {
     "data": {
      "text/plain": [
       "'2020-11-20'"
      ]
     },
     "execution_count": 15,
     "metadata": {},
     "output_type": "execute_result"
    }
   ],
   "source": [
    "end_date_str = yahoo_stock_prices['Date'][yahoo_stock_prices.shape[0] - 1]\n",
    "end_date_str"
   ]
  },
  {
   "cell_type": "code",
   "execution_count": 16,
   "id": "middle-david",
   "metadata": {},
   "outputs": [
    {
     "name": "stdout",
     "output_type": "stream",
     "text": [
      "<class 'str'>\n"
     ]
    }
   ],
   "source": [
    "print(type(end_date_str))"
   ]
  },
  {
   "cell_type": "code",
   "execution_count": 17,
   "id": "configured-tender",
   "metadata": {},
   "outputs": [],
   "source": [
    "start_date = datetime.datetime.strptime(start_date_str, '%Y-%m-%d')"
   ]
  },
  {
   "cell_type": "code",
   "execution_count": 18,
   "id": "environmental-snake",
   "metadata": {},
   "outputs": [
    {
     "name": "stdout",
     "output_type": "stream",
     "text": [
      "2015-11-23 00:00:00\n"
     ]
    }
   ],
   "source": [
    "print(start_date)"
   ]
  },
  {
   "cell_type": "code",
   "execution_count": 19,
   "id": "nervous-helmet",
   "metadata": {},
   "outputs": [],
   "source": [
    "end_date = datetime.datetime.strptime(end_date_str, '%Y-%m-%d')"
   ]
  },
  {
   "cell_type": "code",
   "execution_count": 20,
   "id": "editorial-artwork",
   "metadata": {},
   "outputs": [
    {
     "name": "stdout",
     "output_type": "stream",
     "text": [
      "2020-11-20 00:00:00\n"
     ]
    }
   ],
   "source": [
    "print(end_date)"
   ]
  },
  {
   "cell_type": "code",
   "execution_count": 21,
   "id": "included-triangle",
   "metadata": {},
   "outputs": [],
   "source": [
    "duration = end_date - start_date"
   ]
  },
  {
   "cell_type": "code",
   "execution_count": 22,
   "id": "selected-italy",
   "metadata": {},
   "outputs": [
    {
     "name": "stdout",
     "output_type": "stream",
     "text": [
      "1824 days, 0:00:00\n"
     ]
    }
   ],
   "source": [
    "print(duration)"
   ]
  },
  {
   "cell_type": "code",
   "execution_count": 23,
   "id": "commercial-incentive",
   "metadata": {},
   "outputs": [
    {
     "data": {
      "text/html": [
       "<div>\n",
       "<style scoped>\n",
       "    .dataframe tbody tr th:only-of-type {\n",
       "        vertical-align: middle;\n",
       "    }\n",
       "\n",
       "    .dataframe tbody tr th {\n",
       "        vertical-align: top;\n",
       "    }\n",
       "\n",
       "    .dataframe thead th {\n",
       "        text-align: right;\n",
       "    }\n",
       "</style>\n",
       "<table border=\"1\" class=\"dataframe\">\n",
       "  <thead>\n",
       "    <tr style=\"text-align: right;\">\n",
       "      <th></th>\n",
       "      <th>High</th>\n",
       "      <th>Low</th>\n",
       "      <th>Open</th>\n",
       "      <th>Close</th>\n",
       "      <th>Volume</th>\n",
       "      <th>Adj Close</th>\n",
       "    </tr>\n",
       "  </thead>\n",
       "  <tbody>\n",
       "    <tr>\n",
       "      <th>count</th>\n",
       "      <td>1825.000000</td>\n",
       "      <td>1825.000000</td>\n",
       "      <td>1825.000000</td>\n",
       "      <td>1825.000000</td>\n",
       "      <td>1.825000e+03</td>\n",
       "      <td>1825.000000</td>\n",
       "    </tr>\n",
       "    <tr>\n",
       "      <th>mean</th>\n",
       "      <td>2660.718673</td>\n",
       "      <td>2632.817580</td>\n",
       "      <td>2647.704751</td>\n",
       "      <td>2647.856284</td>\n",
       "      <td>3.869627e+09</td>\n",
       "      <td>2647.856284</td>\n",
       "    </tr>\n",
       "    <tr>\n",
       "      <th>std</th>\n",
       "      <td>409.680853</td>\n",
       "      <td>404.310068</td>\n",
       "      <td>407.169994</td>\n",
       "      <td>407.301177</td>\n",
       "      <td>1.087593e+09</td>\n",
       "      <td>407.301177</td>\n",
       "    </tr>\n",
       "    <tr>\n",
       "      <th>min</th>\n",
       "      <td>1847.000000</td>\n",
       "      <td>1810.099976</td>\n",
       "      <td>1833.400024</td>\n",
       "      <td>1829.079956</td>\n",
       "      <td>1.296540e+09</td>\n",
       "      <td>1829.079956</td>\n",
       "    </tr>\n",
       "    <tr>\n",
       "      <th>25%</th>\n",
       "      <td>2348.350098</td>\n",
       "      <td>2322.250000</td>\n",
       "      <td>2341.979980</td>\n",
       "      <td>2328.949951</td>\n",
       "      <td>3.257950e+09</td>\n",
       "      <td>2328.949951</td>\n",
       "    </tr>\n",
       "    <tr>\n",
       "      <th>50%</th>\n",
       "      <td>2696.250000</td>\n",
       "      <td>2667.840088</td>\n",
       "      <td>2685.489990</td>\n",
       "      <td>2683.340088</td>\n",
       "      <td>3.609740e+09</td>\n",
       "      <td>2683.340088</td>\n",
       "    </tr>\n",
       "    <tr>\n",
       "      <th>75%</th>\n",
       "      <td>2930.790039</td>\n",
       "      <td>2900.709961</td>\n",
       "      <td>2913.860107</td>\n",
       "      <td>2917.520020</td>\n",
       "      <td>4.142850e+09</td>\n",
       "      <td>2917.520020</td>\n",
       "    </tr>\n",
       "    <tr>\n",
       "      <th>max</th>\n",
       "      <td>3645.989990</td>\n",
       "      <td>3600.159912</td>\n",
       "      <td>3612.090088</td>\n",
       "      <td>3626.909912</td>\n",
       "      <td>9.044690e+09</td>\n",
       "      <td>3626.909912</td>\n",
       "    </tr>\n",
       "  </tbody>\n",
       "</table>\n",
       "</div>"
      ],
      "text/plain": [
       "              High          Low         Open        Close        Volume  \\\n",
       "count  1825.000000  1825.000000  1825.000000  1825.000000  1.825000e+03   \n",
       "mean   2660.718673  2632.817580  2647.704751  2647.856284  3.869627e+09   \n",
       "std     409.680853   404.310068   407.169994   407.301177  1.087593e+09   \n",
       "min    1847.000000  1810.099976  1833.400024  1829.079956  1.296540e+09   \n",
       "25%    2348.350098  2322.250000  2341.979980  2328.949951  3.257950e+09   \n",
       "50%    2696.250000  2667.840088  2685.489990  2683.340088  3.609740e+09   \n",
       "75%    2930.790039  2900.709961  2913.860107  2917.520020  4.142850e+09   \n",
       "max    3645.989990  3600.159912  3612.090088  3626.909912  9.044690e+09   \n",
       "\n",
       "         Adj Close  \n",
       "count  1825.000000  \n",
       "mean   2647.856284  \n",
       "std     407.301177  \n",
       "min    1829.079956  \n",
       "25%    2328.949951  \n",
       "50%    2683.340088  \n",
       "75%    2917.520020  \n",
       "max    3626.909912  "
      ]
     },
     "execution_count": 23,
     "metadata": {},
     "output_type": "execute_result"
    }
   ],
   "source": [
    "yahoo_stock_prices.describe()"
   ]
  },
  {
   "cell_type": "code",
   "execution_count": 24,
   "id": "cellular-thinking",
   "metadata": {},
   "outputs": [
    {
     "data": {
      "text/plain": [
       "Date          object\n",
       "High         float64\n",
       "Low          float64\n",
       "Open         float64\n",
       "Close        float64\n",
       "Volume       float64\n",
       "Adj Close    float64\n",
       "dtype: object"
      ]
     },
     "execution_count": 24,
     "metadata": {},
     "output_type": "execute_result"
    }
   ],
   "source": [
    "yahoo_stock_prices.dtypes"
   ]
  },
  {
   "cell_type": "markdown",
   "id": "behind-blanket",
   "metadata": {},
   "source": [
    "****Plot timeseries of closing price, i.e. target variable****"
   ]
  },
  {
   "cell_type": "code",
   "execution_count": 25,
   "id": "animal-ranking",
   "metadata": {},
   "outputs": [],
   "source": [
    "closing_prices = yahoo_stock_prices['Close'].values"
   ]
  },
  {
   "cell_type": "code",
   "execution_count": 26,
   "id": "going-stage",
   "metadata": {},
   "outputs": [],
   "source": [
    "differenced_closing_prices = closing_prices[1:] - closing_prices[0:(closing_prices.shape[0] - 1)]"
   ]
  },
  {
   "cell_type": "code",
   "execution_count": 27,
   "id": "charitable-ceramic",
   "metadata": {},
   "outputs": [
    {
     "name": "stderr",
     "output_type": "stream",
     "text": [
      "/home/asal/anaconda3/envs/tensorflow-gpu/lib/python3.7/site-packages/ipykernel_launcher.py:1: RuntimeWarning: divide by zero encountered in log10\n",
      "  \"\"\"Entry point for launching an IPython kernel.\n",
      "/home/asal/anaconda3/envs/tensorflow-gpu/lib/python3.7/site-packages/ipykernel_launcher.py:1: RuntimeWarning: invalid value encountered in log10\n",
      "  \"\"\"Entry point for launching an IPython kernel.\n"
     ]
    }
   ],
   "source": [
    "log_differenced_closing_prices = np.log10(differenced_closing_prices)"
   ]
  },
  {
   "cell_type": "code",
   "execution_count": 28,
   "id": "vietnamese-navigator",
   "metadata": {},
   "outputs": [
    {
     "data": {
      "text/plain": [
       "[<matplotlib.lines.Line2D at 0x7fbe3008b650>]"
      ]
     },
     "execution_count": 28,
     "metadata": {},
     "output_type": "execute_result"
    },
    {
     "data": {
      "image/png": "[encoded data removed]",
      "text/plain": [
       "<Figure size 432x288 with 1 Axes>"
      ]
     },
     "metadata": {
      "needs_background": "light"
     },
     "output_type": "display_data"
    }
   ],
   "source": [
    "plt.plot(closing_prices)"
   ]
  },
  {
   "cell_type": "code",
   "execution_count": 29,
   "id": "classified-carrier",
   "metadata": {},
   "outputs": [
    {
     "data": {
      "text/plain": [
       "[<matplotlib.lines.Line2D at 0x7fbe1d1fc1d0>]"
      ]
     },
     "execution_count": 29,
     "metadata": {},
     "output_type": "execute_result"
    },
    {
     "data": {
      "image/png": "[encoded data removed]",
      "text/plain": [
       "<Figure size 432x288 with 1 Axes>"
      ]
     },
     "metadata": {
      "needs_background": "light"
     },
     "output_type": "display_data"
    }
   ],
   "source": [
    "plt.plot(differenced_closing_prices)"
   ]
  },
  {
   "cell_type": "code",
   "execution_count": 30,
   "id": "chinese-timer",
   "metadata": {},
   "outputs": [
    {
     "data": {
      "text/plain": [
       "[<matplotlib.lines.Line2D at 0x7fbe1d16b710>]"
      ]
     },
     "execution_count": 30,
     "metadata": {},
     "output_type": "execute_result"
    },
    {
     "data": {
      "image/png": "[encoded data removed]",
      "text/plain": [
       "<Figure size 432x288 with 1 Axes>"
      ]
     },
     "metadata": {
      "needs_background": "light"
     },
     "output_type": "display_data"
    }
   ],
   "source": [
    "plt.plot(log_differenced_closing_prices)"
   ]
  },
  {
   "cell_type": "markdown",
   "id": "artificial-arthritis",
   "metadata": {},
   "source": [
    "****Check for missing values****"
   ]
  },
  {
   "cell_type": "code",
   "execution_count": 31,
   "id": "pacific-bearing",
   "metadata": {},
   "outputs": [
    {
     "data": {
      "text/plain": [
       "Date         False\n",
       "High         False\n",
       "Low          False\n",
       "Open         False\n",
       "Close        False\n",
       "Volume       False\n",
       "Adj Close    False\n",
       "dtype: bool"
      ]
     },
     "execution_count": 31,
     "metadata": {},
     "output_type": "execute_result"
    }
   ],
   "source": [
    "yahoo_stock_prices.isnull().any()"
   ]
  },
  {
   "cell_type": "code",
   "execution_count": 32,
   "id": "structural-content",
   "metadata": {},
   "outputs": [],
   "source": [
    "timeseries = yahoo_stock_prices.iloc[:, 1:]"
   ]
  },
  {
   "cell_type": "code",
   "execution_count": 33,
   "id": "requested-snapshot",
   "metadata": {},
   "outputs": [
    {
     "data": {
      "text/html": [
       "<div>\n",
       "<style scoped>\n",
       "    .dataframe tbody tr th:only-of-type {\n",
       "        vertical-align: middle;\n",
       "    }\n",
       "\n",
       "    .dataframe tbody tr th {\n",
       "        vertical-align: top;\n",
       "    }\n",
       "\n",
       "    .dataframe thead th {\n",
       "        text-align: right;\n",
       "    }\n",
       "</style>\n",
       "<table border=\"1\" class=\"dataframe\">\n",
       "  <thead>\n",
       "    <tr style=\"text-align: right;\">\n",
       "      <th></th>\n",
       "      <th>High</th>\n",
       "      <th>Low</th>\n",
       "      <th>Open</th>\n",
       "      <th>Close</th>\n",
       "      <th>Volume</th>\n",
       "      <th>Adj Close</th>\n",
       "    </tr>\n",
       "  </thead>\n",
       "  <tbody>\n",
       "    <tr>\n",
       "      <th>0</th>\n",
       "      <td>2095.610107</td>\n",
       "      <td>2081.389893</td>\n",
       "      <td>2089.409912</td>\n",
       "      <td>2086.590088</td>\n",
       "      <td>3.587980e+09</td>\n",
       "      <td>2086.590088</td>\n",
       "    </tr>\n",
       "    <tr>\n",
       "      <th>1</th>\n",
       "      <td>2094.120117</td>\n",
       "      <td>2070.290039</td>\n",
       "      <td>2084.419922</td>\n",
       "      <td>2089.139893</td>\n",
       "      <td>3.884930e+09</td>\n",
       "      <td>2089.139893</td>\n",
       "    </tr>\n",
       "    <tr>\n",
       "      <th>2</th>\n",
       "      <td>2093.000000</td>\n",
       "      <td>2086.300049</td>\n",
       "      <td>2089.300049</td>\n",
       "      <td>2088.870117</td>\n",
       "      <td>2.852940e+09</td>\n",
       "      <td>2088.870117</td>\n",
       "    </tr>\n",
       "    <tr>\n",
       "      <th>3</th>\n",
       "      <td>2093.000000</td>\n",
       "      <td>2086.300049</td>\n",
       "      <td>2089.300049</td>\n",
       "      <td>2088.870117</td>\n",
       "      <td>2.852940e+09</td>\n",
       "      <td>2088.870117</td>\n",
       "    </tr>\n",
       "    <tr>\n",
       "      <th>4</th>\n",
       "      <td>2093.290039</td>\n",
       "      <td>2084.129883</td>\n",
       "      <td>2088.820068</td>\n",
       "      <td>2090.110107</td>\n",
       "      <td>1.466840e+09</td>\n",
       "      <td>2090.110107</td>\n",
       "    </tr>\n",
       "  </tbody>\n",
       "</table>\n",
       "</div>"
      ],
      "text/plain": [
       "          High          Low         Open        Close        Volume  \\\n",
       "0  2095.610107  2081.389893  2089.409912  2086.590088  3.587980e+09   \n",
       "1  2094.120117  2070.290039  2084.419922  2089.139893  3.884930e+09   \n",
       "2  2093.000000  2086.300049  2089.300049  2088.870117  2.852940e+09   \n",
       "3  2093.000000  2086.300049  2089.300049  2088.870117  2.852940e+09   \n",
       "4  2093.290039  2084.129883  2088.820068  2090.110107  1.466840e+09   \n",
       "\n",
       "     Adj Close  \n",
       "0  2086.590088  \n",
       "1  2089.139893  \n",
       "2  2088.870117  \n",
       "3  2088.870117  \n",
       "4  2090.110107  "
      ]
     },
     "execution_count": 33,
     "metadata": {},
     "output_type": "execute_result"
    }
   ],
   "source": [
    "timeseries.head()"
   ]
  },
  {
   "cell_type": "code",
   "execution_count": 34,
   "id": "historical-graduation",
   "metadata": {},
   "outputs": [
    {
     "data": {
      "text/html": [
       "<div>\n",
       "<style scoped>\n",
       "    .dataframe tbody tr th:only-of-type {\n",
       "        vertical-align: middle;\n",
       "    }\n",
       "\n",
       "    .dataframe tbody tr th {\n",
       "        vertical-align: top;\n",
       "    }\n",
       "\n",
       "    .dataframe thead th {\n",
       "        text-align: right;\n",
       "    }\n",
       "</style>\n",
       "<table border=\"1\" class=\"dataframe\">\n",
       "  <thead>\n",
       "    <tr style=\"text-align: right;\">\n",
       "      <th></th>\n",
       "      <th>High</th>\n",
       "      <th>Low</th>\n",
       "      <th>Open</th>\n",
       "      <th>Close</th>\n",
       "      <th>Volume</th>\n",
       "      <th>Adj Close</th>\n",
       "    </tr>\n",
       "  </thead>\n",
       "  <tbody>\n",
       "    <tr>\n",
       "      <th>count</th>\n",
       "      <td>1825.000000</td>\n",
       "      <td>1825.000000</td>\n",
       "      <td>1825.000000</td>\n",
       "      <td>1825.000000</td>\n",
       "      <td>1.825000e+03</td>\n",
       "      <td>1825.000000</td>\n",
       "    </tr>\n",
       "    <tr>\n",
       "      <th>mean</th>\n",
       "      <td>2660.718673</td>\n",
       "      <td>2632.817580</td>\n",
       "      <td>2647.704751</td>\n",
       "      <td>2647.856284</td>\n",
       "      <td>3.869627e+09</td>\n",
       "      <td>2647.856284</td>\n",
       "    </tr>\n",
       "    <tr>\n",
       "      <th>std</th>\n",
       "      <td>409.680853</td>\n",
       "      <td>404.310068</td>\n",
       "      <td>407.169994</td>\n",
       "      <td>407.301177</td>\n",
       "      <td>1.087593e+09</td>\n",
       "      <td>407.301177</td>\n",
       "    </tr>\n",
       "    <tr>\n",
       "      <th>min</th>\n",
       "      <td>1847.000000</td>\n",
       "      <td>1810.099976</td>\n",
       "      <td>1833.400024</td>\n",
       "      <td>1829.079956</td>\n",
       "      <td>1.296540e+09</td>\n",
       "      <td>1829.079956</td>\n",
       "    </tr>\n",
       "    <tr>\n",
       "      <th>25%</th>\n",
       "      <td>2348.350098</td>\n",
       "      <td>2322.250000</td>\n",
       "      <td>2341.979980</td>\n",
       "      <td>2328.949951</td>\n",
       "      <td>3.257950e+09</td>\n",
       "      <td>2328.949951</td>\n",
       "    </tr>\n",
       "    <tr>\n",
       "      <th>50%</th>\n",
       "      <td>2696.250000</td>\n",
       "      <td>2667.840088</td>\n",
       "      <td>2685.489990</td>\n",
       "      <td>2683.340088</td>\n",
       "      <td>3.609740e+09</td>\n",
       "      <td>2683.340088</td>\n",
       "    </tr>\n",
       "    <tr>\n",
       "      <th>75%</th>\n",
       "      <td>2930.790039</td>\n",
       "      <td>2900.709961</td>\n",
       "      <td>2913.860107</td>\n",
       "      <td>2917.520020</td>\n",
       "      <td>4.142850e+09</td>\n",
       "      <td>2917.520020</td>\n",
       "    </tr>\n",
       "    <tr>\n",
       "      <th>max</th>\n",
       "      <td>3645.989990</td>\n",
       "      <td>3600.159912</td>\n",
       "      <td>3612.090088</td>\n",
       "      <td>3626.909912</td>\n",
       "      <td>9.044690e+09</td>\n",
       "      <td>3626.909912</td>\n",
       "    </tr>\n",
       "  </tbody>\n",
       "</table>\n",
       "</div>"
      ],
      "text/plain": [
       "              High          Low         Open        Close        Volume  \\\n",
       "count  1825.000000  1825.000000  1825.000000  1825.000000  1.825000e+03   \n",
       "mean   2660.718673  2632.817580  2647.704751  2647.856284  3.869627e+09   \n",
       "std     409.680853   404.310068   407.169994   407.301177  1.087593e+09   \n",
       "min    1847.000000  1810.099976  1833.400024  1829.079956  1.296540e+09   \n",
       "25%    2348.350098  2322.250000  2341.979980  2328.949951  3.257950e+09   \n",
       "50%    2696.250000  2667.840088  2685.489990  2683.340088  3.609740e+09   \n",
       "75%    2930.790039  2900.709961  2913.860107  2917.520020  4.142850e+09   \n",
       "max    3645.989990  3600.159912  3612.090088  3626.909912  9.044690e+09   \n",
       "\n",
       "         Adj Close  \n",
       "count  1825.000000  \n",
       "mean   2647.856284  \n",
       "std     407.301177  \n",
       "min    1829.079956  \n",
       "25%    2328.949951  \n",
       "50%    2683.340088  \n",
       "75%    2917.520020  \n",
       "max    3626.909912  "
      ]
     },
     "execution_count": 34,
     "metadata": {},
     "output_type": "execute_result"
    }
   ],
   "source": [
    "timeseries.describe()"
   ]
  },
  {
   "cell_type": "markdown",
   "id": "coastal-teddy",
   "metadata": {},
   "source": [
    "****Normalization****"
   ]
  },
  {
   "cell_type": "code",
   "execution_count": 35,
   "id": "arbitrary-north",
   "metadata": {},
   "outputs": [],
   "source": [
    "timeseries_mean = timeseries.mean(axis=0)"
   ]
  },
  {
   "cell_type": "code",
   "execution_count": 36,
   "id": "victorian-satisfaction",
   "metadata": {},
   "outputs": [],
   "source": [
    "timeseries_std = timeseries.std(axis=0)"
   ]
  },
  {
   "cell_type": "code",
   "execution_count": 37,
   "id": "compressed-arkansas",
   "metadata": {},
   "outputs": [],
   "source": [
    "timeseries -= timeseries_mean"
   ]
  },
  {
   "cell_type": "code",
   "execution_count": 38,
   "id": "rolled-gambling",
   "metadata": {},
   "outputs": [],
   "source": [
    "timeseries /= timeseries_std"
   ]
  },
  {
   "cell_type": "code",
   "execution_count": 39,
   "id": "banner-knowing",
   "metadata": {},
   "outputs": [
    {
     "data": {
      "text/html": [
       "<div>\n",
       "<style scoped>\n",
       "    .dataframe tbody tr th:only-of-type {\n",
       "        vertical-align: middle;\n",
       "    }\n",
       "\n",
       "    .dataframe tbody tr th {\n",
       "        vertical-align: top;\n",
       "    }\n",
       "\n",
       "    .dataframe thead th {\n",
       "        text-align: right;\n",
       "    }\n",
       "</style>\n",
       "<table border=\"1\" class=\"dataframe\">\n",
       "  <thead>\n",
       "    <tr style=\"text-align: right;\">\n",
       "      <th></th>\n",
       "      <th>High</th>\n",
       "      <th>Low</th>\n",
       "      <th>Open</th>\n",
       "      <th>Close</th>\n",
       "      <th>Volume</th>\n",
       "      <th>Adj Close</th>\n",
       "    </tr>\n",
       "  </thead>\n",
       "  <tbody>\n",
       "    <tr>\n",
       "      <th>count</th>\n",
       "      <td>1.825000e+03</td>\n",
       "      <td>1.825000e+03</td>\n",
       "      <td>1.825000e+03</td>\n",
       "      <td>1.825000e+03</td>\n",
       "      <td>1.825000e+03</td>\n",
       "      <td>1.825000e+03</td>\n",
       "    </tr>\n",
       "    <tr>\n",
       "      <th>mean</th>\n",
       "      <td>6.229416e-17</td>\n",
       "      <td>6.229416e-17</td>\n",
       "      <td>3.114708e-16</td>\n",
       "      <td>-1.245883e-16</td>\n",
       "      <td>1.557354e-16</td>\n",
       "      <td>-1.245883e-16</td>\n",
       "    </tr>\n",
       "    <tr>\n",
       "      <th>std</th>\n",
       "      <td>1.000000e+00</td>\n",
       "      <td>1.000000e+00</td>\n",
       "      <td>1.000000e+00</td>\n",
       "      <td>1.000000e+00</td>\n",
       "      <td>1.000000e+00</td>\n",
       "      <td>1.000000e+00</td>\n",
       "    </tr>\n",
       "    <tr>\n",
       "      <th>min</th>\n",
       "      <td>-1.986226e+00</td>\n",
       "      <td>-2.034868e+00</td>\n",
       "      <td>-1.999913e+00</td>\n",
       "      <td>-2.010248e+00</td>\n",
       "      <td>-2.365855e+00</td>\n",
       "      <td>-2.010248e+00</td>\n",
       "    </tr>\n",
       "    <tr>\n",
       "      <th>25%</th>\n",
       "      <td>-7.624681e-01</td>\n",
       "      <td>-7.681421e-01</td>\n",
       "      <td>-7.508529e-01</td>\n",
       "      <td>-7.829742e-01</td>\n",
       "      <td>-5.624134e-01</td>\n",
       "      <td>-7.829742e-01</td>\n",
       "    </tr>\n",
       "    <tr>\n",
       "      <th>50%</th>\n",
       "      <td>8.672928e-02</td>\n",
       "      <td>8.662289e-02</td>\n",
       "      <td>9.279967e-02</td>\n",
       "      <td>8.711932e-02</td>\n",
       "      <td>-2.389560e-01</td>\n",
       "      <td>8.711932e-02</td>\n",
       "    </tr>\n",
       "    <tr>\n",
       "      <th>75%</th>\n",
       "      <td>6.592238e-01</td>\n",
       "      <td>6.625914e-01</td>\n",
       "      <td>6.536713e-01</td>\n",
       "      <td>6.620745e-01</td>\n",
       "      <td>2.512183e-01</td>\n",
       "      <td>6.620745e-01</td>\n",
       "    </tr>\n",
       "    <tr>\n",
       "      <th>max</th>\n",
       "      <td>2.404973e+00</td>\n",
       "      <td>2.392575e+00</td>\n",
       "      <td>2.368508e+00</td>\n",
       "      <td>2.403758e+00</td>\n",
       "      <td>4.758273e+00</td>\n",
       "      <td>2.403758e+00</td>\n",
       "    </tr>\n",
       "  </tbody>\n",
       "</table>\n",
       "</div>"
      ],
      "text/plain": [
       "               High           Low          Open         Close        Volume  \\\n",
       "count  1.825000e+03  1.825000e+03  1.825000e+03  1.825000e+03  1.825000e+03   \n",
       "mean   6.229416e-17  6.229416e-17  3.114708e-16 -1.245883e-16  1.557354e-16   \n",
       "std    1.000000e+00  1.000000e+00  1.000000e+00  1.000000e+00  1.000000e+00   \n",
       "min   -1.986226e+00 -2.034868e+00 -1.999913e+00 -2.010248e+00 -2.365855e+00   \n",
       "25%   -7.624681e-01 -7.681421e-01 -7.508529e-01 -7.829742e-01 -5.624134e-01   \n",
       "50%    8.672928e-02  8.662289e-02  9.279967e-02  8.711932e-02 -2.389560e-01   \n",
       "75%    6.592238e-01  6.625914e-01  6.536713e-01  6.620745e-01  2.512183e-01   \n",
       "max    2.404973e+00  2.392575e+00  2.368508e+00  2.403758e+00  4.758273e+00   \n",
       "\n",
       "          Adj Close  \n",
       "count  1.825000e+03  \n",
       "mean  -1.245883e-16  \n",
       "std    1.000000e+00  \n",
       "min   -2.010248e+00  \n",
       "25%   -7.829742e-01  \n",
       "50%    8.711932e-02  \n",
       "75%    6.620745e-01  \n",
       "max    2.403758e+00  "
      ]
     },
     "execution_count": 39,
     "metadata": {},
     "output_type": "execute_result"
    }
   ],
   "source": [
    "timeseries.describe()"
   ]
  },
  {
   "cell_type": "code",
   "execution_count": 40,
   "id": "marked-integration",
   "metadata": {},
   "outputs": [],
   "source": [
    "timeseries = timeseries.values"
   ]
  },
  {
   "cell_type": "code",
   "execution_count": 41,
   "id": "chicken-winner",
   "metadata": {},
   "outputs": [
    {
     "name": "stdout",
     "output_type": "stream",
     "text": [
      "<class 'numpy.ndarray'>\n"
     ]
    }
   ],
   "source": [
    "print(type(timeseries))"
   ]
  },
  {
   "cell_type": "code",
   "execution_count": 42,
   "id": "commercial-fellowship",
   "metadata": {},
   "outputs": [
    {
     "data": {
      "text/plain": [
       "(1825, 6)"
      ]
     },
     "execution_count": 42,
     "metadata": {},
     "output_type": "execute_result"
    }
   ],
   "source": [
    "timeseries.shape"
   ]
  },
  {
   "cell_type": "code",
   "execution_count": 43,
   "id": "unable-midwest",
   "metadata": {},
   "outputs": [
    {
     "data": {
      "text/plain": [
       "dtype('float64')"
      ]
     },
     "execution_count": 43,
     "metadata": {},
     "output_type": "execute_result"
    }
   ],
   "source": [
    "timeseries.dtype"
   ]
  },
  {
   "cell_type": "markdown",
   "id": "incorporate-manor",
   "metadata": {},
   "source": [
    "****Transform initial data into batch of sequences****"
   ]
  },
  {
   "cell_type": "code",
   "execution_count": 44,
   "id": "geographic-apparatus",
   "metadata": {},
   "outputs": [],
   "source": [
    "def create_sequences(timeseries, pred_var_index, p, h=1):\n",
    "    (n, d) = timeseries.shape\n",
    "    sequences = np.zeros((n - h - p, p, d)).astype('float32')\n",
    "    targets = np.zeros((n - h - p)).astype('float32')\n",
    "    for i in range(p, n - h):\n",
    "        sequence = timeseries[(i - p) : i, :]\n",
    "        target = timeseries[i + h - 1, pred_var_index]\n",
    "        sequences[i - p, :, :] = sequence\n",
    "        targets[i - p] = target\n",
    "    return sequences, targets"
   ]
  },
  {
   "cell_type": "code",
   "execution_count": 45,
   "id": "sought-cutting",
   "metadata": {},
   "outputs": [],
   "source": [
    "past = 3"
   ]
  },
  {
   "cell_type": "code",
   "execution_count": 46,
   "id": "wireless-california",
   "metadata": {},
   "outputs": [],
   "source": [
    "horizon = 1"
   ]
  },
  {
   "cell_type": "code",
   "execution_count": 47,
   "id": "awful-organic",
   "metadata": {},
   "outputs": [],
   "source": [
    "pred_var_index = 3"
   ]
  },
  {
   "cell_type": "code",
   "execution_count": 48,
   "id": "bacterial-interim",
   "metadata": {},
   "outputs": [],
   "source": [
    "sequences, targets = create_sequences(timeseries, pred_var_index, past, horizon)"
   ]
  },
  {
   "cell_type": "code",
   "execution_count": 49,
   "id": "controversial-georgia",
   "metadata": {},
   "outputs": [
    {
     "name": "stdout",
     "output_type": "stream",
     "text": [
      "<class 'numpy.ndarray'>\n"
     ]
    }
   ],
   "source": [
    "print(type(sequences))"
   ]
  },
  {
   "cell_type": "code",
   "execution_count": 50,
   "id": "unauthorized-metabolism",
   "metadata": {},
   "outputs": [
    {
     "name": "stdout",
     "output_type": "stream",
     "text": [
      "(1821, 3, 6)\n"
     ]
    }
   ],
   "source": [
    "print(sequences.shape)"
   ]
  },
  {
   "cell_type": "code",
   "execution_count": 51,
   "id": "crucial-ordering",
   "metadata": {},
   "outputs": [
    {
     "name": "stdout",
     "output_type": "stream",
     "text": [
      "float32\n"
     ]
    }
   ],
   "source": [
    "print(sequences.dtype)"
   ]
  },
  {
   "cell_type": "code",
   "execution_count": 52,
   "id": "satellite-respondent",
   "metadata": {},
   "outputs": [
    {
     "name": "stdout",
     "output_type": "stream",
     "text": [
      "[[-1.3793873  -1.3638732  -1.3711591  -1.3780127  -0.25896347 -1.3780127 ]\n",
      " [-1.3830242  -1.391327   -1.3834144  -1.3717525   0.01407069 -1.3717525 ]\n",
      " [-1.3857584  -1.3517287  -1.371429   -1.3724148  -0.9348046  -1.3724148 ]]\n"
     ]
    }
   ],
   "source": [
    "print(sequences[0,:,:])"
   ]
  },
  {
   "cell_type": "code",
   "execution_count": 53,
   "id": "environmental-ridge",
   "metadata": {},
   "outputs": [
    {
     "name": "stdout",
     "output_type": "stream",
     "text": [
      "<class 'numpy.ndarray'>\n"
     ]
    }
   ],
   "source": [
    "print(type(targets))"
   ]
  },
  {
   "cell_type": "code",
   "execution_count": 54,
   "id": "diagnostic-senegal",
   "metadata": {},
   "outputs": [
    {
     "name": "stdout",
     "output_type": "stream",
     "text": [
      "(1821,)\n"
     ]
    }
   ],
   "source": [
    "print(targets.shape)"
   ]
  },
  {
   "cell_type": "code",
   "execution_count": 55,
   "id": "marked-workshop",
   "metadata": {},
   "outputs": [
    {
     "name": "stdout",
     "output_type": "stream",
     "text": [
      "float32\n"
     ]
    }
   ],
   "source": [
    "print(targets.dtype)"
   ]
  },
  {
   "cell_type": "code",
   "execution_count": 56,
   "id": "generous-sugar",
   "metadata": {},
   "outputs": [
    {
     "name": "stdout",
     "output_type": "stream",
     "text": [
      "-1.3724148\n"
     ]
    }
   ],
   "source": [
    "print(targets[0])"
   ]
  },
  {
   "cell_type": "markdown",
   "id": "olive-chambers",
   "metadata": {},
   "source": [
    "****Split data****"
   ]
  },
  {
   "cell_type": "code",
   "execution_count": 57,
   "id": "comic-planner",
   "metadata": {},
   "outputs": [],
   "source": [
    "from sklearn.model_selection import train_test_split"
   ]
  },
  {
   "cell_type": "code",
   "execution_count": 58,
   "id": "pressed-bibliography",
   "metadata": {},
   "outputs": [],
   "source": [
    "X_train, X_test, y_train, y_test = train_test_split(sequences, targets, test_size=0.1, shuffle=False)"
   ]
  },
  {
   "cell_type": "code",
   "execution_count": 59,
   "id": "cutting-vacuum",
   "metadata": {},
   "outputs": [
    {
     "name": "stdout",
     "output_type": "stream",
     "text": [
      "(1638, 3, 6)\n"
     ]
    }
   ],
   "source": [
    "print(X_train.shape)"
   ]
  },
  {
   "cell_type": "code",
   "execution_count": 60,
   "id": "standard-modem",
   "metadata": {},
   "outputs": [
    {
     "name": "stdout",
     "output_type": "stream",
     "text": [
      "(1638,)\n"
     ]
    }
   ],
   "source": [
    "print(y_train.shape)"
   ]
  },
  {
   "cell_type": "code",
   "execution_count": 61,
   "id": "restricted-adrian",
   "metadata": {},
   "outputs": [
    {
     "name": "stdout",
     "output_type": "stream",
     "text": [
      "(183, 3, 6)\n"
     ]
    }
   ],
   "source": [
    "print(X_test.shape)"
   ]
  },
  {
   "cell_type": "code",
   "execution_count": 62,
   "id": "certain-directory",
   "metadata": {},
   "outputs": [
    {
     "name": "stdout",
     "output_type": "stream",
     "text": [
      "(183,)\n"
     ]
    }
   ],
   "source": [
    "print(y_test.shape)"
   ]
  },
  {
   "cell_type": "markdown",
   "id": "worthy-circular",
   "metadata": {},
   "source": [
    "****Function for plotting training history****"
   ]
  },
  {
   "cell_type": "code",
   "execution_count": 63,
   "id": "faced-charge",
   "metadata": {},
   "outputs": [],
   "source": [
    "def plot_training_history(history):\n",
    "    loss = history.history['loss']\n",
    "    val_loss = history.history['val_loss']\n",
    "    epochs = range(1, len(loss) + 1)\n",
    "    plt.figure()\n",
    "    plt.plot(epochs, loss, label='Training loss')\n",
    "    plt.plot(epochs, val_loss, label='Validation loss')\n",
    "    plt.legend()\n",
    "    plt.show()"
   ]
  },
  {
   "cell_type": "markdown",
   "id": "bronze-terrace",
   "metadata": {},
   "source": [
    "****Classic RNN****"
   ]
  },
  {
   "cell_type": "code",
   "execution_count": 64,
   "id": "reduced-hartford",
   "metadata": {},
   "outputs": [],
   "source": [
    "rnn = keras.Sequential()\n",
    "rnn.add(keras.layers.SimpleRNN(16))\n",
    "rnn.add(keras.layers.Dense(1, activation='linear'))"
   ]
  },
  {
   "cell_type": "code",
   "execution_count": 65,
   "id": "measured-contributor",
   "metadata": {},
   "outputs": [],
   "source": [
    "rnn.compile(optimizer='rmsprop', loss=keras.losses.MeanSquaredError(), metrics=[keras.metrics.MeanAbsolutePercentageError()])"
   ]
  },
  {
   "cell_type": "code",
   "execution_count": 66,
   "id": "phantom-yukon",
   "metadata": {},
   "outputs": [
    {
     "name": "stdout",
     "output_type": "stream",
     "text": [
      "Epoch 1/20\n",
      "47/47 [==============================] - 0s 7ms/step - loss: 0.0691 - mean_absolute_percentage_error: 121.9562 - val_loss: 0.0900 - val_mean_absolute_percentage_error: 41.4965\n",
      "Epoch 2/20\n",
      "47/47 [==============================] - 0s 3ms/step - loss: 0.0136 - mean_absolute_percentage_error: 83.9825 - val_loss: 0.0578 - val_mean_absolute_percentage_error: 37.7206\n",
      "Epoch 3/20\n",
      "47/47 [==============================] - 0s 3ms/step - loss: 0.0074 - mean_absolute_percentage_error: 68.7549 - val_loss: 0.0554 - val_mean_absolute_percentage_error: 31.3311\n",
      "Epoch 4/20\n",
      "47/47 [==============================] - 0s 3ms/step - loss: 0.0062 - mean_absolute_percentage_error: 68.6586 - val_loss: 0.0359 - val_mean_absolute_percentage_error: 34.1387\n",
      "Epoch 5/20\n",
      "47/47 [==============================] - 0s 3ms/step - loss: 0.0053 - mean_absolute_percentage_error: 59.6835 - val_loss: 0.0377 - val_mean_absolute_percentage_error: 38.8395\n",
      "Epoch 6/20\n",
      "47/47 [==============================] - 0s 4ms/step - loss: 0.0050 - mean_absolute_percentage_error: 59.1980 - val_loss: 0.0331 - val_mean_absolute_percentage_error: 33.5355\n",
      "Epoch 7/20\n",
      "47/47 [==============================] - 0s 3ms/step - loss: 0.0046 - mean_absolute_percentage_error: 53.8470 - val_loss: 0.0310 - val_mean_absolute_percentage_error: 35.3769\n",
      "Epoch 8/20\n",
      "47/47 [==============================] - 0s 3ms/step - loss: 0.0043 - mean_absolute_percentage_error: 54.2059 - val_loss: 0.0293 - val_mean_absolute_percentage_error: 36.5550\n",
      "Epoch 9/20\n",
      "47/47 [==============================] - 0s 3ms/step - loss: 0.0040 - mean_absolute_percentage_error: 53.2346 - val_loss: 0.0289 - val_mean_absolute_percentage_error: 35.6748\n",
      "Epoch 10/20\n",
      "47/47 [==============================] - 0s 3ms/step - loss: 0.0038 - mean_absolute_percentage_error: 51.9114 - val_loss: 0.0306 - val_mean_absolute_percentage_error: 34.1778\n",
      "Epoch 11/20\n",
      "47/47 [==============================] - 0s 3ms/step - loss: 0.0036 - mean_absolute_percentage_error: 52.1020 - val_loss: 0.0286 - val_mean_absolute_percentage_error: 32.7393\n",
      "Epoch 12/20\n",
      "47/47 [==============================] - 0s 3ms/step - loss: 0.0035 - mean_absolute_percentage_error: 48.5147 - val_loss: 0.0359 - val_mean_absolute_percentage_error: 38.2084\n",
      "Epoch 13/20\n",
      "47/47 [==============================] - 0s 3ms/step - loss: 0.0034 - mean_absolute_percentage_error: 48.2020 - val_loss: 0.0311 - val_mean_absolute_percentage_error: 38.7947\n",
      "Epoch 14/20\n",
      "47/47 [==============================] - 0s 3ms/step - loss: 0.0033 - mean_absolute_percentage_error: 47.5728 - val_loss: 0.0288 - val_mean_absolute_percentage_error: 35.6147\n",
      "Epoch 15/20\n",
      "47/47 [==============================] - 0s 3ms/step - loss: 0.0032 - mean_absolute_percentage_error: 45.6581 - val_loss: 0.0283 - val_mean_absolute_percentage_error: 36.2377\n",
      "Epoch 16/20\n",
      "47/47 [==============================] - 0s 3ms/step - loss: 0.0031 - mean_absolute_percentage_error: 48.0003 - val_loss: 0.0352 - val_mean_absolute_percentage_error: 45.4015\n",
      "Epoch 17/20\n",
      "47/47 [==============================] - 0s 3ms/step - loss: 0.0031 - mean_absolute_percentage_error: 48.8549 - val_loss: 0.0297 - val_mean_absolute_percentage_error: 34.1130\n",
      "Epoch 18/20\n",
      "47/47 [==============================] - 0s 3ms/step - loss: 0.0030 - mean_absolute_percentage_error: 44.5896 - val_loss: 0.0289 - val_mean_absolute_percentage_error: 38.8092\n",
      "Epoch 19/20\n",
      "47/47 [==============================] - 0s 3ms/step - loss: 0.0030 - mean_absolute_percentage_error: 45.8055 - val_loss: 0.0359 - val_mean_absolute_percentage_error: 35.9646\n",
      "Epoch 20/20\n",
      "47/47 [==============================] - 0s 3ms/step - loss: 0.0030 - mean_absolute_percentage_error: 44.4531 - val_loss: 0.0292 - val_mean_absolute_percentage_error: 39.3928\n"
     ]
    }
   ],
   "source": [
    "history_rnn = rnn.fit(X_train, y_train, epochs=20, validation_split=0.1)"
   ]
  },
  {
   "cell_type": "code",
   "execution_count": 67,
   "id": "crazy-basket",
   "metadata": {},
   "outputs": [
    {
     "name": "stdout",
     "output_type": "stream",
     "text": [
      "Model: \"sequential\"\n",
      "_________________________________________________________________\n",
      "Layer (type)                 Output Shape              Param #   \n",
      "=================================================================\n",
      "simple_rnn (SimpleRNN)       multiple                  368       \n",
      "_________________________________________________________________\n",
      "dense (Dense)                multiple                  17        \n",
      "=================================================================\n",
      "Total params: 385\n",
      "Trainable params: 385\n",
      "Non-trainable params: 0\n",
      "_________________________________________________________________\n"
     ]
    }
   ],
   "source": [
    "rnn.summary()"
   ]
  },
  {
   "cell_type": "code",
   "execution_count": 68,
   "id": "sealed-airline",
   "metadata": {},
   "outputs": [
    {
     "data": {
      "image/png": "[encoded data removed]",
      "text/plain": [
       "<Figure size 432x288 with 1 Axes>"
      ]
     },
     "metadata": {
      "needs_background": "light"
     },
     "output_type": "display_data"
    }
   ],
   "source": [
    "plot_training_history(history_rnn)"
   ]
  },
  {
   "cell_type": "code",
   "execution_count": 69,
   "id": "wrong-allah",
   "metadata": {},
   "outputs": [
    {
     "name": "stdout",
     "output_type": "stream",
     "text": [
      "6/6 [==============================] - 0s 1ms/step - loss: 0.0179 - mean_absolute_percentage_error: 6.2762\n"
     ]
    }
   ],
   "source": [
    "rnn_results = rnn.evaluate(X_test, y_test)"
   ]
  },
  {
   "cell_type": "code",
   "execution_count": 70,
   "id": "black-bicycle",
   "metadata": {},
   "outputs": [
    {
     "name": "stdout",
     "output_type": "stream",
     "text": [
      "Simple RNN test error (%):  6.276\n"
     ]
    }
   ],
   "source": [
    "print('Simple RNN test error (%): ', round(rnn_results[1], 3))"
   ]
  },
  {
   "cell_type": "markdown",
   "id": "reduced-credits",
   "metadata": {},
   "source": [
    "****Stacked RNN****"
   ]
  },
  {
   "cell_type": "code",
   "execution_count": 71,
   "id": "oriented-fireplace",
   "metadata": {},
   "outputs": [],
   "source": [
    "stacked_rnn = keras.Sequential()\n",
    "stacked_rnn.add(keras.layers.SimpleRNN(16, return_sequences=True))\n",
    "stacked_rnn.add(keras.layers.SimpleRNN(16, return_sequences=False))\n",
    "stacked_rnn.add(keras.layers.Dense(1, activation='linear'))"
   ]
  },
  {
   "cell_type": "code",
   "execution_count": 72,
   "id": "neutral-cabin",
   "metadata": {},
   "outputs": [],
   "source": [
    "stacked_rnn.compile(optimizer='rmsprop', loss=keras.losses.MeanSquaredError(), metrics=[keras.metrics.MeanAbsolutePercentageError()])"
   ]
  },
  {
   "cell_type": "code",
   "execution_count": 73,
   "id": "painful-frontier",
   "metadata": {},
   "outputs": [
    {
     "name": "stdout",
     "output_type": "stream",
     "text": [
      "Epoch 1/20\n",
      "47/47 [==============================] - 0s 8ms/step - loss: 0.1311 - mean_absolute_percentage_error: 176.4279 - val_loss: 0.2437 - val_mean_absolute_percentage_error: 54.9306\n",
      "Epoch 2/20\n",
      "47/47 [==============================] - 0s 5ms/step - loss: 0.0167 - mean_absolute_percentage_error: 69.1618 - val_loss: 0.1083 - val_mean_absolute_percentage_error: 45.8430\n",
      "Epoch 3/20\n",
      "47/47 [==============================] - 0s 5ms/step - loss: 0.0089 - mean_absolute_percentage_error: 52.1818 - val_loss: 0.0609 - val_mean_absolute_percentage_error: 41.7215\n",
      "Epoch 4/20\n",
      "47/47 [==============================] - 0s 5ms/step - loss: 0.0069 - mean_absolute_percentage_error: 43.1346 - val_loss: 0.0775 - val_mean_absolute_percentage_error: 43.7629\n",
      "Epoch 5/20\n",
      "47/47 [==============================] - 0s 5ms/step - loss: 0.0059 - mean_absolute_percentage_error: 51.3916 - val_loss: 0.0492 - val_mean_absolute_percentage_error: 45.3630\n",
      "Epoch 6/20\n",
      "47/47 [==============================] - 0s 5ms/step - loss: 0.0054 - mean_absolute_percentage_error: 44.9964 - val_loss: 0.0319 - val_mean_absolute_percentage_error: 39.5996\n",
      "Epoch 7/20\n",
      "47/47 [==============================] - 0s 5ms/step - loss: 0.0047 - mean_absolute_percentage_error: 37.3363 - val_loss: 0.0315 - val_mean_absolute_percentage_error: 43.0925\n",
      "Epoch 8/20\n",
      "47/47 [==============================] - 0s 5ms/step - loss: 0.0046 - mean_absolute_percentage_error: 41.4638 - val_loss: 0.0318 - val_mean_absolute_percentage_error: 41.1342\n",
      "Epoch 9/20\n",
      "47/47 [==============================] - 0s 5ms/step - loss: 0.0042 - mean_absolute_percentage_error: 41.0559 - val_loss: 0.0349 - val_mean_absolute_percentage_error: 41.6949\n",
      "Epoch 10/20\n",
      "47/47 [==============================] - 0s 5ms/step - loss: 0.0043 - mean_absolute_percentage_error: 43.4538 - val_loss: 0.0307 - val_mean_absolute_percentage_error: 39.3406\n",
      "Epoch 11/20\n",
      "47/47 [==============================] - 0s 5ms/step - loss: 0.0039 - mean_absolute_percentage_error: 40.8690 - val_loss: 0.0326 - val_mean_absolute_percentage_error: 37.6036\n",
      "Epoch 12/20\n",
      "47/47 [==============================] - 0s 5ms/step - loss: 0.0039 - mean_absolute_percentage_error: 35.8479 - val_loss: 0.0485 - val_mean_absolute_percentage_error: 40.7168\n",
      "Epoch 13/20\n",
      "47/47 [==============================] - 0s 5ms/step - loss: 0.0037 - mean_absolute_percentage_error: 36.1851 - val_loss: 0.0384 - val_mean_absolute_percentage_error: 42.6756\n",
      "Epoch 14/20\n",
      "47/47 [==============================] - 0s 5ms/step - loss: 0.0036 - mean_absolute_percentage_error: 38.8520 - val_loss: 0.0318 - val_mean_absolute_percentage_error: 42.9666\n",
      "Epoch 15/20\n",
      "47/47 [==============================] - 0s 6ms/step - loss: 0.0033 - mean_absolute_percentage_error: 40.2825 - val_loss: 0.0358 - val_mean_absolute_percentage_error: 42.4906\n",
      "Epoch 16/20\n",
      "47/47 [==============================] - 0s 5ms/step - loss: 0.0039 - mean_absolute_percentage_error: 38.8860 - val_loss: 0.0377 - val_mean_absolute_percentage_error: 42.0598\n",
      "Epoch 17/20\n",
      "47/47 [==============================] - 0s 5ms/step - loss: 0.0034 - mean_absolute_percentage_error: 39.1106 - val_loss: 0.0342 - val_mean_absolute_percentage_error: 37.2751\n",
      "Epoch 18/20\n",
      "47/47 [==============================] - 0s 5ms/step - loss: 0.0037 - mean_absolute_percentage_error: 38.0662 - val_loss: 0.0357 - val_mean_absolute_percentage_error: 41.3639\n",
      "Epoch 19/20\n",
      "47/47 [==============================] - 0s 5ms/step - loss: 0.0034 - mean_absolute_percentage_error: 36.7820 - val_loss: 0.0472 - val_mean_absolute_percentage_error: 36.5093\n",
      "Epoch 20/20\n",
      "47/47 [==============================] - 0s 5ms/step - loss: 0.0033 - mean_absolute_percentage_error: 35.1473 - val_loss: 0.0307 - val_mean_absolute_percentage_error: 41.3600\n"
     ]
    }
   ],
   "source": [
    "history_stacked_rnn = stacked_rnn.fit(X_train, y_train, epochs=20, validation_split=0.1)"
   ]
  },
  {
   "cell_type": "code",
   "execution_count": 74,
   "id": "small-quantum",
   "metadata": {},
   "outputs": [
    {
     "name": "stdout",
     "output_type": "stream",
     "text": [
      "Model: \"sequential_1\"\n",
      "_________________________________________________________________\n",
      "Layer (type)                 Output Shape              Param #   \n",
      "=================================================================\n",
      "simple_rnn_1 (SimpleRNN)     multiple                  368       \n",
      "_________________________________________________________________\n",
      "simple_rnn_2 (SimpleRNN)     multiple                  528       \n",
      "_________________________________________________________________\n",
      "dense_1 (Dense)              multiple                  17        \n",
      "=================================================================\n",
      "Total params: 913\n",
      "Trainable params: 913\n",
      "Non-trainable params: 0\n",
      "_________________________________________________________________\n"
     ]
    }
   ],
   "source": [
    "stacked_rnn.summary()"
   ]
  },
  {
   "cell_type": "code",
   "execution_count": 75,
   "id": "yellow-stretch",
   "metadata": {},
   "outputs": [
    {
     "data": {
      "image/png": "[encoded data removed]",
      "text/plain": [
       "<Figure size 432x288 with 1 Axes>"
      ]
     },
     "metadata": {
      "needs_background": "light"
     },
     "output_type": "display_data"
    }
   ],
   "source": [
    "plot_training_history(history_stacked_rnn)"
   ]
  },
  {
   "cell_type": "code",
   "execution_count": 76,
   "id": "referenced-marketing",
   "metadata": {},
   "outputs": [
    {
     "name": "stdout",
     "output_type": "stream",
     "text": [
      "6/6 [==============================] - 0s 2ms/step - loss: 0.0512 - mean_absolute_percentage_error: 9.9743\n"
     ]
    }
   ],
   "source": [
    "stacked_rnn_results = stacked_rnn.evaluate(X_test, y_test)"
   ]
  },
  {
   "cell_type": "code",
   "execution_count": 77,
   "id": "fatty-opportunity",
   "metadata": {},
   "outputs": [
    {
     "name": "stdout",
     "output_type": "stream",
     "text": [
      "Stacked RNN test error (%):  9.974\n"
     ]
    }
   ],
   "source": [
    "print('Stacked RNN test error (%): ', round(stacked_rnn_results[1], 3))"
   ]
  },
  {
   "cell_type": "markdown",
   "id": "remarkable-kelly",
   "metadata": {},
   "source": [
    "****Regularized stacked RNN****"
   ]
  },
  {
   "cell_type": "code",
   "execution_count": 78,
   "id": "adult-north",
   "metadata": {},
   "outputs": [],
   "source": [
    "reg_stacked_rnn = keras.Sequential()\n",
    "reg_stacked_rnn.add(keras.layers.SimpleRNN(16, return_sequences=True, dropout=0.2, recurrent_dropout=0.2))\n",
    "reg_stacked_rnn.add(keras.layers.SimpleRNN(16, return_sequences=False, dropout=0.2, recurrent_dropout=0.2))\n",
    "reg_stacked_rnn.add(keras.layers.Dense(1, activation='linear'))"
   ]
  },
  {
   "cell_type": "code",
   "execution_count": 79,
   "id": "sized-absolute",
   "metadata": {},
   "outputs": [],
   "source": [
    "reg_stacked_rnn.compile(optimizer='rmsprop', loss=keras.losses.MeanSquaredError(), metrics=[keras.metrics.MeanAbsolutePercentageError()])"
   ]
  },
  {
   "cell_type": "code",
   "execution_count": 80,
   "id": "greenhouse-sleeve",
   "metadata": {},
   "outputs": [
    {
     "name": "stdout",
     "output_type": "stream",
     "text": [
      "Epoch 1/20\n",
      "47/47 [==============================] - 0s 10ms/step - loss: 0.3436 - mean_absolute_percentage_error: 232.2962 - val_loss: 0.1281 - val_mean_absolute_percentage_error: 87.0627\n",
      "Epoch 2/20\n",
      "47/47 [==============================] - 0s 6ms/step - loss: 0.1835 - mean_absolute_percentage_error: 232.3476 - val_loss: 0.1036 - val_mean_absolute_percentage_error: 86.7095\n",
      "Epoch 3/20\n",
      "47/47 [==============================] - 0s 6ms/step - loss: 0.1220 - mean_absolute_percentage_error: 169.8064 - val_loss: 0.1179 - val_mean_absolute_percentage_error: 81.2155\n",
      "Epoch 4/20\n",
      "47/47 [==============================] - 0s 6ms/step - loss: 0.0968 - mean_absolute_percentage_error: 172.4095 - val_loss: 0.1286 - val_mean_absolute_percentage_error: 82.7782\n",
      "Epoch 5/20\n",
      "47/47 [==============================] - 0s 6ms/step - loss: 0.0884 - mean_absolute_percentage_error: 141.7438 - val_loss: 0.1206 - val_mean_absolute_percentage_error: 85.0703\n",
      "Epoch 6/20\n",
      "47/47 [==============================] - 0s 6ms/step - loss: 0.0763 - mean_absolute_percentage_error: 102.9215 - val_loss: 0.1246 - val_mean_absolute_percentage_error: 97.3566\n",
      "Epoch 7/20\n",
      "47/47 [==============================] - 0s 6ms/step - loss: 0.0656 - mean_absolute_percentage_error: 92.9213 - val_loss: 0.1041 - val_mean_absolute_percentage_error: 71.7833\n",
      "Epoch 8/20\n",
      "47/47 [==============================] - 0s 6ms/step - loss: 0.0642 - mean_absolute_percentage_error: 89.5190 - val_loss: 0.1269 - val_mean_absolute_percentage_error: 87.1676\n",
      "Epoch 9/20\n",
      "47/47 [==============================] - 0s 6ms/step - loss: 0.0612 - mean_absolute_percentage_error: 110.0487 - val_loss: 0.1244 - val_mean_absolute_percentage_error: 68.8599\n",
      "Epoch 10/20\n",
      "47/47 [==============================] - 0s 6ms/step - loss: 0.0559 - mean_absolute_percentage_error: 142.9411 - val_loss: 0.0811 - val_mean_absolute_percentage_error: 78.5672\n",
      "Epoch 11/20\n",
      "47/47 [==============================] - 0s 7ms/step - loss: 0.0545 - mean_absolute_percentage_error: 106.2132 - val_loss: 0.1149 - val_mean_absolute_percentage_error: 77.8186\n",
      "Epoch 12/20\n",
      "47/47 [==============================] - 0s 6ms/step - loss: 0.0534 - mean_absolute_percentage_error: 107.0976 - val_loss: 0.0961 - val_mean_absolute_percentage_error: 81.3513\n",
      "Epoch 13/20\n",
      "47/47 [==============================] - 0s 6ms/step - loss: 0.0478 - mean_absolute_percentage_error: 93.8300 - val_loss: 0.1028 - val_mean_absolute_percentage_error: 80.6663\n",
      "Epoch 14/20\n",
      "47/47 [==============================] - 0s 6ms/step - loss: 0.0442 - mean_absolute_percentage_error: 91.9872 - val_loss: 0.1209 - val_mean_absolute_percentage_error: 93.3724\n",
      "Epoch 15/20\n",
      "47/47 [==============================] - 0s 6ms/step - loss: 0.0479 - mean_absolute_percentage_error: 81.3500 - val_loss: 0.1617 - val_mean_absolute_percentage_error: 85.9019\n",
      "Epoch 16/20\n",
      "47/47 [==============================] - 0s 6ms/step - loss: 0.0410 - mean_absolute_percentage_error: 117.7710 - val_loss: 0.1483 - val_mean_absolute_percentage_error: 77.6233\n",
      "Epoch 17/20\n",
      "47/47 [==============================] - 0s 6ms/step - loss: 0.0402 - mean_absolute_percentage_error: 79.6042 - val_loss: 0.1286 - val_mean_absolute_percentage_error: 74.7958\n",
      "Epoch 18/20\n",
      "47/47 [==============================] - 0s 7ms/step - loss: 0.0405 - mean_absolute_percentage_error: 85.7697 - val_loss: 0.1538 - val_mean_absolute_percentage_error: 76.5491\n",
      "Epoch 19/20\n",
      "47/47 [==============================] - 0s 6ms/step - loss: 0.0370 - mean_absolute_percentage_error: 77.7473 - val_loss: 0.1508 - val_mean_absolute_percentage_error: 76.3856\n",
      "Epoch 20/20\n",
      "47/47 [==============================] - 0s 6ms/step - loss: 0.0401 - mean_absolute_percentage_error: 76.2454 - val_loss: 0.1286 - val_mean_absolute_percentage_error: 86.5771\n"
     ]
    }
   ],
   "source": [
    "history_reg_stacked_rnn = reg_stacked_rnn.fit(X_train, y_train, epochs=20, validation_split=0.1)"
   ]
  },
  {
   "cell_type": "code",
   "execution_count": 81,
   "id": "equivalent-magic",
   "metadata": {},
   "outputs": [
    {
     "name": "stdout",
     "output_type": "stream",
     "text": [
      "Model: \"sequential_2\"\n",
      "_________________________________________________________________\n",
      "Layer (type)                 Output Shape              Param #   \n",
      "=================================================================\n",
      "simple_rnn_3 (SimpleRNN)     multiple                  368       \n",
      "_________________________________________________________________\n",
      "simple_rnn_4 (SimpleRNN)     multiple                  528       \n",
      "_________________________________________________________________\n",
      "dense_2 (Dense)              multiple                  17        \n",
      "=================================================================\n",
      "Total params: 913\n",
      "Trainable params: 913\n",
      "Non-trainable params: 0\n",
      "_________________________________________________________________\n"
     ]
    }
   ],
   "source": [
    "reg_stacked_rnn.summary()"
   ]
  },
  {
   "cell_type": "code",
   "execution_count": 82,
   "id": "vital-extra",
   "metadata": {},
   "outputs": [
    {
     "data": {
      "image/png": "[encoded data removed]",
      "text/plain": [
       "<Figure size 432x288 with 1 Axes>"
      ]
     },
     "metadata": {
      "needs_background": "light"
     },
     "output_type": "display_data"
    }
   ],
   "source": [
    "plot_training_history(history_reg_stacked_rnn)"
   ]
  },
  {
   "cell_type": "code",
   "execution_count": 83,
   "id": "advanced-particle",
   "metadata": {},
   "outputs": [
    {
     "name": "stdout",
     "output_type": "stream",
     "text": [
      "6/6 [==============================] - 0s 2ms/step - loss: 0.3213 - mean_absolute_percentage_error: 27.8810\n"
     ]
    }
   ],
   "source": [
    "reg_stacked_rnn_results = reg_stacked_rnn.evaluate(X_test, y_test)"
   ]
  },
  {
   "cell_type": "code",
   "execution_count": 84,
   "id": "proper-there",
   "metadata": {},
   "outputs": [
    {
     "name": "stdout",
     "output_type": "stream",
     "text": [
      "Regularized stacked RNN test error (%):  27.881\n"
     ]
    }
   ],
   "source": [
    "print('Regularized stacked RNN test error (%): ', round(reg_stacked_rnn_results[1], 3))"
   ]
  },
  {
   "cell_type": "markdown",
   "id": "elder-transition",
   "metadata": {},
   "source": [
    "****LSTM****"
   ]
  },
  {
   "cell_type": "code",
   "execution_count": 85,
   "id": "hungarian-scene",
   "metadata": {},
   "outputs": [],
   "source": [
    "lstm = keras.Sequential()\n",
    "lstm.add(keras.layers.LSTM(16))\n",
    "lstm.add(keras.layers.Dense(1, activation='linear'))"
   ]
  },
  {
   "cell_type": "code",
   "execution_count": 86,
   "id": "wound-intention",
   "metadata": {},
   "outputs": [],
   "source": [
    "lstm.compile(optimizer='rmsprop', loss=keras.losses.MeanSquaredError(), metrics=[keras.metrics.MeanAbsolutePercentageError()])"
   ]
  },
  {
   "cell_type": "code",
   "execution_count": 87,
   "id": "living-effect",
   "metadata": {},
   "outputs": [
    {
     "name": "stdout",
     "output_type": "stream",
     "text": [
      "Epoch 1/20\n",
      "47/47 [==============================] - 0s 8ms/step - loss: 0.1362 - mean_absolute_percentage_error: 76.5071 - val_loss: 0.3749 - val_mean_absolute_percentage_error: 92.8754\n",
      "Epoch 2/20\n",
      "47/47 [==============================] - 0s 3ms/step - loss: 0.0099 - mean_absolute_percentage_error: 60.5097 - val_loss: 0.1455 - val_mean_absolute_percentage_error: 61.2679\n",
      "Epoch 3/20\n",
      "47/47 [==============================] - 0s 3ms/step - loss: 0.0057 - mean_absolute_percentage_error: 55.1773 - val_loss: 0.1021 - val_mean_absolute_percentage_error: 49.7415\n",
      "Epoch 4/20\n",
      "47/47 [==============================] - 0s 3ms/step - loss: 0.0043 - mean_absolute_percentage_error: 48.9972 - val_loss: 0.0769 - val_mean_absolute_percentage_error: 52.6496\n",
      "Epoch 5/20\n",
      "47/47 [==============================] - 0s 3ms/step - loss: 0.0036 - mean_absolute_percentage_error: 48.5407 - val_loss: 0.0594 - val_mean_absolute_percentage_error: 51.1753\n",
      "Epoch 6/20\n",
      "47/47 [==============================] - 0s 3ms/step - loss: 0.0033 - mean_absolute_percentage_error: 45.1362 - val_loss: 0.0537 - val_mean_absolute_percentage_error: 52.0682\n",
      "Epoch 7/20\n",
      "47/47 [==============================] - 0s 3ms/step - loss: 0.0032 - mean_absolute_percentage_error: 42.9429 - val_loss: 0.0578 - val_mean_absolute_percentage_error: 51.5904\n",
      "Epoch 8/20\n",
      "47/47 [==============================] - 0s 3ms/step - loss: 0.0030 - mean_absolute_percentage_error: 43.0489 - val_loss: 0.0416 - val_mean_absolute_percentage_error: 49.4673\n",
      "Epoch 9/20\n",
      "47/47 [==============================] - 0s 3ms/step - loss: 0.0029 - mean_absolute_percentage_error: 44.1842 - val_loss: 0.0461 - val_mean_absolute_percentage_error: 50.0526\n",
      "Epoch 10/20\n",
      "47/47 [==============================] - 0s 3ms/step - loss: 0.0028 - mean_absolute_percentage_error: 42.4152 - val_loss: 0.0496 - val_mean_absolute_percentage_error: 47.9979\n",
      "Epoch 11/20\n",
      "47/47 [==============================] - 0s 3ms/step - loss: 0.0028 - mean_absolute_percentage_error: 42.6444 - val_loss: 0.0363 - val_mean_absolute_percentage_error: 44.6507\n",
      "Epoch 12/20\n",
      "47/47 [==============================] - 0s 3ms/step - loss: 0.0027 - mean_absolute_percentage_error: 42.4417 - val_loss: 0.0554 - val_mean_absolute_percentage_error: 51.2304\n",
      "Epoch 13/20\n",
      "47/47 [==============================] - 0s 3ms/step - loss: 0.0027 - mean_absolute_percentage_error: 40.7787 - val_loss: 0.0405 - val_mean_absolute_percentage_error: 48.6696\n",
      "Epoch 14/20\n",
      "47/47 [==============================] - 0s 3ms/step - loss: 0.0027 - mean_absolute_percentage_error: 41.3296 - val_loss: 0.0370 - val_mean_absolute_percentage_error: 48.8680\n",
      "Epoch 15/20\n",
      "47/47 [==============================] - 0s 3ms/step - loss: 0.0027 - mean_absolute_percentage_error: 41.0241 - val_loss: 0.0379 - val_mean_absolute_percentage_error: 47.5898\n",
      "Epoch 16/20\n",
      "47/47 [==============================] - 0s 3ms/step - loss: 0.0027 - mean_absolute_percentage_error: 41.6483 - val_loss: 0.0419 - val_mean_absolute_percentage_error: 50.0761\n",
      "Epoch 17/20\n",
      "47/47 [==============================] - 0s 3ms/step - loss: 0.0025 - mean_absolute_percentage_error: 40.4154 - val_loss: 0.0328 - val_mean_absolute_percentage_error: 43.6280\n",
      "Epoch 18/20\n",
      "47/47 [==============================] - 0s 3ms/step - loss: 0.0026 - mean_absolute_percentage_error: 40.6823 - val_loss: 0.0339 - val_mean_absolute_percentage_error: 45.4629\n",
      "Epoch 19/20\n",
      "47/47 [==============================] - 0s 3ms/step - loss: 0.0026 - mean_absolute_percentage_error: 41.5447 - val_loss: 0.0309 - val_mean_absolute_percentage_error: 40.9068\n",
      "Epoch 20/20\n",
      "47/47 [==============================] - 0s 3ms/step - loss: 0.0025 - mean_absolute_percentage_error: 40.0834 - val_loss: 0.0322 - val_mean_absolute_percentage_error: 44.8045\n"
     ]
    }
   ],
   "source": [
    "history_lstm = lstm.fit(X_train, y_train, epochs=20, validation_split=0.1)"
   ]
  },
  {
   "cell_type": "code",
   "execution_count": 88,
   "id": "incorporate-affiliation",
   "metadata": {},
   "outputs": [
    {
     "name": "stdout",
     "output_type": "stream",
     "text": [
      "Model: \"sequential_3\"\n",
      "_________________________________________________________________\n",
      "Layer (type)                 Output Shape              Param #   \n",
      "=================================================================\n",
      "lstm (LSTM)                  multiple                  1472      \n",
      "_________________________________________________________________\n",
      "dense_3 (Dense)              multiple                  17        \n",
      "=================================================================\n",
      "Total params: 1,489\n",
      "Trainable params: 1,489\n",
      "Non-trainable params: 0\n",
      "_________________________________________________________________\n"
     ]
    }
   ],
   "source": [
    "lstm.summary()"
   ]
  },
  {
   "cell_type": "code",
   "execution_count": 89,
   "id": "working-mediterranean",
   "metadata": {},
   "outputs": [
    {
     "data": {
      "image/png": "[encoded data removed]",
      "text/plain": [
       "<Figure size 432x288 with 1 Axes>"
      ]
     },
     "metadata": {
      "needs_background": "light"
     },
     "output_type": "display_data"
    }
   ],
   "source": [
    "plot_training_history(history_lstm)"
   ]
  },
  {
   "cell_type": "code",
   "execution_count": 90,
   "id": "phantom-toner",
   "metadata": {},
   "outputs": [
    {
     "name": "stdout",
     "output_type": "stream",
     "text": [
      "6/6 [==============================] - 0s 2ms/step - loss: 0.0547 - mean_absolute_percentage_error: 11.0914\n"
     ]
    }
   ],
   "source": [
    "lstm_results = lstm.evaluate(X_test, y_test)"
   ]
  },
  {
   "cell_type": "code",
   "execution_count": 91,
   "id": "lyric-bachelor",
   "metadata": {},
   "outputs": [
    {
     "name": "stdout",
     "output_type": "stream",
     "text": [
      "LSTM test error (%):  11.091\n"
     ]
    }
   ],
   "source": [
    "print('LSTM test error (%): ', round(lstm_results[1], 3))"
   ]
  },
  {
   "cell_type": "markdown",
   "id": "north-edition",
   "metadata": {},
   "source": [
    "****GRU****"
   ]
  },
  {
   "cell_type": "code",
   "execution_count": 92,
   "id": "southern-jaguar",
   "metadata": {},
   "outputs": [],
   "source": [
    "gru = keras.Sequential()\n",
    "gru.add(keras.layers.GRU(16))\n",
    "gru.add(keras.layers.Dense(1, activation='linear'))"
   ]
  },
  {
   "cell_type": "code",
   "execution_count": 93,
   "id": "injured-pontiac",
   "metadata": {},
   "outputs": [],
   "source": [
    "gru.compile(optimizer='rmsprop', loss=keras.losses.MeanSquaredError(), metrics=[keras.metrics.MeanAbsolutePercentageError()])"
   ]
  },
  {
   "cell_type": "code",
   "execution_count": 94,
   "id": "bound-craft",
   "metadata": {},
   "outputs": [
    {
     "name": "stdout",
     "output_type": "stream",
     "text": [
      "Epoch 1/20\n",
      "47/47 [==============================] - 0s 9ms/step - loss: 0.0390 - mean_absolute_percentage_error: 88.4693 - val_loss: 0.2478 - val_mean_absolute_percentage_error: 106.4194\n",
      "Epoch 2/20\n",
      "47/47 [==============================] - 0s 6ms/step - loss: 0.0070 - mean_absolute_percentage_error: 63.6263 - val_loss: 0.1205 - val_mean_absolute_percentage_error: 77.4098\n",
      "Epoch 3/20\n",
      "47/47 [==============================] - 0s 6ms/step - loss: 0.0046 - mean_absolute_percentage_error: 53.5753 - val_loss: 0.0719 - val_mean_absolute_percentage_error: 53.4132\n",
      "Epoch 4/20\n",
      "47/47 [==============================] - 0s 6ms/step - loss: 0.0038 - mean_absolute_percentage_error: 50.6488 - val_loss: 0.0609 - val_mean_absolute_percentage_error: 60.0831\n",
      "Epoch 5/20\n",
      "47/47 [==============================] - 0s 6ms/step - loss: 0.0031 - mean_absolute_percentage_error: 50.9301 - val_loss: 0.0448 - val_mean_absolute_percentage_error: 54.7132\n",
      "Epoch 6/20\n",
      "47/47 [==============================] - 0s 6ms/step - loss: 0.0031 - mean_absolute_percentage_error: 48.1767 - val_loss: 0.0424 - val_mean_absolute_percentage_error: 53.3493\n",
      "Epoch 7/20\n",
      "47/47 [==============================] - 0s 6ms/step - loss: 0.0029 - mean_absolute_percentage_error: 43.6095 - val_loss: 0.0353 - val_mean_absolute_percentage_error: 48.5338\n",
      "Epoch 8/20\n",
      "47/47 [==============================] - 0s 6ms/step - loss: 0.0028 - mean_absolute_percentage_error: 44.3066 - val_loss: 0.0345 - val_mean_absolute_percentage_error: 49.7956\n",
      "Epoch 9/20\n",
      "47/47 [==============================] - 0s 6ms/step - loss: 0.0026 - mean_absolute_percentage_error: 45.5434 - val_loss: 0.0335 - val_mean_absolute_percentage_error: 46.1969\n",
      "Epoch 10/20\n",
      "47/47 [==============================] - 0s 6ms/step - loss: 0.0026 - mean_absolute_percentage_error: 43.5406 - val_loss: 0.0344 - val_mean_absolute_percentage_error: 43.6556\n",
      "Epoch 11/20\n",
      "47/47 [==============================] - 0s 6ms/step - loss: 0.0026 - mean_absolute_percentage_error: 42.7546 - val_loss: 0.0277 - val_mean_absolute_percentage_error: 40.0207\n",
      "Epoch 12/20\n",
      "47/47 [==============================] - 0s 6ms/step - loss: 0.0026 - mean_absolute_percentage_error: 43.4436 - val_loss: 0.0436 - val_mean_absolute_percentage_error: 46.5529\n",
      "Epoch 13/20\n",
      "47/47 [==============================] - 0s 6ms/step - loss: 0.0025 - mean_absolute_percentage_error: 39.9336 - val_loss: 0.0344 - val_mean_absolute_percentage_error: 44.8058\n",
      "Epoch 14/20\n",
      "47/47 [==============================] - 0s 6ms/step - loss: 0.0025 - mean_absolute_percentage_error: 39.8207 - val_loss: 0.0300 - val_mean_absolute_percentage_error: 45.2508\n",
      "Epoch 15/20\n",
      "47/47 [==============================] - 0s 6ms/step - loss: 0.0025 - mean_absolute_percentage_error: 40.1616 - val_loss: 0.0299 - val_mean_absolute_percentage_error: 43.0779\n",
      "Epoch 16/20\n",
      "47/47 [==============================] - 0s 6ms/step - loss: 0.0026 - mean_absolute_percentage_error: 41.2176 - val_loss: 0.0337 - val_mean_absolute_percentage_error: 46.7786\n",
      "Epoch 17/20\n",
      "47/47 [==============================] - 0s 5ms/step - loss: 0.0024 - mean_absolute_percentage_error: 38.5982 - val_loss: 0.0266 - val_mean_absolute_percentage_error: 39.1238\n",
      "Epoch 18/20\n",
      "47/47 [==============================] - 0s 5ms/step - loss: 0.0025 - mean_absolute_percentage_error: 39.2859 - val_loss: 0.0288 - val_mean_absolute_percentage_error: 41.9703\n",
      "Epoch 19/20\n",
      "47/47 [==============================] - 0s 5ms/step - loss: 0.0025 - mean_absolute_percentage_error: 40.6991 - val_loss: 0.0312 - val_mean_absolute_percentage_error: 36.6245\n",
      "Epoch 20/20\n",
      "47/47 [==============================] - 0s 5ms/step - loss: 0.0024 - mean_absolute_percentage_error: 37.7898 - val_loss: 0.0282 - val_mean_absolute_percentage_error: 42.1068\n"
     ]
    }
   ],
   "source": [
    "history_gru = gru.fit(X_train, y_train, epochs=20, validation_split=0.1)"
   ]
  },
  {
   "cell_type": "code",
   "execution_count": 95,
   "id": "sudden-rogers",
   "metadata": {},
   "outputs": [
    {
     "name": "stdout",
     "output_type": "stream",
     "text": [
      "Model: \"sequential_4\"\n",
      "_________________________________________________________________\n",
      "Layer (type)                 Output Shape              Param #   \n",
      "=================================================================\n",
      "gru (GRU)                    multiple                  1152      \n",
      "_________________________________________________________________\n",
      "dense_4 (Dense)              multiple                  17        \n",
      "=================================================================\n",
      "Total params: 1,169\n",
      "Trainable params: 1,169\n",
      "Non-trainable params: 0\n",
      "_________________________________________________________________\n"
     ]
    }
   ],
   "source": [
    "gru.summary()"
   ]
  },
  {
   "cell_type": "code",
   "execution_count": 96,
   "id": "relative-composer",
   "metadata": {},
   "outputs": [
    {
     "data": {
      "image/png": "[encoded data removed]",
      "text/plain": [
       "<Figure size 432x288 with 1 Axes>"
      ]
     },
     "metadata": {
      "needs_background": "light"
     },
     "output_type": "display_data"
    }
   ],
   "source": [
    "plot_training_history(history_gru)"
   ]
  },
  {
   "cell_type": "code",
   "execution_count": 97,
   "id": "headed-future",
   "metadata": {},
   "outputs": [
    {
     "name": "stdout",
     "output_type": "stream",
     "text": [
      "6/6 [==============================] - 0s 2ms/step - loss: 0.0229 - mean_absolute_percentage_error: 7.6274\n"
     ]
    }
   ],
   "source": [
    "gru_results = gru.evaluate(X_test, y_test)"
   ]
  },
  {
   "cell_type": "code",
   "execution_count": 98,
   "id": "stainless-county",
   "metadata": {},
   "outputs": [
    {
     "name": "stdout",
     "output_type": "stream",
     "text": [
      "GRU test error (%):  7.627\n"
     ]
    }
   ],
   "source": [
    "print('GRU test error (%): ', round(gru_results[1], 3))"
   ]
  },
  {
   "cell_type": "markdown",
   "id": "formed-reducing",
   "metadata": {},
   "source": [
    "****Bidirectional RNN, LSTM and GRU****"
   ]
  },
  {
   "cell_type": "code",
   "execution_count": 99,
   "id": "continued-ivory",
   "metadata": {},
   "outputs": [],
   "source": [
    "component_type = 'gru'"
   ]
  },
  {
   "cell_type": "code",
   "execution_count": 100,
   "id": "sporting-verse",
   "metadata": {},
   "outputs": [],
   "source": [
    "if component_type == 'rnn':\n",
    "    bidirectional_model = keras.Sequential()\n",
    "    bidirectional_model.add(keras.layers.Bidirectional(keras.layers.SimpleRNN(16)))\n",
    "    bidirectional_model.add(keras.layers.Dense(1, activation='linear'))\n",
    "elif component_type == 'lstm':\n",
    "    bidirectional_model = keras.Sequential()\n",
    "    bidirectional_model.add(keras.layers.Bidirectional(keras.layers.LSTM(16)))\n",
    "    bidirectional_model.add(keras.layers.Dense(1, activation='linear'))\n",
    "elif component_type == 'gru':\n",
    "    bidirectional_model = keras.Sequential()\n",
    "    bidirectional_model.add(keras.layers.Bidirectional(keras.layers.GRU(16)))\n",
    "    bidirectional_model.add(keras.layers.Dense(1, activation='linear'))"
   ]
  },
  {
   "cell_type": "code",
   "execution_count": 101,
   "id": "express-radio",
   "metadata": {},
   "outputs": [],
   "source": [
    "bidirectional_model.compile(optimizer='rmsprop', loss=keras.losses.MeanSquaredError(), metrics=[keras.metrics.MeanAbsolutePercentageError()])"
   ]
  },
  {
   "cell_type": "code",
   "execution_count": 102,
   "id": "animated-percentage",
   "metadata": {},
   "outputs": [
    {
     "name": "stdout",
     "output_type": "stream",
     "text": [
      "Epoch 1/20\n",
      "47/47 [==============================] - 1s 13ms/step - loss: 0.0277 - mean_absolute_percentage_error: 92.1183 - val_loss: 0.1450 - val_mean_absolute_percentage_error: 55.5011\n",
      "Epoch 2/20\n",
      "47/47 [==============================] - 0s 9ms/step - loss: 0.0066 - mean_absolute_percentage_error: 63.0229 - val_loss: 0.0759 - val_mean_absolute_percentage_error: 57.7330\n",
      "Epoch 3/20\n",
      "47/47 [==============================] - 0s 9ms/step - loss: 0.0046 - mean_absolute_percentage_error: 50.7234 - val_loss: 0.0575 - val_mean_absolute_percentage_error: 42.5850\n",
      "Epoch 4/20\n",
      "47/47 [==============================] - 0s 9ms/step - loss: 0.0039 - mean_absolute_percentage_error: 49.1845 - val_loss: 0.0461 - val_mean_absolute_percentage_error: 48.1332\n",
      "Epoch 5/20\n",
      "47/47 [==============================] - 0s 9ms/step - loss: 0.0034 - mean_absolute_percentage_error: 50.2305 - val_loss: 0.0336 - val_mean_absolute_percentage_error: 46.2561\n",
      "Epoch 6/20\n",
      "47/47 [==============================] - 0s 9ms/step - loss: 0.0033 - mean_absolute_percentage_error: 47.9522 - val_loss: 0.0314 - val_mean_absolute_percentage_error: 44.8729\n",
      "Epoch 7/20\n",
      "47/47 [==============================] - 0s 9ms/step - loss: 0.0033 - mean_absolute_percentage_error: 43.8910 - val_loss: 0.0341 - val_mean_absolute_percentage_error: 43.4422\n",
      "Epoch 8/20\n",
      "47/47 [==============================] - 0s 9ms/step - loss: 0.0032 - mean_absolute_percentage_error: 45.1129 - val_loss: 0.0310 - val_mean_absolute_percentage_error: 47.5545\n",
      "Epoch 9/20\n",
      "47/47 [==============================] - 0s 9ms/step - loss: 0.0029 - mean_absolute_percentage_error: 46.1596 - val_loss: 0.0319 - val_mean_absolute_percentage_error: 46.5833\n",
      "Epoch 10/20\n",
      "47/47 [==============================] - 0s 9ms/step - loss: 0.0030 - mean_absolute_percentage_error: 43.8247 - val_loss: 0.0319 - val_mean_absolute_percentage_error: 43.2683\n",
      "Epoch 11/20\n",
      "47/47 [==============================] - 0s 9ms/step - loss: 0.0029 - mean_absolute_percentage_error: 43.0867 - val_loss: 0.0296 - val_mean_absolute_percentage_error: 39.9184\n",
      "Epoch 12/20\n",
      "47/47 [==============================] - 0s 9ms/step - loss: 0.0028 - mean_absolute_percentage_error: 43.5549 - val_loss: 0.0523 - val_mean_absolute_percentage_error: 48.0129\n",
      "Epoch 13/20\n",
      "47/47 [==============================] - 0s 9ms/step - loss: 0.0029 - mean_absolute_percentage_error: 39.9998 - val_loss: 0.0357 - val_mean_absolute_percentage_error: 47.0859\n",
      "Epoch 14/20\n",
      "47/47 [==============================] - 0s 9ms/step - loss: 0.0027 - mean_absolute_percentage_error: 39.6562 - val_loss: 0.0304 - val_mean_absolute_percentage_error: 46.6869\n",
      "Epoch 15/20\n",
      "47/47 [==============================] - 0s 9ms/step - loss: 0.0028 - mean_absolute_percentage_error: 41.0924 - val_loss: 0.0310 - val_mean_absolute_percentage_error: 44.4488\n",
      "Epoch 16/20\n",
      "47/47 [==============================] - 0s 9ms/step - loss: 0.0029 - mean_absolute_percentage_error: 42.4306 - val_loss: 0.0330 - val_mean_absolute_percentage_error: 49.0922\n",
      "Epoch 17/20\n",
      "47/47 [==============================] - 0s 10ms/step - loss: 0.0026 - mean_absolute_percentage_error: 39.5321 - val_loss: 0.0287 - val_mean_absolute_percentage_error: 40.1652\n",
      "Epoch 18/20\n",
      "47/47 [==============================] - 0s 10ms/step - loss: 0.0028 - mean_absolute_percentage_error: 40.3499 - val_loss: 0.0291 - val_mean_absolute_percentage_error: 43.3765\n",
      "Epoch 19/20\n",
      "47/47 [==============================] - 0s 9ms/step - loss: 0.0028 - mean_absolute_percentage_error: 41.2715 - val_loss: 0.0326 - val_mean_absolute_percentage_error: 38.7239\n",
      "Epoch 20/20\n",
      "47/47 [==============================] - 0s 9ms/step - loss: 0.0026 - mean_absolute_percentage_error: 38.5085 - val_loss: 0.0285 - val_mean_absolute_percentage_error: 41.0073\n"
     ]
    }
   ],
   "source": [
    "history_bidirectional_model = bidirectional_model.fit(X_train, y_train, epochs=20, validation_split=0.1)"
   ]
  },
  {
   "cell_type": "code",
   "execution_count": 103,
   "id": "solved-settle",
   "metadata": {},
   "outputs": [
    {
     "data": {
      "image/png": "[encoded data removed]",
      "text/plain": [
       "<Figure size 432x288 with 1 Axes>"
      ]
     },
     "metadata": {
      "needs_background": "light"
     },
     "output_type": "display_data"
    }
   ],
   "source": [
    "plot_training_history(history_bidirectional_model)"
   ]
  },
  {
   "cell_type": "code",
   "execution_count": 104,
   "id": "bacterial-appreciation",
   "metadata": {},
   "outputs": [
    {
     "name": "stdout",
     "output_type": "stream",
     "text": [
      "6/6 [==============================] - 0s 2ms/step - loss: 0.0225 - mean_absolute_percentage_error: 6.9425\n"
     ]
    }
   ],
   "source": [
    "bidirectional_model_results = bidirectional_model.evaluate(X_test, y_test)"
   ]
  },
  {
   "cell_type": "code",
   "execution_count": 105,
   "id": "measured-guest",
   "metadata": {},
   "outputs": [
    {
     "name": "stdout",
     "output_type": "stream",
     "text": [
      "Bidirectional model test error (%):  6.943\n"
     ]
    }
   ],
   "source": [
    "print('Bidirectional model test error (%): ', round(bidirectional_model_results[1], 3))"
   ]
  },
  {
   "cell_type": "markdown",
   "id": "correct-hawaiian",
   "metadata": {},
   "source": [
    "****1D convolutional****"
   ]
  },
  {
   "cell_type": "code",
   "execution_count": 106,
   "id": "horizontal-island",
   "metadata": {},
   "outputs": [],
   "source": [
    "conv1D_seq = keras.Sequential()\n",
    "conv1D_seq.add(keras.layers.Conv1D(16, 2, activation='relu'))\n",
    "conv1D_seq.add(keras.layers.MaxPooling1D(2))\n",
    "conv1D_seq.add(keras.layers.Dense(1, activation='linear'))"
   ]
  },
  {
   "cell_type": "code",
   "execution_count": 107,
   "id": "patient-folks",
   "metadata": {},
   "outputs": [],
   "source": [
    "conv1D_seq.compile(optimizer='rmsprop', loss=keras.losses.MeanSquaredError(), metrics=[keras.metrics.MeanAbsolutePercentageError()])"
   ]
  },
  {
   "cell_type": "code",
   "execution_count": 108,
   "id": "indirect-southwest",
   "metadata": {},
   "outputs": [
    {
     "name": "stdout",
     "output_type": "stream",
     "text": [
      "Epoch 1/20\n",
      "47/47 [==============================] - 0s 5ms/step - loss: 1.9255 - mean_absolute_percentage_error: 242.1496 - val_loss: 0.8330 - val_mean_absolute_percentage_error: 187.0864\n",
      "Epoch 2/20\n",
      "47/47 [==============================] - 0s 2ms/step - loss: 0.3063 - mean_absolute_percentage_error: 109.6906 - val_loss: 0.3595 - val_mean_absolute_percentage_error: 102.0377\n",
      "Epoch 3/20\n",
      "47/47 [==============================] - 0s 2ms/step - loss: 0.0324 - mean_absolute_percentage_error: 97.4495 - val_loss: 0.1820 - val_mean_absolute_percentage_error: 63.9677\n",
      "Epoch 4/20\n",
      "47/47 [==============================] - 0s 2ms/step - loss: 0.0143 - mean_absolute_percentage_error: 85.4955 - val_loss: 0.0976 - val_mean_absolute_percentage_error: 52.7886\n",
      "Epoch 5/20\n",
      "47/47 [==============================] - 0s 2ms/step - loss: 0.0088 - mean_absolute_percentage_error: 75.6821 - val_loss: 0.0640 - val_mean_absolute_percentage_error: 49.4485\n",
      "Epoch 6/20\n",
      "47/47 [==============================] - 0s 2ms/step - loss: 0.0063 - mean_absolute_percentage_error: 66.8091 - val_loss: 0.0447 - val_mean_absolute_percentage_error: 49.7739\n",
      "Epoch 7/20\n",
      "47/47 [==============================] - 0s 2ms/step - loss: 0.0050 - mean_absolute_percentage_error: 61.5565 - val_loss: 0.0415 - val_mean_absolute_percentage_error: 49.3523\n",
      "Epoch 8/20\n",
      "47/47 [==============================] - 0s 2ms/step - loss: 0.0042 - mean_absolute_percentage_error: 57.6270 - val_loss: 0.0354 - val_mean_absolute_percentage_error: 47.2547\n",
      "Epoch 9/20\n",
      "47/47 [==============================] - 0s 2ms/step - loss: 0.0039 - mean_absolute_percentage_error: 54.2192 - val_loss: 0.0343 - val_mean_absolute_percentage_error: 47.2768\n",
      "Epoch 10/20\n",
      "47/47 [==============================] - 0s 2ms/step - loss: 0.0035 - mean_absolute_percentage_error: 50.7648 - val_loss: 0.0354 - val_mean_absolute_percentage_error: 44.4006\n",
      "Epoch 11/20\n",
      "47/47 [==============================] - 0s 2ms/step - loss: 0.0034 - mean_absolute_percentage_error: 49.0848 - val_loss: 0.0331 - val_mean_absolute_percentage_error: 44.7821\n",
      "Epoch 12/20\n",
      "47/47 [==============================] - 0s 2ms/step - loss: 0.0033 - mean_absolute_percentage_error: 47.1937 - val_loss: 0.0417 - val_mean_absolute_percentage_error: 50.3870\n",
      "Epoch 13/20\n",
      "47/47 [==============================] - 0s 2ms/step - loss: 0.0032 - mean_absolute_percentage_error: 44.8076 - val_loss: 0.0329 - val_mean_absolute_percentage_error: 47.4276\n",
      "Epoch 14/20\n",
      "47/47 [==============================] - 0s 2ms/step - loss: 0.0031 - mean_absolute_percentage_error: 44.5476 - val_loss: 0.0342 - val_mean_absolute_percentage_error: 49.9481\n",
      "Epoch 15/20\n",
      "47/47 [==============================] - 0s 2ms/step - loss: 0.0031 - mean_absolute_percentage_error: 44.4267 - val_loss: 0.0352 - val_mean_absolute_percentage_error: 49.8072\n",
      "Epoch 16/20\n",
      "47/47 [==============================] - 0s 2ms/step - loss: 0.0031 - mean_absolute_percentage_error: 43.6836 - val_loss: 0.0375 - val_mean_absolute_percentage_error: 51.5006\n",
      "Epoch 17/20\n",
      "47/47 [==============================] - 0s 2ms/step - loss: 0.0030 - mean_absolute_percentage_error: 42.8470 - val_loss: 0.0330 - val_mean_absolute_percentage_error: 47.0280\n",
      "Epoch 18/20\n",
      "47/47 [==============================] - 0s 2ms/step - loss: 0.0030 - mean_absolute_percentage_error: 43.9168 - val_loss: 0.0337 - val_mean_absolute_percentage_error: 48.0504\n",
      "Epoch 19/20\n",
      "47/47 [==============================] - 0s 2ms/step - loss: 0.0030 - mean_absolute_percentage_error: 43.8338 - val_loss: 0.0340 - val_mean_absolute_percentage_error: 43.5957\n",
      "Epoch 20/20\n",
      "47/47 [==============================] - 0s 2ms/step - loss: 0.0029 - mean_absolute_percentage_error: 42.1037 - val_loss: 0.0332 - val_mean_absolute_percentage_error: 46.8226\n"
     ]
    }
   ],
   "source": [
    "history_conv1D_seq = conv1D_seq.fit(X_train, y_train, epochs=20, validation_split=0.1)"
   ]
  },
  {
   "cell_type": "code",
   "execution_count": 109,
   "id": "expired-merit",
   "metadata": {},
   "outputs": [
    {
     "data": {
      "image/png": "[encoded data removed]",
      "text/plain": [
       "<Figure size 432x288 with 1 Axes>"
      ]
     },
     "metadata": {
      "needs_background": "light"
     },
     "output_type": "display_data"
    }
   ],
   "source": [
    "plot_training_history(history_conv1D_seq)"
   ]
  },
  {
   "cell_type": "code",
   "execution_count": 110,
   "id": "early-crazy",
   "metadata": {},
   "outputs": [
    {
     "name": "stdout",
     "output_type": "stream",
     "text": [
      "6/6 [==============================] - 0s 3ms/step - loss: 0.0139 - mean_absolute_percentage_error: 6.0602\n"
     ]
    }
   ],
   "source": [
    "conv1D_seq_results = conv1D_seq.evaluate(X_test, y_test)"
   ]
  },
  {
   "cell_type": "code",
   "execution_count": 111,
   "id": "completed-shaft",
   "metadata": {},
   "outputs": [
    {
     "name": "stdout",
     "output_type": "stream",
     "text": [
      "1D convolutional model test error (%):  6.06\n"
     ]
    }
   ],
   "source": [
    "print('1D convolutional model test error (%): ', round(conv1D_seq_results[1], 3))"
   ]
  },
  {
   "cell_type": "markdown",
   "id": "durable-apparel",
   "metadata": {},
   "source": [
    "****Plot actual and predictions for best performing model****"
   ]
  },
  {
   "cell_type": "code",
   "execution_count": 112,
   "id": "romantic-simon",
   "metadata": {},
   "outputs": [],
   "source": [
    "y_pred = bidirectional_model.predict(X_test)"
   ]
  },
  {
   "cell_type": "code",
   "execution_count": 113,
   "id": "tribal-analysis",
   "metadata": {},
   "outputs": [
    {
     "data": {
      "image/png": "[encoded data removed]",
      "text/plain": [
       "<Figure size 432x288 with 1 Axes>"
      ]
     },
     "metadata": {
      "needs_background": "light"
     },
     "output_type": "display_data"
    }
   ],
   "source": [
    "plt.figure()\n",
    "plt.plot(y_test, label='Real')\n",
    "plt.plot(y_pred, label='Best RNN predictions')\n",
    "plt.legend()\n",
    "plt.show()"
   ]
  },
  {
   "cell_type": "code",
   "execution_count": 114,
   "id": "prospective-punishment",
   "metadata": {},
   "outputs": [],
   "source": [
    "mape = keras.metrics.MeanAbsolutePercentageError()"
   ]
  },
  {
   "cell_type": "code",
   "execution_count": 115,
   "id": "continued-colleague",
   "metadata": {},
   "outputs": [
    {
     "data": {
      "text/plain": [
       "<tf.Variable 'UnreadVariable' shape=() dtype=float32, numpy=1.0>"
      ]
     },
     "execution_count": 115,
     "metadata": {},
     "output_type": "execute_result"
    }
   ],
   "source": [
    "mape.update_state(y_true = y_test, y_pred = y_pred)"
   ]
  },
  {
   "cell_type": "code",
   "execution_count": 116,
   "id": "prescription-recognition",
   "metadata": {},
   "outputs": [
    {
     "data": {
      "text/plain": [
       "6.942549"
      ]
     },
     "execution_count": 116,
     "metadata": {},
     "output_type": "execute_result"
    }
   ],
   "source": [
    "mape.result().numpy()"
   ]
  },
  {
   "cell_type": "markdown",
   "id": "reverse-bradley",
   "metadata": {},
   "source": [
    "****Baseline models****"
   ]
  },
  {
   "cell_type": "markdown",
   "id": "mounted-bones",
   "metadata": {},
   "source": [
    "****Persistence model****"
   ]
  },
  {
   "cell_type": "code",
   "execution_count": 117,
   "id": "asian-cause",
   "metadata": {},
   "outputs": [],
   "source": [
    "def baseline_predict(X, pred_var_index):\n",
    "    n = X.shape[0]\n",
    "    p = X.shape[1]\n",
    "    preds = []\n",
    "    for i in range(n):\n",
    "        pred = X[i, p - 1, pred_var_index]\n",
    "        preds.append(pred)\n",
    "    return np.array(preds)"
   ]
  },
  {
   "cell_type": "code",
   "execution_count": 118,
   "id": "respected-circle",
   "metadata": {},
   "outputs": [],
   "source": [
    "baseline_preds = baseline_predict(X_test, pred_var_index)"
   ]
  },
  {
   "cell_type": "code",
   "execution_count": 119,
   "id": "protected-submission",
   "metadata": {},
   "outputs": [],
   "source": [
    "mape = keras.metrics.MeanAbsolutePercentageError()"
   ]
  },
  {
   "cell_type": "code",
   "execution_count": 120,
   "id": "serial-emerald",
   "metadata": {},
   "outputs": [
    {
     "data": {
      "text/plain": [
       "<tf.Variable 'UnreadVariable' shape=() dtype=float32, numpy=1.0>"
      ]
     },
     "execution_count": 120,
     "metadata": {},
     "output_type": "execute_result"
    }
   ],
   "source": [
    "mape.update_state(y_true = y_test, y_pred = baseline_preds)"
   ]
  },
  {
   "cell_type": "code",
   "execution_count": 121,
   "id": "governmental-variation",
   "metadata": {},
   "outputs": [
    {
     "data": {
      "text/plain": [
       "3.7592854"
      ]
     },
     "execution_count": 121,
     "metadata": {},
     "output_type": "execute_result"
    }
   ],
   "source": [
    "mape.result().numpy()"
   ]
  },
  {
   "cell_type": "code",
   "execution_count": 122,
   "id": "related-shift",
   "metadata": {},
   "outputs": [
    {
     "data": {
      "image/png": "[encoded data removed]",
      "text/plain": [
       "<Figure size 432x288 with 1 Axes>"
      ]
     },
     "metadata": {
      "needs_background": "light"
     },
     "output_type": "display_data"
    }
   ],
   "source": [
    "plt.figure()\n",
    "plt.plot(y_test, label='Real')\n",
    "plt.plot(baseline_preds, label='Predictions')\n",
    "plt.legend()\n",
    "plt.show()"
   ]
  },
  {
   "cell_type": "markdown",
   "id": "effective-ceramic",
   "metadata": {},
   "source": [
    "****Feedforward DNN****"
   ]
  },
  {
   "cell_type": "code",
   "execution_count": 123,
   "id": "future-draft",
   "metadata": {},
   "outputs": [],
   "source": [
    "dnn = keras.Sequential()\n",
    "dnn.add(keras.layers.Flatten(input_shape=(past, 6)))\n",
    "dnn.add(keras.layers.Dense(16, activation='relu'))\n",
    "dnn.add(keras.layers.Dense(1, activation='linear'))"
   ]
  },
  {
   "cell_type": "code",
   "execution_count": 124,
   "id": "happy-puzzle",
   "metadata": {},
   "outputs": [],
   "source": [
    "dnn.compile(optimizer='rmsprop', loss=keras.losses.MeanSquaredError(), metrics=[keras.metrics.MeanAbsolutePercentageError()])"
   ]
  },
  {
   "cell_type": "code",
   "execution_count": 125,
   "id": "undefined-equipment",
   "metadata": {},
   "outputs": [
    {
     "name": "stdout",
     "output_type": "stream",
     "text": [
      "Epoch 1/20\n",
      "47/47 [==============================] - 0s 6ms/step - loss: 0.3910 - mean_absolute_percentage_error: 90.5625 - val_loss: 0.0604 - val_mean_absolute_percentage_error: 71.8137\n",
      "Epoch 2/20\n",
      "47/47 [==============================] - 0s 2ms/step - loss: 0.0139 - mean_absolute_percentage_error: 68.4631 - val_loss: 0.0568 - val_mean_absolute_percentage_error: 49.5589\n",
      "Epoch 3/20\n",
      "47/47 [==============================] - 0s 2ms/step - loss: 0.0067 - mean_absolute_percentage_error: 61.3759 - val_loss: 0.0542 - val_mean_absolute_percentage_error: 43.6150\n",
      "Epoch 4/20\n",
      "47/47 [==============================] - 0s 2ms/step - loss: 0.0054 - mean_absolute_percentage_error: 55.2318 - val_loss: 0.0436 - val_mean_absolute_percentage_error: 45.9055\n",
      "Epoch 5/20\n",
      "47/47 [==============================] - 0s 2ms/step - loss: 0.0045 - mean_absolute_percentage_error: 52.2075 - val_loss: 0.0417 - val_mean_absolute_percentage_error: 46.7055\n",
      "Epoch 6/20\n",
      "47/47 [==============================] - 0s 2ms/step - loss: 0.0043 - mean_absolute_percentage_error: 46.9777 - val_loss: 0.0448 - val_mean_absolute_percentage_error: 50.2412\n",
      "Epoch 7/20\n",
      "47/47 [==============================] - 0s 2ms/step - loss: 0.0040 - mean_absolute_percentage_error: 44.3867 - val_loss: 0.0431 - val_mean_absolute_percentage_error: 52.3346\n",
      "Epoch 8/20\n",
      "47/47 [==============================] - 0s 2ms/step - loss: 0.0038 - mean_absolute_percentage_error: 44.1674 - val_loss: 0.0385 - val_mean_absolute_percentage_error: 49.1770\n",
      "Epoch 9/20\n",
      "47/47 [==============================] - 0s 2ms/step - loss: 0.0037 - mean_absolute_percentage_error: 43.8700 - val_loss: 0.0368 - val_mean_absolute_percentage_error: 49.9484\n",
      "Epoch 10/20\n",
      "47/47 [==============================] - 0s 2ms/step - loss: 0.0035 - mean_absolute_percentage_error: 42.7312 - val_loss: 0.0437 - val_mean_absolute_percentage_error: 51.3182\n",
      "Epoch 11/20\n",
      "47/47 [==============================] - 0s 2ms/step - loss: 0.0034 - mean_absolute_percentage_error: 42.5812 - val_loss: 0.0353 - val_mean_absolute_percentage_error: 48.8172\n",
      "Epoch 12/20\n",
      "47/47 [==============================] - 0s 2ms/step - loss: 0.0033 - mean_absolute_percentage_error: 41.6094 - val_loss: 0.0571 - val_mean_absolute_percentage_error: 55.3955\n",
      "Epoch 13/20\n",
      "47/47 [==============================] - 0s 2ms/step - loss: 0.0032 - mean_absolute_percentage_error: 40.6147 - val_loss: 0.0342 - val_mean_absolute_percentage_error: 48.7528\n",
      "Epoch 14/20\n",
      "47/47 [==============================] - 0s 2ms/step - loss: 0.0032 - mean_absolute_percentage_error: 43.1117 - val_loss: 0.0349 - val_mean_absolute_percentage_error: 51.0915\n",
      "Epoch 15/20\n",
      "47/47 [==============================] - 0s 2ms/step - loss: 0.0031 - mean_absolute_percentage_error: 41.3688 - val_loss: 0.0335 - val_mean_absolute_percentage_error: 48.1843\n",
      "Epoch 16/20\n",
      "47/47 [==============================] - 0s 2ms/step - loss: 0.0032 - mean_absolute_percentage_error: 40.9040 - val_loss: 0.0357 - val_mean_absolute_percentage_error: 50.4689\n",
      "Epoch 17/20\n",
      "47/47 [==============================] - 0s 2ms/step - loss: 0.0029 - mean_absolute_percentage_error: 39.3002 - val_loss: 0.0347 - val_mean_absolute_percentage_error: 47.5851\n",
      "Epoch 18/20\n",
      "47/47 [==============================] - 0s 2ms/step - loss: 0.0031 - mean_absolute_percentage_error: 40.9760 - val_loss: 0.0328 - val_mean_absolute_percentage_error: 47.7331\n",
      "Epoch 19/20\n",
      "47/47 [==============================] - 0s 2ms/step - loss: 0.0031 - mean_absolute_percentage_error: 40.9024 - val_loss: 0.0330 - val_mean_absolute_percentage_error: 45.0008\n",
      "Epoch 20/20\n",
      "47/47 [==============================] - 0s 2ms/step - loss: 0.0029 - mean_absolute_percentage_error: 41.8486 - val_loss: 0.0355 - val_mean_absolute_percentage_error: 50.4170\n"
     ]
    }
   ],
   "source": [
    "history_dnn = dnn.fit(X_train, y_train, epochs=20, validation_split=0.1)"
   ]
  },
  {
   "cell_type": "code",
   "execution_count": 126,
   "id": "wrong-grace",
   "metadata": {},
   "outputs": [
    {
     "name": "stdout",
     "output_type": "stream",
     "text": [
      "Model: \"sequential_7\"\n",
      "_________________________________________________________________\n",
      "Layer (type)                 Output Shape              Param #   \n",
      "=================================================================\n",
      "flatten (Flatten)            (None, 18)                0         \n",
      "_________________________________________________________________\n",
      "dense_7 (Dense)              (None, 16)                304       \n",
      "_________________________________________________________________\n",
      "dense_8 (Dense)              (None, 1)                 17        \n",
      "=================================================================\n",
      "Total params: 321\n",
      "Trainable params: 321\n",
      "Non-trainable params: 0\n",
      "_________________________________________________________________\n"
     ]
    }
   ],
   "source": [
    "dnn.summary()"
   ]
  },
  {
   "cell_type": "code",
   "execution_count": 127,
   "id": "incoming-setting",
   "metadata": {},
   "outputs": [
    {
     "data": {
      "image/png": "[encoded data removed]",
      "text/plain": [
       "<Figure size 432x288 with 1 Axes>"
      ]
     },
     "metadata": {
      "needs_background": "light"
     },
     "output_type": "display_data"
    }
   ],
   "source": [
    "plot_training_history(history_dnn)"
   ]
  },
  {
   "cell_type": "code",
   "execution_count": 128,
   "id": "controversial-ideal",
   "metadata": {},
   "outputs": [
    {
     "name": "stdout",
     "output_type": "stream",
     "text": [
      "6/6 [==============================] - 0s 1ms/step - loss: 0.0152 - mean_absolute_percentage_error: 6.5232\n"
     ]
    }
   ],
   "source": [
    "dnn_results = dnn.evaluate(X_test, y_test)"
   ]
  },
  {
   "cell_type": "code",
   "execution_count": 129,
   "id": "computational-sponsorship",
   "metadata": {},
   "outputs": [
    {
     "name": "stdout",
     "output_type": "stream",
     "text": [
      "Feedforward DNN test error (%):  6.523\n"
     ]
    }
   ],
   "source": [
    "print('Feedforward DNN test error (%): ', round(dnn_results[1], 3))"
   ]
  },
  {
   "cell_type": "code",
   "execution_count": 130,
   "id": "removed-subdivision",
   "metadata": {},
   "outputs": [],
   "source": [
    "dnn_preds = dnn.predict(X_test)"
   ]
  },
  {
   "cell_type": "code",
   "execution_count": 131,
   "id": "similar-knight",
   "metadata": {},
   "outputs": [
    {
     "data": {
      "image/png": "[encoded data removed]",
      "text/plain": [
       "<Figure size 432x288 with 1 Axes>"
      ]
     },
     "metadata": {
      "needs_background": "light"
     },
     "output_type": "display_data"
    }
   ],
   "source": [
    "plt.figure()\n",
    "plt.plot(y_test, label='Real')\n",
    "plt.plot(dnn_preds, label='Predictions')\n",
    "plt.legend()\n",
    "plt.show()"
   ]
  },
  {
   "cell_type": "code",
   "execution_count": null,
   "id": "royal-classification",
   "metadata": {},
   "outputs": [],
   "source": []
  }
 ],
 "metadata": {
  "kernelspec": {
   "display_name": "Python 3",
   "language": "python",
   "name": "python3"
  },
  "language_info": {
   "codemirror_mode": {
    "name": "ipython",
    "version": 3
   },
   "file_extension": ".py",
   "mimetype": "text/x-python",
   "name": "python",
   "nbconvert_exporter": "python",
   "pygments_lexer": "ipython3",
   "version": "3.7.9"
  }
 },
 "nbformat": 4,
 "nbformat_minor": 5
}
